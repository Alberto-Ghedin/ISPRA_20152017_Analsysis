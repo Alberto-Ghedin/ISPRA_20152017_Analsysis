{
 "cells": [
  {
   "cell_type": "code",
   "execution_count": 1,
   "metadata": {},
   "outputs": [],
   "source": [
    "import numpy as np\n",
    "import pandas as pd\n",
    "import matplotlib.pyplot as plt\n",
    "import datetime\n",
    "import seaborn as sns\n",
    "import netCDF4\n",
    "import os\n",
    "from datetime import timedelta\n",
    "from itertools import chain\n",
    "import sys\n",
    "_HOME_ = os.path.expanduser('~') + \"/PHD\"\n",
    "from pandas.tseries.offsets import MonthEnd\n",
    "import xarray as xr"
   ]
  },
  {
   "cell_type": "code",
   "execution_count": 2,
   "metadata": {},
   "outputs": [],
   "source": [
    "_NETCDF_FILENAME_ = _HOME_ + \"/ISPRA_20152017_Analysis/Clustering/\"\n"
   ]
  },
  {
   "cell_type": "code",
   "execution_count": 3,
   "metadata": {},
   "outputs": [],
   "source": [
    "xr_temp = xr.open_dataset(_NETCDF_FILENAME_ + \"temp.nc\").isel(depth =  0).drop_vars('depth')\n",
    "xr_net_prim_prod = xr.open_dataset(_NETCDF_FILENAME_ + \"net_prim_prod.nc\").isel(depth =  0).drop_vars('depth').interp_like(xr_temp, method = \"nearest\")\n",
    "xr_mld = xr.open_dataset(_NETCDF_FILENAME_ + \"mld.nc\").interp_like(xr_temp, method = \"nearest\")\n",
    "xr_dic = xr.open_dataset(_NETCDF_FILENAME_ + \"dic.nc\").isel(depth =  0).drop_vars('depth').interp_like(xr_temp, method = \"nearest\")\n",
    "xr_sal = xr.open_dataset(_NETCDF_FILENAME_ + \"/sal.nc\").isel(depth =  0).drop_vars('depth').interp_like(xr_temp, method = \"nearest\")\n",
    "xr_o2 = xr.open_dataset(_NETCDF_FILENAME_ + \"/o2.nc\").isel(depth =  0).drop_vars('depth').interp_like(xr_temp, method = \"nearest\")\n",
    "xr_ph = xr.open_dataset(_NETCDF_FILENAME_ + \"/ph.nc\").isel(depth =  0).drop_vars('depth').interp_like(xr_temp, method = \"nearest\")\n",
    "xr_nh4 = xr.open_dataset(_NETCDF_FILENAME_ + \"/nh4.nc\").isel(depth =  0).drop_vars('depth').interp_like(xr_temp, method = \"nearest\")\n",
    "xr_chl_phyc = xr.open_dataset(_NETCDF_FILENAME_ + \"/chl_phyc.nc\").isel(depth =  0).drop_vars('depth').interp_like(xr_temp, method = \"nearest\")\n",
    "xr_no3_po4 = xr.open_dataset(_NETCDF_FILENAME_ + \"no3_po4.nc\").isel(depth =  0).drop_vars('depth').interp_like(xr_temp, method = \"nearest\")"
   ]
  },
  {
   "cell_type": "code",
   "execution_count": 4,
   "metadata": {},
   "outputs": [],
   "source": [
    "xr_vars = xr.merge([xr_temp, \n",
    "                    xr_net_prim_prod, \n",
    "                    xr_mld, \n",
    "                    xr_dic, \n",
    "                    xr_sal, \n",
    "                    xr_o2, \n",
    "                    xr_ph, \n",
    "                    xr_nh4, \n",
    "                    xr_chl_phyc, \n",
    "                    xr_no3_po4\n",
    "                    ]).rename({'latitude': 'Latitude', 'longitude': 'Longitude', \"time\" : \"Date\", \"thetao\" : \"temp\", \"mlotst\" : \"mld\", \"dissic\" : \"dic\", \"so\" : \"sal\"})"
   ]
  },
  {
   "cell_type": "code",
   "execution_count": 5,
   "metadata": {},
   "outputs": [],
   "source": [
    "xr_vars[\"Date\"] = pd.to_datetime(xr_vars[\"Date\"].values) + pd.offsets.MonthEnd(0)\n",
    "xr_vars = xr_vars.interpolate_na(dim = \"Longitude\", method=\"nearest\")"
   ]
  },
  {
   "cell_type": "code",
   "execution_count": 6,
   "metadata": {},
   "outputs": [],
   "source": [
    "id_dates = pd.read_csv(_HOME_ + \"/ISPRA_20152017_Analysis/sites_taxa_matrix.csv\", usecols = [\"Date\", \"id\"])"
   ]
  },
  {
   "cell_type": "code",
   "execution_count": 7,
   "metadata": {},
   "outputs": [],
   "source": [
    "stations = pd.merge(id_dates, pd.read_csv(_HOME_ + \"/ISPRA_20152017_Analysis/Stations_info.csv\"), on = \"id\", how = \"left\")"
   ]
  },
  {
   "cell_type": "code",
   "execution_count": 8,
   "metadata": {},
   "outputs": [],
   "source": [
    "Longitude = xr.DataArray(stations[\"Longitude\"].to_numpy(), dims=\"z\")\n",
    "Latitude = xr.DataArray(stations[\"Latitude\"].to_numpy(), dims=\"z\")\n",
    "dates = xr.DataArray(stations[\"Date\"].to_numpy(), dims=\"z\")"
   ]
  },
  {
   "cell_type": "code",
   "execution_count": 9,
   "metadata": {},
   "outputs": [],
   "source": [
    "xr_slice = xr_vars.sel(Latitude = Latitude, Longitude = Longitude, Date = dates, method = \"nearest\")"
   ]
  },
  {
   "cell_type": "code",
   "execution_count": 18,
   "metadata": {},
   "outputs": [],
   "source": [
    "xr_slice[\"id\"] = xr.DataArray(stations[\"id\"].to_numpy(), dims=\"z\")\n",
    "xr_slice[\"Closest_coast\t\"] = xr.DataArray(stations[\"Closest_coast\"].to_numpy(), dims=\"z\")\n",
    "xr_slice[\"Region\"] =  xr.DataArray(stations[\"Region\"].to_numpy(), dims=\"z\")"
   ]
  },
  {
   "cell_type": "code",
   "execution_count": 20,
   "metadata": {},
   "outputs": [],
   "source": [
    "xr_slice.to_dataframe().to_csv(_HOME_ + \"/ISPRA_20152017_Analysis/Clustering/Cop_variables_on_sampling_sites.csv\", index = False)"
   ]
  }
 ],
 "metadata": {
  "kernelspec": {
   "display_name": "base",
   "language": "python",
   "name": "python3"
  },
  "language_info": {
   "codemirror_mode": {
    "name": "ipython",
    "version": 3
   },
   "file_extension": ".py",
   "mimetype": "text/x-python",
   "name": "python",
   "nbconvert_exporter": "python",
   "pygments_lexer": "ipython3",
   "version": "3.11.7"
  }
 },
 "nbformat": 4,
 "nbformat_minor": 2
}
