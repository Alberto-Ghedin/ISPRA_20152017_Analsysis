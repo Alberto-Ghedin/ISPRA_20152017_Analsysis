{
 "cells": [
  {
   "cell_type": "code",
   "execution_count": 2,
   "metadata": {},
   "outputs": [],
   "source": [
    "import pandas as pd \n",
    "import numpy as np\n",
    "import matplotlib.pyplot as plt\n",
    "import seaborn as sns\n",
    "from os import path\n",
    "import json\n",
    "import os\n",
    "from pandas.tseries.offsets import MonthEnd\n",
    "from plotting import * \n",
    "import modify_dataset  \n",
    "from itertools import combinations\n",
    "from scipy.stats import entropy\n",
    "import matplotlib.patches as mpatches\n",
    "import matplotlib.colors as mcolors\n",
    "import matplotlib.patheffects as pe\n",
    "import itertools"
   ]
  },
  {
   "cell_type": "code",
   "execution_count": 3,
   "metadata": {},
   "outputs": [],
   "source": [
    "_HOME_ = path.expanduser(\"~\") + \"/PHD\""
   ]
  },
  {
   "cell_type": "code",
   "execution_count": 4,
   "metadata": {},
   "outputs": [],
   "source": [
    "phyto_abundances = pd.read_csv(_HOME_ + \"/MSFD/Data/Modulo1/phyto_abund_modified.csv\", index_col=0)\n",
    "phyto_abundances.loc[:, \"Date\"] = pd.to_datetime(phyto_abundances[\"Date\"])\n",
    "with open(_HOME_ + \"/ISPRA_20152017_Analysis/params.json\") as file: \n",
    "    params = json.load(file)\n",
    "best_path = params[\"best_path\"]\n",
    "best_path_sard = params[\"best_path_sard\"]\n",
    "ordered_regions = params[\"ordered_regions\"]\n",
    "seasons = params[\"seasons\"]\n",
    "sorted_season = params[\"sorted_season\"]\n",
    "sea_index = params[\"sea_index\"]\n",
    "ordered_id = params[\"ordered_id\"]\n",
    "sea_index_array = np.array(list(sea_index.values()))\n",
    "del params\n",
    "phyto_abund_simplified = modify_dataset.make_simplified_dataset(phyto_abundances, 0.7)\n",
    "phyto_abund_simplified = modify_dataset.add_season_column(phyto_abund_simplified, seasons)\n",
    "phyto_abund_simplified = modify_dataset.add_coast_dist_column(phyto_abund_simplified)\n",
    "phyto_abund_simplified[\"Date\"] = pd.to_datetime(phyto_abund_simplified[\"Date\"]) + MonthEnd(0)\n",
    "phyto_abund_simplified[\"Region\"] = pd.Categorical(phyto_abund_simplified[\"Region\"], categories = ordered_regions, ordered = True)\n",
    "taxonomic_tree = pd.read_excel(_HOME_ + \"/ISPRA_20152017_Analysis/Phyto_taxonomic_tree.xlsx\")\n",
    "taxonomic_tree.drop_duplicates(inplace=True)\n",
    "phyto_abund_simplified = phyto_abund_simplified.merge(taxonomic_tree.loc[:,[\"ScientificName\", \"Genus\", \"Class\"]], how = \"left\", left_on=\"Taxon\", right_on=\"ScientificName\")\n",
    "phyto_abund_simplified[\"Class\"] = phyto_abund_simplified[\"Class\"].astype(str)\n",
    "phyto_abund_simplified[\"Genus\"] = phyto_abund_simplified[\"Genus\"].astype(str)\n",
    "phyto_abund_simplified = modify_dataset.add_det_level_column(phyto_abund_simplified)\n",
    "phyto_abund_simplified = phyto_abund_simplified.loc[:,\n",
    "                                                    [\"Region\", \"id\", \"Longitude\", \"Latitude\", \"Closest_coast\", \"Coast_dist\", \"Date\", \"Season_year\", \"Season\", \"Sample_depth\", \"Class\", \"Genus\", \"Det_level\", \"Taxon\", \"Num_cell_l\", \"file_name\"]\n",
    "                                                    ]\n",
    "phyto_abund_simplified.loc[phyto_abund_simplified[\"Class\"] == \"nan\", \"Class\"] = phyto_abund_simplified.loc[phyto_abund_simplified[\"Class\"] == \"nan\", \"Taxon\"]\n",
    "#| phyto_abund_simplified[\"Genus\"].isna(), \"Genus\"\n",
    "phyto_abund_simplified.loc[(phyto_abund_simplified[\"Genus\"] == \"nan\"), \"Genus\"] = phyto_abund_simplified.loc[(phyto_abund_simplified[\"Genus\"] == \"nan\"), \"Taxon\"]\n",
    "higher_than_class = [\"Haptophyta\", \"Noctilucea\", \"Non flagellates\", \"Flagellates\"]\n",
    "phyto_abund_simplified = phyto_abund_simplified.query(\"Taxon not in @higher_than_class\")\n",
    "is_pseudo_nitzschia = phyto_abund_simplified[\"Taxon\"].isin([\"Pseudo-nitzschia spp. del nitzschia delicatissima complex\", \"Pseudo-nitzschia spp. del nitzschia seriata complex\"])\n",
    "phyto_abund_simplified.loc[is_pseudo_nitzschia, \"Taxon\"] = \"Pseudo-nitzschia spp.\"\n",
    "phyto_abund_simplified = phyto_abund_simplified.groupby([\"Region\", \"Season\", \"Date\", \"id\", \"Det_level\", \"Class\", \"Genus\", \"Taxon\"], observed=True).sum(numeric_only=True).reset_index()"
   ]
  },
  {
   "cell_type": "code",
   "execution_count": 6,
   "metadata": {},
   "outputs": [],
   "source": [
    "from sklearn.cluster import AgglomerativeClustering, SpectralClustering\n",
    "from scipy.cluster.hierarchy import fcluster\n",
    "\n",
    "def build_linkage_matrix(model) -> np.ndarray : \n",
    "    # create the counts of samples under each node\n",
    "    counts = np.zeros(model.children_.shape[0])\n",
    "    n_samples = len(model.labels_)\n",
    "    for i, merge in enumerate(model.children_):\n",
    "        current_count = 0\n",
    "        for child_idx in merge:\n",
    "            if child_idx < n_samples:\n",
    "                current_count += 1  # leaf node\n",
    "            else:\n",
    "                current_count += counts[child_idx - n_samples]\n",
    "        counts[i] = current_count\n",
    "\n",
    "    return np.column_stack(\n",
    "        [model.children_, model.distances_, counts]\n",
    "    ).astype(float)"
   ]
  },
  {
   "cell_type": "code",
   "execution_count": 45,
   "metadata": {},
   "outputs": [],
   "source": [
    "pres_abs = phyto_abund_simplified.query(\"Taxon != 'Other phytoplankton' and Region != 'Basilicata'\").pivot_table(index = [\"id\", \"Date\"], columns=\"Taxon\", values=\"Num_cell_l\", aggfunc=\"sum\", fill_value=0)"
   ]
  },
  {
   "cell_type": "code",
   "execution_count": 46,
   "metadata": {},
   "outputs": [],
   "source": [
    "pres_abs[pres_abs > 0] = 1"
   ]
  },
  {
   "cell_type": "code",
   "execution_count": 47,
   "metadata": {},
   "outputs": [],
   "source": [
    "pres_abs = pres_abs.loc[:, pres_abs.sum(axis = 0) > 22]"
   ]
  },
  {
   "cell_type": "code",
   "execution_count": 40,
   "metadata": {},
   "outputs": [],
   "source": [
    "from scipy.spatial.distance import pdist, squareform"
   ]
  },
  {
   "cell_type": "code",
   "execution_count": 51,
   "metadata": {},
   "outputs": [],
   "source": [
    "pres_abs_dist = squareform(pdist(pres_abs.to_numpy(), metric=\"braycurtis\"))"
   ]
  },
  {
   "cell_type": "code",
   "execution_count": 56,
   "metadata": {},
   "outputs": [
    {
     "data": {
      "text/plain": [
       "(2183, 2183)"
      ]
     },
     "execution_count": 56,
     "metadata": {},
     "output_type": "execute_result"
    }
   ],
   "source": [
    "pres_abs_dist.shape"
   ]
  },
  {
   "cell_type": "code",
   "execution_count": 59,
   "metadata": {},
   "outputs": [],
   "source": [
    "cluster_index = {}\n",
    "single_linkage_clustering = AgglomerativeClustering(n_clusters = None, metric = \"precomputed\", linkage = \"average\", compute_distances = True, compute_full_tree=True, distance_threshold=0.0)\n",
    "linkage_clusters = single_linkage_clustering.fit(pres_abs_dist)\n",
    "linkage_matrix = build_linkage_matrix(linkage_clusters)\n",
    "for n in range(2,13):\n",
    "    cluster_index[f\"ward_{n}\"] = fcluster(linkage_matrix, t = n, criterion = \"maxclust\")"
   ]
  }
 ],
 "metadata": {
  "kernelspec": {
   "display_name": "base",
   "language": "python",
   "name": "python3"
  },
  "language_info": {
   "codemirror_mode": {
    "name": "ipython",
    "version": 3
   },
   "file_extension": ".py",
   "mimetype": "text/x-python",
   "name": "python",
   "nbconvert_exporter": "python",
   "pygments_lexer": "ipython3",
   "version": "3.11.7"
  }
 },
 "nbformat": 4,
 "nbformat_minor": 2
}
