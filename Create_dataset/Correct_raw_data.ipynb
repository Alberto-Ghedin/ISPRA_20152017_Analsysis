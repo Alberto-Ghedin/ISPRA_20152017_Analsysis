{
 "cells": [
  {
   "cell_type": "code",
   "execution_count": 2,
   "metadata": {},
   "outputs": [
    {
     "name": "stderr",
     "output_type": "stream",
     "text": [
      "/home/alberto/miniconda3/lib/python3.11/site-packages/tqdm/auto.py:21: TqdmWarning: IProgress not found. Please update jupyter and ipywidgets. See https://ipywidgets.readthedocs.io/en/stable/user_install.html\n",
      "  from .autonotebook import tqdm as notebook_tqdm\n"
     ]
    }
   ],
   "source": [
    "#import class_database \n",
    "#import pymysql\n",
    "#from pymysql.constants import CLIENT\n",
    "import numpy as np\n",
    "import pandas as pd\n",
    "from scipy.cluster.hierarchy import dendrogram, to_tree, ClusterNode\n",
    "from sklearn.cluster import AgglomerativeClustering\n",
    "import matplotlib.pyplot as plt\n",
    "import seaborn as sns \n",
    "import matplotlib as mpl\n",
    "import datetime\n",
    "import os\n",
    "from itertools import accumulate\n",
    "from sklearn.metrics.pairwise import pairwise_distances, euclidean_distances\n",
    "from scipy.stats import entropy\n",
    "from math import floor\n",
    "from statsmodels.tsa.seasonal import seasonal_decompose\n",
    "import statsmodels.api as sm\n",
    "from patsy import dmatrices\n",
    "from tqdm.auto import tqdm\n",
    "#from Levenshtein import distance as lev\n",
    "import re"
   ]
  },
  {
   "cell_type": "code",
   "execution_count": 4,
   "metadata": {},
   "outputs": [],
   "source": [
    "_HOME_ = \"/home/alberto\""
   ]
  },
  {
   "cell_type": "code",
   "execution_count": 5,
   "metadata": {},
   "outputs": [],
   "source": [
    "def remove_additional_white_spaces(string): \n",
    "    return \" \".join(string.strip().split())"
   ]
  },
  {
   "cell_type": "code",
   "execution_count": 6,
   "metadata": {},
   "outputs": [
    {
     "ename": "NameError",
     "evalue": "name 'pymysql' is not defined",
     "output_type": "error",
     "traceback": [
      "\u001b[0;31m---------------------------------------------------------------------------\u001b[0m",
      "\u001b[0;31mNameError\u001b[0m                                 Traceback (most recent call last)",
      "\u001b[1;32m/home/alberto/PHD/ISPRA_20152017_Analysis/SQL/Correct_raw_data.ipynb Cell 4\u001b[0m line \u001b[0;36m1\n\u001b[0;32m----> <a href='vscode-notebook-cell:/home/alberto/PHD/ISPRA_20152017_Analysis/SQL/Correct_raw_data.ipynb#W3sZmlsZQ%3D%3D?line=0'>1</a>\u001b[0m con \u001b[39m=\u001b[39m pymysql\u001b[39m.\u001b[39mconnect(host\u001b[39m=\u001b[39m\u001b[39m\"\u001b[39m\u001b[39mlocalhost\u001b[39m\u001b[39m\"\u001b[39m,\n\u001b[1;32m      <a href='vscode-notebook-cell:/home/alberto/PHD/ISPRA_20152017_Analysis/SQL/Correct_raw_data.ipynb#W3sZmlsZQ%3D%3D?line=1'>2</a>\u001b[0m                           user\u001b[39m=\u001b[39m\u001b[39m\"\u001b[39m\u001b[39mPhD_alberto\u001b[39m\u001b[39m\"\u001b[39m,\n\u001b[1;32m      <a href='vscode-notebook-cell:/home/alberto/PHD/ISPRA_20152017_Analysis/SQL/Correct_raw_data.ipynb#W3sZmlsZQ%3D%3D?line=2'>3</a>\u001b[0m                           password\u001b[39m=\u001b[39m\u001b[39m\"\u001b[39m\u001b[39mMySQL@4869\u001b[39m\u001b[39m\"\u001b[39m,\n\u001b[1;32m      <a href='vscode-notebook-cell:/home/alberto/PHD/ISPRA_20152017_Analysis/SQL/Correct_raw_data.ipynb#W3sZmlsZQ%3D%3D?line=3'>4</a>\u001b[0m                           autocommit\u001b[39m=\u001b[39m\u001b[39mTrue\u001b[39;00m,\n\u001b[1;32m      <a href='vscode-notebook-cell:/home/alberto/PHD/ISPRA_20152017_Analysis/SQL/Correct_raw_data.ipynb#W3sZmlsZQ%3D%3D?line=4'>5</a>\u001b[0m                           client_flag\u001b[39m=\u001b[39mCLIENT\u001b[39m.\u001b[39mMULTI_STATEMENTS)\n\u001b[1;32m      <a href='vscode-notebook-cell:/home/alberto/PHD/ISPRA_20152017_Analysis/SQL/Correct_raw_data.ipynb#W3sZmlsZQ%3D%3D?line=7'>8</a>\u001b[0m database \u001b[39m=\u001b[39m class_database\u001b[39m.\u001b[39mDatabase(con, \u001b[39m\"\u001b[39m\u001b[39mMSFD_ARPA_20152017_MOD1\u001b[39m\u001b[39m\"\u001b[39m)\n\u001b[1;32m     <a href='vscode-notebook-cell:/home/alberto/PHD/ISPRA_20152017_Analysis/SQL/Correct_raw_data.ipynb#W3sZmlsZQ%3D%3D?line=9'>10</a>\u001b[0m database\u001b[39m.\u001b[39mswitch_to_db()\n",
      "\u001b[0;31mNameError\u001b[0m: name 'pymysql' is not defined"
     ]
    }
   ],
   "source": [
    "con = pymysql.connect(host=\"localhost\",\n",
    "                          user=\"PhD_alberto\",\n",
    "                          password=\"MySQL@4869\",\n",
    "                          autocommit=True,\n",
    "                          client_flag=CLIENT.MULTI_STATEMENTS)\n",
    "\n",
    "\n",
    "database = class_database.Database(con, \"MSFD_ARPA_20152017_MOD1\")\n",
    "\n",
    "database.switch_to_db()"
   ]
  },
  {
   "cell_type": "code",
   "execution_count": null,
   "metadata": {},
   "outputs": [],
   "source": [
    "df_lat_long_stations = database.extract_data(\"Stations\", \n",
    "                                             [\"id\", \"Latitude\", \"Longitude\", \"Closest_coast\"], \n",
    "                                             join_type_table_names={\"INNER\" : [\"Regions\"]},\n",
    "                                             join_type_select={\"INNER\" : [[\"Region\"]]},\n",
    "                                             join_type_on={\"INNER\" : [{\"Regions.id\" : \"Stations.Reg_id\"}]}\n",
    "                                             )\n",
    "phyto_points = df_lat_long_stations[[\"id\", \"Longitude\", \"Latitude\"]].dropna().set_index(\"id\")"
   ]
  },
  {
   "cell_type": "code",
   "execution_count": null,
   "metadata": {},
   "outputs": [
    {
     "name": "stderr",
     "output_type": "stream",
     "text": [
      "/tmp/ipykernel_8994/977035052.py:1: DtypeWarning: Columns (11) have mixed types. Specify dtype option on import or set low_memory=False.\n",
      "  phyto_abund_raw = pd.read_csv(\"/mnt/d/PHD/MSFD/Data/Modulo1/phyto_abund_raw.csv\")\n"
     ]
    }
   ],
   "source": [
    "phyto_abund_raw = pd.read_csv(_HOME_ + \"/PHD/MSFD/Data/Modulo1/phyto_abund_raw.csv\")\n",
    "phyto_abund_raw.rename(columns={\"NationalStationID\" : \"id\", \"Gruppo\" : \"Group\", \"Time\" : \"time\"}, inplace=True)\n",
    "phyto_abund_raw[\"id\"]  = phyto_abund_raw[\"id\"].apply(lambda x: x.split(\".\")[0])\n",
    "dates = [\n",
    "    datetime.date(year=year, month=month, day=day) \n",
    "    for year, month, day in phyto_abund_raw.loc[:, [\"Year\", \"Month\", \"Day\"]].to_numpy(np.int16)    \n",
    "]\n",
    "phyto_abund_raw.drop(columns = [\"Unnamed: 0\", \"Autore\", \"Year\", \"Month\", \"Day\"], inplace=True)\n",
    "phyto_abund_raw[\"Day\"] = dates\n",
    "phyto_abund_raw.loc[phyto_abund_raw[\"id\"] == '0004-M000200_TR03', \"id\"] = '0004-MS00200_TR03'\n",
    "phyto_abund_raw.loc[phyto_abund_raw[\"id\"] == '0004-M000200_TR06', \"id\"] = '0004-MS00200_TR06'\n",
    "phyto_abund_raw.loc[phyto_abund_raw[\"id\"] == '0004-M000200_TR12', \"id\"] = '0004-MS00200_TR12'"
   ]
  },
  {
   "cell_type": "code",
   "execution_count": null,
   "metadata": {},
   "outputs": [],
   "source": [
    "phyto_abund_raw.dropna(subset=[\"Num_cell_l\"], inplace=True)\n",
    "phyto_abund_raw.loc[84343,\"Group\"] = \"Dinoflagellati\"\n",
    "phyto_abund_raw.loc[124333, \"Group\"] = \"Diatomee\""
   ]
  },
  {
   "cell_type": "code",
   "execution_count": null,
   "metadata": {},
   "outputs": [],
   "source": [
    "phyto_list_excel = pd.read_excel(_HOME_ + \"/PHD/MSFD/Data/Modulo1/2019_01_mod_1_FITO.xls\", \"Lista_specie_fitoplancton\")\n",
    "phyto_list_excel = phyto_list_excel[\"TAXON\"]\n",
    "phyto_list_excel = phyto_list_excel.apply(remove_additional_white_spaces)"
   ]
  },
  {
   "cell_type": "code",
   "execution_count": null,
   "metadata": {},
   "outputs": [],
   "source": [
    "phyto_abund_raw = phyto_abund_raw.merge(df_lat_long_stations[[\"id\", \"Region\", \"Longitude\", \"Latitude\", \"Closest_coast\"]], how = \"left\", left_on=\"id\", right_on=\"id\")"
   ]
  },
  {
   "cell_type": "code",
   "execution_count": null,
   "metadata": {},
   "outputs": [],
   "source": [
    "phyto_abund_raw[\"Taxon\"] = np.where(phyto_abund_raw[\"Taxon\"].isna(), phyto_abund_raw[\"NuovoTaxon\"], phyto_abund_raw[\"Taxon\"])\n",
    "phyto_abund_raw.drop(columns = [\"NuovoTaxon\"], inplace=True)\n",
    "phyto_abund_raw.loc[~phyto_abund_raw[\"Taxon\"].isna(), \"Taxon\"] = phyto_abund_raw.loc[~phyto_abund_raw[\"Taxon\"].isna(), \"Taxon\"].apply(remove_additional_white_spaces)\n",
    "phyto_abund_raw.loc[phyto_abund_raw[\"Taxon\"].isna(), \"Taxon\"] = \"Altro fitoplancton\""
   ]
  },
  {
   "cell_type": "code",
   "execution_count": null,
   "metadata": {},
   "outputs": [],
   "source": [
    "phyto_abund_raw[\"Taxon\"] = phyto_abund_raw[\"Taxon\"].apply(str.capitalize)"
   ]
  },
  {
   "cell_type": "markdown",
   "metadata": {},
   "source": [
    "Errors: <br> \n",
    "Diatomee as genus <br>\n",
    "Gymnodiniaceae is a Family <br>\n",
    "Prasinophyceae is a class <br>\n",
    "Cisti is Cisticula? <br>\n",
    "Brachidinium is CORRECT Brachydinium IS NOT CORRECT <br>\n",
    "Oscillatoriales is an order but Oscillatoria is a genus<br>\n",
    "Cyanophyceae is a class <br>\n",
    "Gymnodiniales is an order <br>\n",
    "Bacillariales is an order <br>\n",
    "Eutreptiaceae is a family <br>\n",
    "Naviculaceae is a family <br>\n",
    "Cianophyceae : Cyanophyceae but is a Class <br>\n",
    "Pedinellaceae is a family <br>\n",
    "Bacillariophyta is a phylum <br>\n",
    "Peridiniales is an order <br>\n",
    "Flagellati is a group <br>\n",
    "Flagellato is Flagellati? <br>\n",
    "Coccolitophyceae : Coccolithophyceae but is a class <br>\n",
    "Coccolithopyceae : Coccolithophyceae but is a class <br>\n",
    "Chriptophyceae : Cryptophyceae but is a class <br>\n",
    "Pseudonitzschia : Pseudo-nitzschia the first one is better <br>\n",
    "Gonyaulacaceae is a family <br>\n",
    "Chlorophyta is a phylum <br>\n",
    "Dinoflagellata is a infraphylum <br>\n",
    "Prymnesiales is a order <br>\n",
    "Coccolithphyceae : Coccolithophyceae but is a class <br>\n",
    "Pedinellales is an order <br>\n",
    "Pseudo-nitzscha : Pseudo-nitzschia but Pseudonitzschia is better <br>\n",
    "Bacillariopyta : Bacillariophyta but is a phylum <br>\n",
    "Cianobatteri is a phylum <br>\n",
    "Prococystis : Podocystis or Photocystis <br>\n",
    "Haptophyta is a phylum <br>\n",
    "Chroococcales is an order <br>\n"
   ]
  },
  {
   "cell_type": "code",
   "execution_count": null,
   "metadata": {},
   "outputs": [],
   "source": [
    "corrected_genus = {\"Cf..\" : \"Cf.\", \n",
    " \"Phalachroma\" : \"Phalacroma\", \n",
    " \"Protoperidium\": \"Protoperidinium\",\n",
    " \"Nefroselmis\" : \"Nephroselmis\",\n",
    " \"Minuscola\" : \"Minuscula\",\n",
    " \"Tecati\" : \"Tecatia\", \n",
    " \"Heteroleiblenia\" : \"Heteroleibleinia\", \n",
    " \"Haloshpaera\" : \"Halosphaera\", \n",
    " \"Distephanus\" : \"Distephanopsis\", \n",
    " \"Talassionema\" : \"Thalassionema\", \n",
    " \"Hetrocapsa\" : \"Heterocapsa\", \n",
    " \"Pyramonas\" : \"Pyramimonas\", \n",
    " \"Nitzchia\" : \"Nitzschia\", \n",
    " \"Chaetocheros\" : \"Chaetoceros\", \n",
    " \"Rhodomonascf.\" : \"Rhodomonas cf.\", \n",
    " \"Syrachosphaera\" : \"Syracosphaera\", \n",
    " \"Indeterminat\" : \"Indeterminato\", \n",
    " \"Gunardia\" : \"Guinardia\", \n",
    " \"Oxitoxum\" : \"Oxytoxum\", \n",
    " \"Altro_fitoplanctonerminati\" : \"Altro_fitoplancton\", \n",
    " \"Mesoporus\" : \"Mesoporos\", \n",
    " \"Schuetiella\" : \"Schuettiella\", \n",
    " \"Chatoceros\" : \"Chaetoceros\", \n",
    " \"Dicosphaera\" : \"Discosphaera\", \n",
    " \"Prorocenrum\" : \"Prorocentrum\", \n",
    " \"Chrysocromulina\" : \"Chrysochromulina\", \n",
    " \"Dictyoca\" : \"Dictyocha\", \n",
    " \"Mesoporo\" : \"Mesoporos\", \n",
    " \"Octastis\": \"Octactis\", \n",
    " \"Ceratum\" : \"Ceratium\", \n",
    " \"Schripsiella\" : \"Scrippsiella\", \n",
    " \"Ceratulina\" : \"Cerataulina\", \n",
    " \"Guanardia\" : \"Guinardia\", \n",
    " \"Leptocilindrus\" : \"Leptocylindrus\", \n",
    " \"Cilindrotheca\" : \"Cylindrotheca\", \n",
    " \"Hemialus\" : \"Hemiaulus\", \n",
    " \"Thalassionemasp.\" : \"Thalassionema\", \n",
    " \"Asterinellopsis\" : \"Asterionellopsis\", \n",
    " \"Dactysolen\" : \"Dactyliosolen\",\n",
    " \"Dactylosolen\" : \"Dactyliosolen\",\n",
    " \"Psudosolenia\" : \"Pseudosolenia\", \n",
    " \"Amphididium\" : \"Amphidinium\", \n",
    " \"Lessar\" : \"Lessardia\",\n",
    " \"Oxyoxum\" : \"Oxytoxum\", \n",
    " \"Crysophyceae\" : \"Chrysophyceae\", \n",
    " \"Hasleasp\" : \"Haslea sp.\", \n",
    " \"Gyrodinum\" : \"Gyrodinium\", \n",
    " \"Gymnodium\" : \"Gymnodinium\", \n",
    " \"Mesopros\" : \"Mesoporos\", \n",
    " \"Hemialius\" : \"Hemiaulus\", \n",
    " \"Gonylaux\" : \"Gonyaulax\", \n",
    " \"Proprocentrum\" : \"Prorocentrum\", \n",
    " \"Protopteridinium\" : \"Protoperidinium\", \n",
    " \"Kofodinium\" : \"Kofoidinium\",\n",
    " \"Protopterodinium\" : \"Protoperidinium\", \n",
    " \"Chaetocerus\" : \"Chaetoceros\", \n",
    " \"Rhabdosphera\" : \"Rhabdosphaera\", \n",
    " \"Girosigma\" : \"Gyrosigma\", \n",
    " \"Protoperidinuum\" : \"Protoperidinium\", \n",
    " \"Alexandrinum\" : \"Alexandrium\", \n",
    " \"Brachydinium\" : \"Brachidinium\", \n",
    " \"Pseudo-nitzschia\" : \"Pseudonitzschia\"\n",
    " }"
   ]
  },
  {
   "cell_type": "code",
   "execution_count": null,
   "metadata": {},
   "outputs": [],
   "source": [
    "taxa = phyto_abund_raw[\"Taxon\"].to_numpy()\n",
    "\n",
    "for i, taxon in enumerate(taxa): \n",
    "    try: \n",
    "        first, second = taxon.split(\" \", maxsplit = 1)\n",
    "        if first in corrected_genus.keys():\n",
    "            first = corrected_genus[first]\n",
    "        taxa[i] = first + \" \" + second\n",
    "    except: \n",
    "        if taxon == \"Hasleasp\": \n",
    "            taxa[i] = taxon.replace(\"Hasleasp\", \"Haslea sp.\")\n",
    "        if taxon == \"Thalassionemasp.\":\n",
    "            taxa[i] = taxon.replace(\"Thalassionemasp.\", \"Thalassionema sp.\")"
   ]
  },
  {
   "cell_type": "code",
   "execution_count": null,
   "metadata": {},
   "outputs": [],
   "source": [
    "for i, taxon in enumerate(taxa):\n",
    "    taxon = re.sub(\"(sp\\.p\\.+|sp\\.p\\.+|spp\\.+|sp\\.p\\.\\.|spp\\.\\.|sp\\.p|spp|sp\\. p\\.)\", \"spp.\", taxon)\n",
    "    taxon = re.sub(\"(sp$|sp.2)\", \"sp.\", taxon)\n",
    "    taxon = re.sub('(?<=[.,])(?=[^\\s])', ' ', taxon)\n",
    "    taxon = re.sub(\"indet\\.*\", \"indet.\", taxon)\n",
    "    taxon = re.sub(\"cf\\.*\", \"cf.\", taxon)\n",
    "    taxon = re.sub(\"(Pseudo-nitzschia|Pseudo nitzschia)\", \"Pseudonitzschia\", taxon)\n",
    "    taxa[i] = taxon"
   ]
  },
  {
   "cell_type": "code",
   "execution_count": null,
   "metadata": {},
   "outputs": [],
   "source": [
    "#correction to my dataset\n",
    "match_taxa = {\n",
    "    \"Gunardia striata\" : \"Guinardia striata\", \n",
    "    \"Guanardia striata\" : \"Guinardia striata\", \n",
    "    \"Gymnodinium wulfii\" : \"Gymnodinium wulffii\",\n",
    "    \"Altro fitoplancton\" : \"Other phytoplankton\", \n",
    "    \"Gyrodinium fusiform\" : \"Gyrodinium fusiforme\",\n",
    "    \"Gyrodinium fusiformis.\" : \"Gyrodinium fusiforme\",\n",
    "    \"Altro fitoplancton indet.\" : \"Other phytoplankton\",\n",
    "    \"Hemialius hauckii\" : \"Hemiaulus hauckii\", \n",
    "    \"Hemiaulus haukii\" : \"Hemiaulus hauckii\",\n",
    "    \"Hemiaulus senensis\" : \"Hemiaulus sinensis\",\n",
    "    \"Hemiaulus seniensis\" :  \"Hemiaulus sinensis\",\n",
    "    \"Hemiaulus siniensis\" : \"Hemiaulus sinensis\",\n",
    "    \"Heterocapsa rotondata\" : \"Heterocapsa rotundata\",\n",
    "    \"Karenia papillionacea\" : \"Karenia papilionacea\",\n",
    "    \"Karenia papillonacea\" : \"Karenia papilionacea\", \n",
    "    \"Kofodinium sp.\" : \"Kofoidinium sp.\",\n",
    "    \"Lauderia annullata\" : \"Lauderia annulata\",\n",
    "    \"Leptocylindrus cf. . convexus\" : \"Leptocylindrus cf. convexus\", \n",
    "    \"Leptocylindrus miimus\" : \"Leptocylindrus minimus\",\n",
    "    \"Leptocylindrus minimum\" : \"Leptocylindrus minimus\",\n",
    "    \"Mesoporus adriaticus\" : \"Mesoporos adriaticus\",\n",
    "    \"Mesoporus spp.\" : \"Mesoporos spp.\",\n",
    "    \"Mesopros sp.\" : \"Mesoporos sp.\",\n",
    "    \"Mesoporo\" : \"Mesoporo sp.\",\n",
    "    \"Minuscola bipes\" : \"Minuscula bipes\",\n",
    "    \"Navicula\" : \"Navicula spp.\",\n",
    "    \"Nitzchia sp.\" : \"Nitzschia sp.\",\n",
    "    \"Prorocentrum compressus\" : \"Prorocentrum compressum\",\n",
    "    \"Prorocentrum sp. inf 20 µm\" : \"Prorocentrum sp. (ø inf. 20µm)\",\n",
    "    \"Prorocentrum sp. sup 20 µm\" : \"Prorocentrum sp. (ø sup. 20µm)\",\n",
    "    \"Prorocentrum spp. sup 20 µm\" : \"Prorocentrum spp. (ø sup. 20µm)\",\n",
    "    \"Group\" : \"Other phytoplankton\",\n",
    "    \"Protoperidinium inf 20 µm\" : \"Protoperidinium indet. (ø inf. 20µm)\",\n",
    "    \"Protoperidinium o pentapharsodinium\" : \"Other phytoplankton\",\n",
    "    \"Protopteridinium steini\" : \"Protoperidinium steinii\",\n",
    "    \"Protopterodinium steini\" : \"Protoperidinium steinii\",\n",
    "    \"Pseudosolenia calcar avis\" : \"Pseudosolenia calcar-avis\",\n",
    "    \"Psudosolenia calcar-avis\" : \"Pseudosolenia calcar-avis\",\n",
    "    \"Rhizosolenia calcar avis\" : \"Rhizosolenia calcar-avis\",\n",
    "    \"Rhizosolenia clevei var communis\" : \"Rhizosolenia clevei var. communis\",\n",
    "    \"Thalassionema fraunfeldii\" : \"Thalassionema frauenfeldii\",\n",
    "    \"Thalassionema nitzschiodies\" : \"Thalassionema nitzschioides\",\n",
    "    \"Thalassionema nitzschoides\" : \"Thalassionema nitzschioides\",\n",
    "    \"Syracosphaera pulcra\" : \"Syracosphaera pulchra\",\n",
    "    \"Indeterminat inon flagellati sup 20 µm\" : \"Other phytoplankton (ø sup. 20µm)\", \n",
    "    \"Altro fitoplancton indet. (ø inf. 20µm)\" : \"Other phytoplankton (ø inf. 20µm)\",\n",
    "    \"Altro fitoplancton indet. (ø sup. 20µm)\" : \"Other phytoplankton (ø sup. 20µm)\", \n",
    "    \"Altro_fitoplanctonerminati inf 20 µm\" : \"Other phytoplankton (ø sup. 20µm)\", \n",
    "    \"Altro_fitoplanctonerminati non flagellati sup 20 µm\" : \"Other phytoplankton (ø sup. 20µm)\", \n",
    "    \"Asteromphaluscf. parvulus\" : \"Asteromphalus cf. parvulus\",\n",
    "    \"Ceratium fusum\" : \"Ceratium fusus\",\n",
    "    \"Asteromphaluscf. sarcophagus\" : \"Asteromphalus cf. sarcophagus\",\n",
    "    \"Altro_fitoplancton inf 20 µm\" : \"Other phytoplankton (ø inf. 20µm)\", \n",
    "    \"Altro_fitoplancton non flagellati sup 20 µm\" : \"Other phytoplankton (ø sup. 20µm)\", \n",
    "    \"Bacillariophyceae\" : \"Bacillariophyceae indet.\", \n",
    "    \"Bacillariophyceae < 20\" : \"Bacillariophyceae indet. (ø inf. 20µm)\", \n",
    "    \"Bacillariophyceae indet. < 20\" : \"Bacillariophyceae indet. (ø inf. 20µm)\",\n",
    "    \"Bacillariophyceae indet. < 20um\" : \"Bacillariophyceae indet. (ø inf. 20µm)\",\n",
    "    \"Bacillariophyceae inf 20 micron\" : \"Bacillariophyceae indet. (ø inf. 20µm)\",\n",
    "    \"Bacillariophyceae sup 20 micron\" : \"Bacillariophyceae indet. (ø sup. 20µm)\", \n",
    "    \"Bacillariophyta\" : \"Bacillariophyta indet.\",\n",
    "    \"Bacillariopyta inf 20 micron\" : \"Bacillariophyta indet. (ø inf. 20µm)\",\n",
    "    \"Bacillariophyta inf 20 micron\" : \"Bacillariophyta indet. (ø inf. 20µm)\", \n",
    "    \"Bacillariophyta inf 20 µm\" : \"Bacillariophyta indet. (ø inf. 20µm)\", \n",
    "    \"Bacillariophyta inf. 20 micron\" : \"Bacillariophyta indet. (ø inf. 20µm)\",\n",
    "    \"Bacillariophyta inf. 20 µm\" : \"Bacillariophyta indet. (ø inf. 20µm)\",\n",
    "    \"Bacillariophyta sup 20 micon\" : \"Bacillariophyta indet. (ø sup. 20µm)\",\n",
    "    \"Bacillariophyta sup 20 micron\" : \"Bacillariophyta indet. (ø sup. 20µm)\",\n",
    "    \"Bacillariophyta sup 20 µm\" : \"Bacillariophyta indet. (ø sup. 20µm)\",\n",
    "    \"Bacillariophyta sup. 20 micron\" : \"Bacillariophyta indet. (ø sup. 20µm)\",\n",
    "    \"Bacillariophyta sup. 20 µm\": \"Bacillariophyta indet. (ø sup. 20µm)\",\n",
    "    \"Bacillariophyta indet. (ø sup. 20µm)\" :\"Bacillariophyta indet. (ø sup. 20µm)\", \n",
    "    \"Cf. . amphidinium spp.\" : \"Cf. amphidinium spp.\",\n",
    "    \"Chaetoceros anastamousus\" : \"Chaetoceros anastomosans\",\n",
    "    \"Chaetoceros anastemousus\" : \"Chaetoceros anastomosans\",\n",
    "    \"Chaetoceros anastomonas\" : \"Chaetoceros anastomosans\",\n",
    "    \"Chaetoceros anastomosous\" : \"Chaetoceros anastomosans\",\n",
    "    \"Chaetoceros anastomosus\" : \"Chaetoceros anastomosans\",\n",
    "    \"Chaetoceros anastomousus\" : \"Chaetoceros anastomosans\",\n",
    "    \"Chaetoceros anastoumosus\" : \"Chaetoceros anastomosans\", \n",
    "    \"Chlorodendrophyceae\" : \"Chlorodendrophyceae indet.\", \n",
    "    \"Chlorophyceae\" : \"Chlorophyceae indet.\", \n",
    "    \"Chlorophyta\" : \"Chlorophyta indet.\", \n",
    "    \"Chriptophyceae\" : \"Cryptophyceae indet.\", \n",
    "    \"Chroococcales\" : \"Chroococcales indet.\", \n",
    "    \"Chrysochromulina\" : \"Chrysochromulina sp.\", \n",
    "    \"Chrysocromulina\" : \"Chrysochromulina sp.\", \n",
    "    \"Chrysophyceae\" : \"Chrysophyceae indet.\",\n",
    "    \"Chrysophyceae indet\" : \"Chrysophyceae indet.\", \n",
    "    \"Cianobatteri filamentosi\" : \"Cyanobacteria\",\n",
    "    \"Cianobatteri non filamentosi\" : \"Cyanobacteria\", \n",
    "    \"Cianophyceae indet\" : \"Cyanophyceae indet.\", \n",
    "    \"Cisti di protoperidinium sp.\" : \"Protoperidinium sp.\", \n",
    "    \"Coccolithophyceae\" : \"Coccolithophyceae indet.\",\n",
    "    \"Coccolithophyceae indet. < 20\" : \"Coccolithophyceae indet. (ø inf. 20µm)\",\n",
    "    \"Coccolithopyceae\" : \"Coccolithophyceae indet.\",\n",
    "    \"Coccolithphyceae\" : \"Coccolithophyceae indet.\",\n",
    "    \"Coccolitophyceae\" : \"Coccolithophyceae indet.\",\n",
    "    \"Coccolitophyceae indet.\" : \"Coccolithophyceae indet.\",\n",
    "    \"Coccolitophyceae sup 20 µm\" : \"Coccolithophyceae indet. (ø sup. 20µm)\",\n",
    "    \"Coscinodiscophyceae\" : \"Coscinodiscophyceae indet.\", \n",
    "    \"Cryptophyceae\" : \"Cryptophyceae indet.\",\n",
    "    \"Cyanophyceae\" : \"Cyanophyceae indet.\",\n",
    "    \"Cyanophyceae indet\" : \"Cyanophyceae indet.\",\n",
    "    \"Cyanophyceae indet filamenti\" : \"Cyanophyceae indet.\", \n",
    "    \"Diatoma\" : \"Diatoma sp.\",\n",
    "    \"Diatoma s. p.\" : \"Diatoma sp.\",\n",
    "    \"Diatoma s. p. p.\" : \"Diatoma spp.\",\n",
    "    \"Diatomee indet\" : \"Diatomee indet.\",\n",
    "    \"Dictyochophyceae\" : \"Dictyochophyceae indet.\", \n",
    "    \"Dinoflagellata\" : \"Dinoflagellata indet.\",\n",
    "    \"Dinoflagellati\" : \"Dinoflagellata indet.\",\n",
    "    \"Dinoflagellati indet.\" : \"Dinoflagellata indet.\",\n",
    "    \"Dinoflagellati indet. (ø inf. 20µm)\" : \"Dinoflagellata indet. (Ø inf. 20µm)\",\n",
    "    \"Dinoflagellati indet. (ø sup. 20µm)\" : \"Dinoflagellata indet. (Ø sup. 20µm)\",\n",
    "    \"Dinophyceae\" : \"Dinophyceae indet.\",\n",
    "    \"Dinophyceae indet (ø sup. 20µm)\" : \"Dinophyceae indet. (ø sup. 20µm)\",\n",
    "    \"Dinophyceae inf 20 micron\" : \"Dinophyceae indet. (ø inf. 20µm)\",\n",
    "    \"Dinophyceae inferiori 20 micron\" : \"Dinophyceae indet. (ø inf. 20µm)\",\n",
    "    \"Dinophyceae sup 20 micron\" : \"Dinophyceae indet. (ø sup. 20µm)\",\n",
    "    \"Dinophyceae sup 20 µm\" : \"Dinophyceae indet. (ø sup. 20µm)\",\n",
    "    \"Dinophyceae sup. 20 micron\" : \"Dinophyceae indet. (ø sup. 20µm)\",\n",
    "    \"Dinophyceae superiori 20 micron\" : \"Dinophyceae indet. (ø sup. 20µm)\", \n",
    "    \"Euglenophyceae\" : \"Euglenophyceae indet.\",\n",
    "    \"Euglenophyceae indet. < 20 µm\" : \"Euglenophyceae indet. (ø inf. 20µm)\",\n",
    "    \"Euglenophyceae indet. > 20 µm\" : \"Euglenophyceae indet. (ø sup. 20µm)\",\n",
    "    \"Eutreptiaceae\" : \"Eutreptiaceae indet.\",\n",
    "    \"Eutreptiaceae indet\" : \"Eutreptiaceae indet.\",\n",
    "    \"Eutreptiella\" : \"Eutreptiella sp.\",\n",
    "    \"Fitoplancton indet.\" : \"Other phytoplankton\",\n",
    "    \"Flagellati inf 20 micron\" : \"Flagellates indet. (ø inf. 20µm)\",\n",
    "    \"Flagellati inf 20 µm\" : \"Flagellates indet. (ø inf. 20µm)\",\n",
    "    \"Flagellati inf a 20 micron\" : \"Flagellates indet. (ø inf. 20µm)\",\n",
    "    \"Flagellati inf a 20 µm\" : \"Flagellates indet. (ø inf. 20µm)\",\n",
    "    \"Flagellato inf 20 µm\" : \"Flagellates indet. (ø inf. 20µm)\",\n",
    "    \"Gymnodiniaceae\" : \"Gymnodiniaceae indet.\", \n",
    "    \"Gymnodiniaceae inf 20 micron\" : \"Gymnodiniaceae indet. (ø inf. 20µm)\",\n",
    "    \"Gymnodiniaceae inf 20 µm\" : \"Gymnodiniaceae indet. (ø inf. 20µm)\",\n",
    "    \"Gymnodiniaceae sup 20 micron\" : \"Gymnodiniaceae indet. (ø sup. 20µm)\",\n",
    "    \"Gymnodiniaceae sup 20 µm\" : \"Gymnodiniaceae indet. (ø sup. 20µm)\",\n",
    "    \"Gymnodiniales\" : \"Gymnodiniales indet.\",\n",
    "    \"Gymnodiniales (ø inf. 20µm)\" : \"Gymnodiniales indet. (ø inf. 20µm)\",\n",
    "    \"Gymnodiniales inf 20 micron\" : \"Gymnodiniales indet. (ø inf. 20µm)\",\n",
    "    \"Gymnodiniales inf 20 µm\" : \"Gymnodiniales indet. (ø inf. 20µm)\",\n",
    "    \"Gymnodiniales sup 20 micron\" : \"Gymnodiniales indet. (ø sup. 20µm)\",\n",
    "    \"Gymnodiniales sup 20 µm\" : \"Gymnodiniales indet. (ø sup. 20µm)\",\n",
    "    \"Haptophyta\" : \"Haptophyta indet.\", \n",
    "    \"Ind. sup 20 micron\" : \"Other phytoplankton\",\n",
    "    \"Indet\" : \"Other phytoplankton\",\n",
    "    \"Indeterminati\" : \"Other phytoplankton\",\n",
    "    \"Indeterminati forma siluro sup. 20 µm\" : \"Other phytoplankton (Ø sup. 20µm)\",\n",
    "    \"Indeterminati inf 20 micron\" : \"Other phytoplankton (Ø inf. 20µm)\",\n",
    "    \"Indeterminati inf 20 µm\" : \"Other phytoplankton (Ø inf. 20µm)\",\n",
    "    \"Indeterminati inf. 20 micron\" : \"Other phytoplankton (Ø inf. 20µm)\",\n",
    "    \"Indeterminati non flag inf. 20 micron\" : \"Other phytoplankton (Ø inf. 20µm)\",\n",
    "    \"Indeterminati non flag inf. 20 µm\" : \"Other phytoplankton (Ø inf. 20µm)\",\n",
    "    \"Indeterminati non flag sup. 20 micron\" : \"Other phytoplankton (Ø sup. 20µm)\",\n",
    "    \"Indeterminati non flag sup. 20 µm\" : \"Other phytoplankton (Ø sup. 20µm)\",\n",
    "    \"Indeterminati non flagellati\" : \"Other phytoplankton\",\n",
    "    \"Indeterminati non flagellati inf 20 micron\" : \"Other phytoplankton (Ø inf. 20µm)\",\n",
    "    \"Indeterminati non flagellati inf 20 µm\" : \"Other phytoplankton (Ø inf. 20µm)\",\n",
    "    \"Indeterminati non flagellati sup 20 micron\" : \"Other phytoplankton (Ø sup. 20µm)\",\n",
    "    \"Indeterminati non flagellati sup 20 µm\" : \"Other phytoplankton (Ø sup. 20µm)\",\n",
    "    \"Indeterminati sup 20 micron\" : \"Other phytoplankton (Ø sup. 20µm)\",\n",
    "    \"Indeterminati sup 20 µm\" : \"Other phytoplankton (Ø sup. 20µm)\",\n",
    "    \"Indeterminati sup a 20 micron\" : \"Other phytoplankton (Ø sup. 20µm)\",\n",
    "    \"Indeterminati sup. 20 micron\" : \"Other phytoplankton (Ø sup. 20µm)\",\n",
    "    \"Indeterminato inon flagellati sup 20 µm\" : \"Other phytoplankton (Ø sup. 20µm)\",\n",
    "    \"Indeterminato non flagellato inf 20 µm\" : \"Other phytoplankton (Ø inf. 20µm)\",\n",
    "    \"Indeterminato non flagellato sup 20 µm\" : \"Other phytoplankton (Ø sup. 20µm)\",\n",
    "    \"Indeterminato sup 20 µm\" : \"Other phytoplankton (Ø sup. 20µm)\",\n",
    "    \"Lessardia elongata > 20 um\" : \"Lessardia elongata\",\n",
    "    \"Navicula sp. inf 20 µm\" : \"Navicula sp. (Ø inf. 20µm)\",\n",
    "    \"Navicula sp. sup 20 µm\" : \"Navicula sp. (Ø sup. 20µm)\",\n",
    "    \"Navicula spp. sup 20 micron\" : \"Navicula spp. (Ø sup. 20µm)\",\n",
    "    \"Navicula spp. sup. 20 micron\" : \"Navicula spp. (Ø sup. 20µm)\",\n",
    "    \"Naviculaceae indet\" : \"Naviculaceae indet.\",\n",
    "    \"Octactis octonaria v. pulchra\" : \"Octactis octonaria var. pulchra\", \n",
    "    \"Oscillatoriales\" : \"Oscillatoriales indet.\",\n",
    "    \"Oscillatoriales ind.\" : \"Oscillatoriales indet.\",\n",
    "    \"Oxytoxum variabile < 20\" : \"Oxytoxum variabile\",\n",
    "    \"Oxytoxum variabile < 20 µm\" : \"Oxytoxum variabile\",\n",
    "    \"Oxytoxum variabile > 20\" : \"Oxytoxum variabile\",\n",
    "    \"Oxytoxum variabile > 20 µm\" : \"Oxytoxum variabile\",\n",
    "    \"Pedinellaceae\" : \"Pedinellaceae indet.\",\n",
    "    \"Pedinellaceae indet\" : \"Pedinellaceae indet.\",\n",
    "    \"Pedinellales\" : \"Pedinellales indet.\", \n",
    "    \"Peridiniales\" : \"Peridiniales indet.\",\n",
    "    \"Peridiniales inf 20 micron\" : \"Peridiniales indet. (Ø inf. 20µm)\",\n",
    "    \"Peridiniales spp.\" : \"Peridiniales indet.\",\n",
    "    \"Peridiniales sup. 20 micron\" : \"Peridiniales indet. (Ø sup. 20µm)\", \n",
    "    \"Plagioselmis\" : \"Plagioselmis sp.\", \n",
    "    \"Prasinophyceae\" : \"Prasinophyceae indet.\",\n",
    "    \"Prasinophyceae indet\" : \"Prasinophyceae indet.\",\n",
    "    \"Prymnesiales\" : \"Prymnesium indet.\",\n",
    "    \"Prymnesiophyceae\" : \"Coccolithophyceae indet.\",\n",
    "    \"Prymnesiophyceae indet.\" : \"Coccolithophyceae indet.\",\n",
    "    \"Pseudo nitzschia cf. fraudolenta\" : \"Pseudonitzschia cf. fraudolenta\",\n",
    "    \"Pseudo nitzschia spp.\" : \"Pseudonitzschia spp.\",\n",
    "    \"Pseudo nitzschia subfraudolenta\" : \"Pseudonitzschia subfraudolenta\",\n",
    "    \"Pseudo-nitzscha spp.\" : \"Pseudonitzschia spp.\", \n",
    "    \"Pseudonitzschia group spp.\" : \"Pseudonitzschia spp.\", \n",
    "    \"Pseudonitzschia pseudelicatissima\" : \"Pseudonitzschia pseudodelicatissima\",\n",
    "    \"Pseudonitzschia pseudodelicatissima group\" : \"Pseudonitzschia pseudodelicatissima\",\n",
    "    \"Pseudonitzschia s.\" : \"Pseudonitzschia sp.\", \n",
    "    \"Pseudosolenia calcar- avis\" : \"Pseudosolenia calcar-avis\",\n",
    "    \"Pyramimonadophyceae\" : \"Pyramimonadophyceae indet.\",\n",
    "    \"Raphidophyceae\" : \"Raphidophyceae indet.\",\n",
    "    \"Raphidophyceae indt.\" : \"Raphidophyceae indet.\",\n",
    "    \"Syracosphaera pulchra > 20\" : \"Syracosphaera pulchra\",\n",
    "    \"Syracosphaera pulchra > 20um\" : \"Syracosphaera pulchra\",\n",
    "    \"Torodinium robustum > 20\" : \"Torodinium robustum\", \n",
    "    \"Cianophyceae indet.\" : \"Cyanophyceae indet.\", \n",
    "    \"Coscinodiscophycea indet.\" : \"Coscinodiscophycidae indet.\", \n",
    "    \"Flagellates indet. (ø inf. 20µm)\" : \"Protozoa indet. (ø inf. 20µm)\", \n",
    "    \"Pseudonitzschia fraudolenta\" : \"Pseudonitzschia fraudulenta\", \n",
    "    \"Pseudonitzschia delicatissima.\" : \"Pseudonitzschia delicatissima\", \n",
    "    \"A. cf. aculeata\" : \"Acanthocardia sp.\"\n",
    "    }"
   ]
  },
  {
   "cell_type": "code",
   "execution_count": null,
   "metadata": {},
   "outputs": [],
   "source": [
    "taxa = np.array([match_taxa[taxon] if taxon in match_taxa.keys() else taxon for taxon in taxa])"
   ]
  },
  {
   "cell_type": "code",
   "execution_count": null,
   "metadata": {},
   "outputs": [],
   "source": [
    "phyto_abund_raw[\"Taxon\"] = taxa"
   ]
  },
  {
   "cell_type": "code",
   "execution_count": null,
   "metadata": {},
   "outputs": [],
   "source": [
    "phyto_abund_raw[[\"Region\", \"id\", \"Longitude\", \"Latitude\", \"Closest_coast\", \"Day\", \"time\", \"SampleDepth\", \"Group\", \"Taxon\", \"Num_cell_l\"]].to_csv(\"/mnt/d/PHD/MSFD/Data/Modulo1/phyto_abund_corrected.csv\")\n",
    "del phyto_abund_raw"
   ]
  },
  {
   "cell_type": "markdown",
   "metadata": {},
   "source": [
    "## modify dataset "
   ]
  },
  {
   "cell_type": "markdown",
   "metadata": {},
   "source": [
    "subsituting in Marche samples with \"<120\" cell/L with uniform random number "
   ]
  },
  {
   "cell_type": "code",
   "execution_count": 7,
   "metadata": {},
   "outputs": [
    {
     "name": "stderr",
     "output_type": "stream",
     "text": [
      "/tmp/ipykernel_2316/2115254911.py:1: DtypeWarning: Columns (11) have mixed types. Specify dtype option on import or set low_memory=False.\n",
      "  phyto_abundances = pd.read_csv(_HOME_ + \"/PHD/MSFD/Data/Modulo1/phyto_abund_corrected.csv\",index_col=0)\n"
     ]
    }
   ],
   "source": [
    "phyto_abundances = pd.read_csv(_HOME_ + \"/PHD/MSFD/Data/Modulo1/phyto_abund_corrected.csv\",index_col=0)"
   ]
  },
  {
   "cell_type": "code",
   "execution_count": 8,
   "metadata": {},
   "outputs": [],
   "source": [
    "phyto_abundances.loc[phyto_abundances[\"Num_cell_l\"] == \"<120\", \"Num_cell_l\"] = np.vectorize(str)(np.random.randint(10, 120, phyto_abundances.loc[phyto_abundances[\"Num_cell_l\"] == \"<120\", \"Num_cell_l\"].size))\n",
    "phyto_abundances[\"Num_cell_l\"] = phyto_abundances[\"Num_cell_l\"].astype(float)\n",
    "phyto_abundances.rename(columns={\"SampleDepth\" : \"Sample_depth\", \"Day\" : \"Date\"}, inplace=True)\n",
    "phyto_abundances[\"Date\"] = pd.to_datetime(phyto_abundances[\"Date\"], format = '%d/%m/%Y')\n",
    "phyto_abundances.drop_duplicates(inplace=True)\n",
    "phyto_abundances = phyto_abundances[phyto_abundances[\"Num_cell_l\"] != 0]"
   ]
  },
  {
   "cell_type": "markdown",
   "metadata": {},
   "source": [
    "moving double sample to previous or following month when they are temporally close  "
   ]
  },
  {
   "cell_type": "code",
   "execution_count": 9,
   "metadata": {},
   "outputs": [],
   "source": [
    "cond = (phyto_abundances[\"Region\"] == \"Emilia-Romagna\") & ((phyto_abundances[\"Date\"] == \"2015-10-05\") | (phyto_abundances[\"Date\"] == \"2015-10-09\"))\n",
    "phyto_abundances.loc[cond, \"Date\"] = datetime.datetime(2015, 9, 30)\n",
    "cond = (phyto_abundances[\"Region\"] == \"Marche\") & ((phyto_abundances[\"Date\"] == \"2016-03-08\") | (phyto_abundances[\"Date\"] == \"2016-03-02\"))\n",
    "phyto_abundances.loc[cond, \"Date\"] = datetime.datetime(2016, 2, 27)\n",
    "cond = (phyto_abundances[\"Region\"] == \"Marche\") & (phyto_abundances[\"Date\"] == \"2017-04-04\")\n",
    "phyto_abundances.loc[cond, \"Date\"] = datetime.datetime(2017, 3, 30)\n",
    "cond = (phyto_abundances[\"Region\"] == \"Marche\") & (phyto_abundances[\"Date\"] == \"2017-05-02\")\n",
    "phyto_abundances.loc[cond, \"Date\"] = datetime.datetime(2017, 4, 30)\n",
    "cond = (phyto_abundances[\"Region\"] == \"Veneto\") & (phyto_abundances[\"Date\"] == \"2016-05-05\")\n",
    "phyto_abundances.loc[cond, \"Date\"] = datetime.datetime(2016, 4, 30)"
   ]
  },
  {
   "cell_type": "markdown",
   "metadata": {},
   "source": [
    "grouping together higher cat. taxa "
   ]
  },
  {
   "cell_type": "code",
   "execution_count": 10,
   "metadata": {},
   "outputs": [],
   "source": [
    "phyto_abundances.loc[:, \"Taxon\"] = phyto_abundances.loc[:, \"Taxon\"].str.replace(\"sp\\.|cf.\\s.*\", \"spp.\", regex = True)\n",
    "phyto_abundances.loc[:, \"Taxon\"] = phyto_abundances.loc[:, \"Taxon\"].str.replace(\"Bacillariophyceae.*\", \"Diatomee indet.\", regex = True)\n",
    "phyto_abundances.loc[:, \"Taxon\"] = phyto_abundances.loc[:, \"Taxon\"].str.replace(\"Bacillariophyta.*\", \"Diatomee indet.\", regex = True)\n",
    "phyto_abundances.loc[:, \"Taxon\"] = phyto_abundances.loc[:, \"Taxon\"].str.replace(\"Chlorodendrophyceae.*\", \"Chlorophyta indet.\", regex = True)\n",
    "phyto_abundances.loc[:, \"Taxon\"] = phyto_abundances.loc[:, \"Taxon\"].str.replace(\"Chlorophyceae.*\", \"Chlorophyta indet.\", regex = True)\n",
    "phyto_abundances.loc[:, \"Taxon\"] = phyto_abundances.loc[:, \"Taxon\"].str.replace(\"Chroococcales indet.\", \"Cyanophyceae indet.\", regex = False)\n",
    "phyto_abundances.loc[:, \"Taxon\"] = phyto_abundances.loc[:, \"Taxon\"].str.replace(\"Chrysophyceae.*\", \"Chrysophyceae indet.\", regex = True)\n",
    "phyto_abundances.loc[:, \"Taxon\"] = phyto_abundances.loc[:, \"Taxon\"].str.replace(\"Coccolithophyceae.*\", \"Coccolithophyceae indet.\", regex = True)\n",
    "phyto_abundances.loc[:, \"Taxon\"] = phyto_abundances.loc[:, \"Taxon\"].str.replace(\"Dinophyceae indet. (ø inf. 20µm)\", \"Dinoflagellata indet.\", regex = False)\n",
    "phyto_abundances.loc[:, \"Taxon\"] = phyto_abundances.loc[:, \"Taxon\"].str.replace(\"Dinophyceae indet. (ø sup. 20µm)\", \"Dinoflagellata indet.\", regex = False)\n",
    "phyto_abundances.loc[:, \"Taxon\"] = phyto_abundances.loc[:, \"Taxon\"].str.replace(\"Noctilucea indet.\", \"Dinoflagellata indet.\", regex = False)\n",
    "phyto_abundances.loc[:, \"Taxon\"] = phyto_abundances.loc[:, \"Taxon\"].str.replace(\"Euglenophyceae.*\", \"Euglenophyceae indet.\", regex = True)\n",
    "phyto_abundances.loc[:, \"Taxon\"] = phyto_abundances.loc[:, \"Taxon\"].str.replace(\"Gymnodiniaceae.*|Gymnodiniales.*\", \"Gymnodiniales indet.\", regex = True)\n",
    "phyto_abundances.loc[:, \"Taxon\"] = phyto_abundances.loc[:, \"Taxon\"].str.replace(\"Naviculaceae indet.\", \"Diatomee indet.\", regex = False)\n",
    "phyto_abundances.loc[:, \"Taxon\"] = phyto_abundances.loc[:, \"Taxon\"].str.replace(\"Oscillatoriales indet.\", \"Cyanophyceae indet.\", regex = False)\n",
    "phyto_abundances.loc[:, \"Taxon\"] = phyto_abundances.loc[:, \"Taxon\"].str.replace(\"Pedinellales indet.\", \"Cyanophyceae indet.\", regex = False)\n",
    "phyto_abundances.loc[:, \"Taxon\"] = phyto_abundances.loc[:, \"Taxon\"].str.replace(\"Peridiniales.*\", \"Peridiniales indet.\", regex = True)\n",
    "phyto_abundances.loc[:, \"Taxon\"] = phyto_abundances.loc[:, \"Taxon\"].str.replace(\"\\(.*\\)\", \"\", regex = True, case=False)\n",
    "phyto_abundances.loc[:, \"Taxon\"] = phyto_abundances.loc[:, \"Taxon\"].str.replace(\"Cyanophyceae indet. filamenti\", \"Cyanophyceae indet.\", regex = False, case=False)"
   ]
  },
  {
   "cell_type": "markdown",
   "metadata": {},
   "source": [
    "removing species var. cf. f."
   ]
  },
  {
   "cell_type": "code",
   "execution_count": 11,
   "metadata": {},
   "outputs": [],
   "source": [
    "taxons = phyto_abundances.loc[phyto_abundances[\"Taxon\"].str.contains(\"var.\", regex=False), \"Taxon\"].unique()\n",
    "condition = phyto_abundances[\"Taxon\"].isin(taxons)\n",
    "phyto_abundances.loc[condition, \"Taxon\"] = phyto_abundances.loc[condition, \"Taxon\"].str.replace(\"var.*\", \"\",regex=True)"
   ]
  },
  {
   "cell_type": "code",
   "execution_count": 12,
   "metadata": {},
   "outputs": [],
   "source": [
    "condition = phyto_abundances[\"Taxon\"].str.contains(\"cf\\.|f\\.\", case=False, regex=True)\n",
    "phyto_abundances.loc[condition, \"Taxon\"] = phyto_abundances.loc[condition, \"Taxon\"].str.replace(\"Cf\\.| f\\. .*\", \"\", regex=True)"
   ]
  },
  {
   "cell_type": "code",
   "execution_count": 13,
   "metadata": {},
   "outputs": [],
   "source": [
    "phyto_abundances = phyto_abundances.groupby([\"Region\", \"id\", \"Longitude\", \"Latitude\", \"Closest_coast\", \"Date\", \"time\", \"Sample_depth\", \"Group\", \"Taxon\"]).sum().reset_index()"
   ]
  },
  {
   "cell_type": "code",
   "execution_count": 14,
   "metadata": {},
   "outputs": [],
   "source": [
    "condition = np.where(phyto_abundances[\"Taxon\"].apply(lambda x: len(x.split())) == 1)[0]"
   ]
  },
  {
   "cell_type": "markdown",
   "metadata": {},
   "source": [
    "Correcting other errors in the taxon column"
   ]
  },
  {
   "cell_type": "code",
   "execution_count": 11,
   "metadata": {},
   "outputs": [],
   "source": [
    "phyto_abundances.loc[phyto_abundances[\"Taxon\"] == \"Rhoicosphenia\", \"Taxon\"] == \"Rhoicosphenia spp.\"\n",
    "phyto_abundances.loc[phyto_abundances[\"Taxon\"] == \"Navicula\", \"Taxon\"] == \"Navicula spp.\"\n",
    "phyto_abundances.loc[phyto_abundances[\"Taxon\"] == \"Protoperidinium\", \"Taxon\"] = \"Protoperidinium spp.\"\n",
    "phyto_abundances.loc[phyto_abundances[\"Taxon\"] == \"Tetraselmis\", \"Taxon\"] = \"Tetraselmis spp.\"\n",
    "phyto_abundances.loc[phyto_abundances[\"Taxon\"] == \" cylindrotheca\", \"Taxon\"] = \"Cylindrotheca spp.\"\n",
    "phyto_abundances.loc[phyto_abundances[\"Taxon\"] == \"Kinetoplastidea\", \"Taxon\"] = \"Kinetoplastea indet.\"\n",
    "phyto_abundances.loc[phyto_abundances[\"Taxon\"] == \"Gonyaulacaceae\", \"Taxon\"] = \"Gonyaulacaceae indet.\"\n",
    "phyto_abundances.loc[phyto_abundances[\"Taxon\"] == \" tetraselmis\", \"Taxon\"] = \"Tetraselmis spp.\"\n",
    "phyto_abundances.loc[phyto_abundances[\"Taxon\"] == \" phalacroma\", \"Taxon\"] = \"Phalacroma spp.\"\n",
    "phyto_abundances.loc[phyto_abundances[\"Taxon\"] == \" leucocryptos\", \"Taxon\"] = \"Leucocryptos spp.\"\n",
    "phyto_abundances.loc[phyto_abundances[\"Taxon\"] == \" centrodinium\", \"Taxon\"] = \"Centrodinium spp.\"\n",
    "phyto_abundances.loc[phyto_abundances[\"Taxon\"] == \"Cyanobacteria\", \"Taxon\"] = \"Cyanobacteria indet.\"\n",
    "phyto_abundances.loc[phyto_abundances[\"Taxon\"] == \" corymbellus aureus\", \"Taxon\"] = \"Corymbellus aureus\"\n",
    "phyto_abundances.loc[phyto_abundances[\"Taxon\"] == \"Mediophyceae\", \"Taxon\"] = \"Mediophyceae indet.\"\n",
    "phyto_abundances.loc[phyto_abundances[\"Taxon\"] == \"Chaetoceros throndsenii \", \"Taxon\"] = \"Chaetoceros throndsenii\""
   ]
  },
  {
   "cell_type": "code",
   "execution_count": 5,
   "metadata": {},
   "outputs": [],
   "source": [
    "phyto_abundances =pd.read_csv(_HOME_ + \"/PHD/MSFD/Data/Modulo1/phyto_abund_modified.csv\")"
   ]
  },
  {
   "cell_type": "code",
   "execution_count": 12,
   "metadata": {},
   "outputs": [],
   "source": [
    "phyto_abundances.to_csv(_HOME_ + \"/PHD/MSFD/Data/Modulo1/phyto_abund_modified.csv\")"
   ]
  }
 ],
 "metadata": {
  "kernelspec": {
   "display_name": "Python 3 (ipykernel)",
   "language": "python",
   "name": "python3"
  },
  "language_info": {
   "codemirror_mode": {
    "name": "ipython",
    "version": 3
   },
   "file_extension": ".py",
   "mimetype": "text/x-python",
   "name": "python",
   "nbconvert_exporter": "python",
   "pygments_lexer": "ipython3",
   "version": "3.11.5"
  }
 },
 "nbformat": 4,
 "nbformat_minor": 2
}
