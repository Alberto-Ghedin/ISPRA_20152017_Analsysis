{
 "cells": [
  {
   "cell_type": "code",
   "execution_count": 2,
   "metadata": {},
   "outputs": [],
   "source": [
    "import numpy as np\n",
    "import pandas as pd\n",
    "import datetime\n",
    "import re\n",
    "from os import path\n",
    "import json"
   ]
  },
  {
   "cell_type": "code",
   "execution_count": 4,
   "metadata": {},
   "outputs": [],
   "source": [
    "with open(path.expanduser(\"~\") + \"/sys_specific.json\") as file: \n",
    "    params = json.load(file)\n",
    "_HOME_ = params[\"home\"] + \"/PHD\""
   ]
  },
  {
   "cell_type": "code",
   "execution_count": 5,
   "metadata": {},
   "outputs": [],
   "source": [
    "def remove_additional_white_spaces(string): \n",
    "    return \" \".join(string.strip().split())"
   ]
  },
  {
   "cell_type": "code",
   "execution_count": 6,
   "metadata": {},
   "outputs": [
    {
     "name": "stderr",
     "output_type": "stream",
     "text": [
      "/tmp/ipykernel_10637/3992562802.py:1: DtypeWarning: Columns (11) have mixed types. Specify dtype option on import or set low_memory=False.\n",
      "  phyto_abund_raw = pd.read_csv(_HOME_ + \"/MSFD/Data/Modulo1/phyto_abund_raw.csv\")\n"
     ]
    }
   ],
   "source": [
    "phyto_abund_raw = pd.read_csv(_HOME_ + \"/MSFD/Data/Modulo1/phyto_abund_raw.csv\")\n",
    "phyto_abund_raw.rename(columns={\"NationalStationID\" : \"id\", \"Gruppo\" : \"Group\"}, inplace=True)\n",
    "phyto_abund_raw[\"id\"]  = phyto_abund_raw[\"id\"].apply(lambda x: x.split(\".\")[0])\n",
    "dates = [\n",
    "    datetime.date(year=year, month=month, day=day) \n",
    "    for year, month, day in phyto_abund_raw.loc[:, [\"Year\", \"Month\", \"Day\"]].to_numpy(np.int16)    \n",
    "]\n",
    "phyto_abund_raw.drop(columns = [\"Autore\", \"Year\", \"Month\", \"Day\"], inplace=True)\n",
    "phyto_abund_raw[\"Date\"] = dates\n",
    "phyto_abund_raw.loc[phyto_abund_raw[\"id\"] == '0004-M000200_TR03', \"id\"] = '0004-MS00200_TR03'\n",
    "phyto_abund_raw.loc[phyto_abund_raw[\"id\"] == '0004-M000200_TR06', \"id\"] = '0004-MS00200_TR06'\n",
    "phyto_abund_raw.loc[phyto_abund_raw[\"id\"] == '0004-M000200_TR12', \"id\"] = '0004-MS00200_TR12'"
   ]
  },
  {
   "cell_type": "code",
   "execution_count": 7,
   "metadata": {},
   "outputs": [],
   "source": [
    "phyto_abund_raw[\"Taxon\"] = phyto_abund_raw[\"Taxon\"].astype(str)"
   ]
  },
  {
   "cell_type": "code",
   "execution_count": 8,
   "metadata": {},
   "outputs": [],
   "source": [
    "phyto_abund_raw.dropna(subset=[\"Num_cell_l\"], inplace=True)"
   ]
  },
  {
   "cell_type": "code",
   "execution_count": 12,
   "metadata": {},
   "outputs": [],
   "source": [
    "df_lat_long_stations = pd.read_csv(_HOME_ + \"/ISPRA_20152017_Analysis/station_locations.csv\")"
   ]
  },
  {
   "cell_type": "code",
   "execution_count": 14,
   "metadata": {},
   "outputs": [
    {
     "data": {
      "text/html": [
       "<div>\n",
       "<style scoped>\n",
       "    .dataframe tbody tr th:only-of-type {\n",
       "        vertical-align: middle;\n",
       "    }\n",
       "\n",
       "    .dataframe tbody tr th {\n",
       "        vertical-align: top;\n",
       "    }\n",
       "\n",
       "    .dataframe thead th {\n",
       "        text-align: right;\n",
       "    }\n",
       "</style>\n",
       "<table border=\"1\" class=\"dataframe\">\n",
       "  <thead>\n",
       "    <tr style=\"text-align: right;\">\n",
       "      <th></th>\n",
       "      <th>id</th>\n",
       "      <th>Longitude</th>\n",
       "      <th>Latitude</th>\n",
       "    </tr>\n",
       "  </thead>\n",
       "  <tbody>\n",
       "    <tr>\n",
       "      <th>0</th>\n",
       "      <td>1_ABR_GU04</td>\n",
       "      <td>14.0418</td>\n",
       "      <td>42.7609</td>\n",
       "    </tr>\n",
       "    <tr>\n",
       "      <th>1</th>\n",
       "      <td>1_ABR_GU05</td>\n",
       "      <td>14.1072</td>\n",
       "      <td>42.7744</td>\n",
       "    </tr>\n",
       "    <tr>\n",
       "      <th>2</th>\n",
       "      <td>1_ABR_GU06</td>\n",
       "      <td>14.2380</td>\n",
       "      <td>42.8012</td>\n",
       "    </tr>\n",
       "    <tr>\n",
       "      <th>3</th>\n",
       "      <td>1_ABR_VA13</td>\n",
       "      <td>14.7225</td>\n",
       "      <td>42.2216</td>\n",
       "    </tr>\n",
       "    <tr>\n",
       "      <th>4</th>\n",
       "      <td>1_ABR_VA14</td>\n",
       "      <td>14.7609</td>\n",
       "      <td>42.2627</td>\n",
       "    </tr>\n",
       "    <tr>\n",
       "      <th>...</th>\n",
       "      <td>...</td>\n",
       "      <td>...</td>\n",
       "      <td>...</td>\n",
       "    </tr>\n",
       "    <tr>\n",
       "      <th>157</th>\n",
       "      <td>50720</td>\n",
       "      <td>12.4172</td>\n",
       "      <td>45.0979</td>\n",
       "    </tr>\n",
       "    <tr>\n",
       "      <th>158</th>\n",
       "      <td>60530</td>\n",
       "      <td>12.4504</td>\n",
       "      <td>45.2852</td>\n",
       "    </tr>\n",
       "    <tr>\n",
       "      <th>159</th>\n",
       "      <td>60720</td>\n",
       "      <td>12.4816</td>\n",
       "      <td>45.1220</td>\n",
       "    </tr>\n",
       "    <tr>\n",
       "      <th>160</th>\n",
       "      <td>70530</td>\n",
       "      <td>12.5920</td>\n",
       "      <td>45.2780</td>\n",
       "    </tr>\n",
       "    <tr>\n",
       "      <th>161</th>\n",
       "      <td>70720</td>\n",
       "      <td>12.6064</td>\n",
       "      <td>45.1676</td>\n",
       "    </tr>\n",
       "  </tbody>\n",
       "</table>\n",
       "<p>162 rows × 3 columns</p>\n",
       "</div>"
      ],
      "text/plain": [
       "             id  Longitude  Latitude\n",
       "0    1_ABR_GU04    14.0418   42.7609\n",
       "1    1_ABR_GU05    14.1072   42.7744\n",
       "2    1_ABR_GU06    14.2380   42.8012\n",
       "3    1_ABR_VA13    14.7225   42.2216\n",
       "4    1_ABR_VA14    14.7609   42.2627\n",
       "..          ...        ...       ...\n",
       "157       50720    12.4172   45.0979\n",
       "158       60530    12.4504   45.2852\n",
       "159       60720    12.4816   45.1220\n",
       "160       70530    12.5920   45.2780\n",
       "161       70720    12.6064   45.1676\n",
       "\n",
       "[162 rows x 3 columns]"
      ]
     },
     "execution_count": 14,
     "metadata": {},
     "output_type": "execute_result"
    }
   ],
   "source": [
    "df_lat_long_stations"
   ]
  },
  {
   "cell_type": "code",
   "execution_count": 13,
   "metadata": {},
   "outputs": [
    {
     "ename": "KeyError",
     "evalue": "\"['Region', 'Closest_coast'] not in index\"",
     "output_type": "error",
     "traceback": [
      "\u001b[0;31m---------------------------------------------------------------------------\u001b[0m",
      "\u001b[0;31mKeyError\u001b[0m                                  Traceback (most recent call last)",
      "Cell \u001b[0;32mIn[13], line 1\u001b[0m\n\u001b[0;32m----> 1\u001b[0m phyto_abund_raw \u001b[38;5;241m=\u001b[39m phyto_abund_raw\u001b[38;5;241m.\u001b[39mmerge(\u001b[43mdf_lat_long_stations\u001b[49m\u001b[43m[\u001b[49m\u001b[43m[\u001b[49m\u001b[38;5;124;43m\"\u001b[39;49m\u001b[38;5;124;43mid\u001b[39;49m\u001b[38;5;124;43m\"\u001b[39;49m\u001b[43m,\u001b[49m\u001b[43m \u001b[49m\u001b[38;5;124;43m\"\u001b[39;49m\u001b[38;5;124;43mRegion\u001b[39;49m\u001b[38;5;124;43m\"\u001b[39;49m\u001b[43m,\u001b[49m\u001b[43m \u001b[49m\u001b[38;5;124;43m\"\u001b[39;49m\u001b[38;5;124;43mLongitude\u001b[39;49m\u001b[38;5;124;43m\"\u001b[39;49m\u001b[43m,\u001b[49m\u001b[43m \u001b[49m\u001b[38;5;124;43m\"\u001b[39;49m\u001b[38;5;124;43mLatitude\u001b[39;49m\u001b[38;5;124;43m\"\u001b[39;49m\u001b[43m,\u001b[49m\u001b[43m \u001b[49m\u001b[38;5;124;43m\"\u001b[39;49m\u001b[38;5;124;43mClosest_coast\u001b[39;49m\u001b[38;5;124;43m\"\u001b[39;49m\u001b[43m]\u001b[49m\u001b[43m]\u001b[49m, how \u001b[38;5;241m=\u001b[39m \u001b[38;5;124m\"\u001b[39m\u001b[38;5;124mleft\u001b[39m\u001b[38;5;124m\"\u001b[39m, left_on\u001b[38;5;241m=\u001b[39m\u001b[38;5;124m\"\u001b[39m\u001b[38;5;124mid\u001b[39m\u001b[38;5;124m\"\u001b[39m, right_on\u001b[38;5;241m=\u001b[39m\u001b[38;5;124m\"\u001b[39m\u001b[38;5;124mid\u001b[39m\u001b[38;5;124m\"\u001b[39m)\n",
      "File \u001b[0;32m~/miniconda3/lib/python3.11/site-packages/pandas/core/frame.py:3899\u001b[0m, in \u001b[0;36mDataFrame.__getitem__\u001b[0;34m(self, key)\u001b[0m\n\u001b[1;32m   3897\u001b[0m     \u001b[38;5;28;01mif\u001b[39;00m is_iterator(key):\n\u001b[1;32m   3898\u001b[0m         key \u001b[38;5;241m=\u001b[39m \u001b[38;5;28mlist\u001b[39m(key)\n\u001b[0;32m-> 3899\u001b[0m     indexer \u001b[38;5;241m=\u001b[39m \u001b[38;5;28;43mself\u001b[39;49m\u001b[38;5;241;43m.\u001b[39;49m\u001b[43mcolumns\u001b[49m\u001b[38;5;241;43m.\u001b[39;49m\u001b[43m_get_indexer_strict\u001b[49m\u001b[43m(\u001b[49m\u001b[43mkey\u001b[49m\u001b[43m,\u001b[49m\u001b[43m \u001b[49m\u001b[38;5;124;43m\"\u001b[39;49m\u001b[38;5;124;43mcolumns\u001b[39;49m\u001b[38;5;124;43m\"\u001b[39;49m\u001b[43m)\u001b[49m[\u001b[38;5;241m1\u001b[39m]\n\u001b[1;32m   3901\u001b[0m \u001b[38;5;66;03m# take() does not accept boolean indexers\u001b[39;00m\n\u001b[1;32m   3902\u001b[0m \u001b[38;5;28;01mif\u001b[39;00m \u001b[38;5;28mgetattr\u001b[39m(indexer, \u001b[38;5;124m\"\u001b[39m\u001b[38;5;124mdtype\u001b[39m\u001b[38;5;124m\"\u001b[39m, \u001b[38;5;28;01mNone\u001b[39;00m) \u001b[38;5;241m==\u001b[39m \u001b[38;5;28mbool\u001b[39m:\n",
      "File \u001b[0;32m~/miniconda3/lib/python3.11/site-packages/pandas/core/indexes/base.py:6115\u001b[0m, in \u001b[0;36mIndex._get_indexer_strict\u001b[0;34m(self, key, axis_name)\u001b[0m\n\u001b[1;32m   6112\u001b[0m \u001b[38;5;28;01melse\u001b[39;00m:\n\u001b[1;32m   6113\u001b[0m     keyarr, indexer, new_indexer \u001b[38;5;241m=\u001b[39m \u001b[38;5;28mself\u001b[39m\u001b[38;5;241m.\u001b[39m_reindex_non_unique(keyarr)\n\u001b[0;32m-> 6115\u001b[0m \u001b[38;5;28;43mself\u001b[39;49m\u001b[38;5;241;43m.\u001b[39;49m\u001b[43m_raise_if_missing\u001b[49m\u001b[43m(\u001b[49m\u001b[43mkeyarr\u001b[49m\u001b[43m,\u001b[49m\u001b[43m \u001b[49m\u001b[43mindexer\u001b[49m\u001b[43m,\u001b[49m\u001b[43m \u001b[49m\u001b[43maxis_name\u001b[49m\u001b[43m)\u001b[49m\n\u001b[1;32m   6117\u001b[0m keyarr \u001b[38;5;241m=\u001b[39m \u001b[38;5;28mself\u001b[39m\u001b[38;5;241m.\u001b[39mtake(indexer)\n\u001b[1;32m   6118\u001b[0m \u001b[38;5;28;01mif\u001b[39;00m \u001b[38;5;28misinstance\u001b[39m(key, Index):\n\u001b[1;32m   6119\u001b[0m     \u001b[38;5;66;03m# GH 42790 - Preserve name from an Index\u001b[39;00m\n",
      "File \u001b[0;32m~/miniconda3/lib/python3.11/site-packages/pandas/core/indexes/base.py:6179\u001b[0m, in \u001b[0;36mIndex._raise_if_missing\u001b[0;34m(self, key, indexer, axis_name)\u001b[0m\n\u001b[1;32m   6176\u001b[0m     \u001b[38;5;28;01mraise\u001b[39;00m \u001b[38;5;167;01mKeyError\u001b[39;00m(\u001b[38;5;124mf\u001b[39m\u001b[38;5;124m\"\u001b[39m\u001b[38;5;124mNone of [\u001b[39m\u001b[38;5;132;01m{\u001b[39;00mkey\u001b[38;5;132;01m}\u001b[39;00m\u001b[38;5;124m] are in the [\u001b[39m\u001b[38;5;132;01m{\u001b[39;00maxis_name\u001b[38;5;132;01m}\u001b[39;00m\u001b[38;5;124m]\u001b[39m\u001b[38;5;124m\"\u001b[39m)\n\u001b[1;32m   6178\u001b[0m not_found \u001b[38;5;241m=\u001b[39m \u001b[38;5;28mlist\u001b[39m(ensure_index(key)[missing_mask\u001b[38;5;241m.\u001b[39mnonzero()[\u001b[38;5;241m0\u001b[39m]]\u001b[38;5;241m.\u001b[39munique())\n\u001b[0;32m-> 6179\u001b[0m \u001b[38;5;28;01mraise\u001b[39;00m \u001b[38;5;167;01mKeyError\u001b[39;00m(\u001b[38;5;124mf\u001b[39m\u001b[38;5;124m\"\u001b[39m\u001b[38;5;132;01m{\u001b[39;00mnot_found\u001b[38;5;132;01m}\u001b[39;00m\u001b[38;5;124m not in index\u001b[39m\u001b[38;5;124m\"\u001b[39m)\n",
      "\u001b[0;31mKeyError\u001b[0m: \"['Region', 'Closest_coast'] not in index\""
     ]
    }
   ],
   "source": [
    "phyto_abund_raw = phyto_abund_raw.merge(df_lat_long_stations[[\"id\", \"Region\", \"Longitude\", \"Latitude\", \"Closest_coast\"]], how = \"left\", left_on=\"id\", right_on=\"id\")"
   ]
  },
  {
   "cell_type": "code",
   "execution_count": 9,
   "metadata": {},
   "outputs": [],
   "source": [
    "phyto_abund_raw[\"Taxon\"] = np.where(phyto_abund_raw[\"Taxon\"].isna(), phyto_abund_raw[\"NuovoTaxon\"], phyto_abund_raw[\"Taxon\"])\n",
    "phyto_abund_raw.loc[~phyto_abund_raw[\"Taxon\"].isna(), \"Taxon\"] = phyto_abund_raw.loc[~phyto_abund_raw[\"Taxon\"].isna(), \"Taxon\"].apply(remove_additional_white_spaces)"
   ]
  },
  {
   "cell_type": "code",
   "execution_count": 10,
   "metadata": {},
   "outputs": [],
   "source": [
    "phyto_abund_raw.loc[phyto_abund_raw[\"Remarks\"].str.contains(\"Trattasi di Chlorophyceae indet\", na = False),\"Taxon\"] = \"Chlorophyceae indet.\"\n",
    "phyto_abund_raw.loc[phyto_abund_raw[\"Remarks\"].str.contains(\"Trattasi di Chlorophyceae indet\", na = False), \"Remarks\"] = None\n",
    "phyto_abund_raw.loc[phyto_abund_raw[\"Remarks\"].str.contains(\"Cryptophyceae\", na = False),\"Taxon\"] = \"Cryptophyceae indet.\"\n",
    "phyto_abund_raw.loc[phyto_abund_raw[\"Remarks\"].str.contains(\"Cryptophyceae\", na = False), \"Remarks\"] = None\n",
    "phyto_abund_raw.loc[phyto_abund_raw[\"Remarks\"].str.contains(\"Leptocylindrus danicus complex sp.p.\", na = False), \"Remarks\"] = None\n",
    "phyto_abund_raw.loc[phyto_abund_raw[\"Remarks\"].str.contains(\"Leptocylindrus sp.p. o Pseudoguinardia recta\", na = False), \"Remarks\"] = None\n",
    "phyto_abund_raw.loc[phyto_abund_raw[\"Remarks\"].str.contains(\"Leptocylindrus cf. convexus\", na = False), \"Taxon\"] = \"Leptocylindrus convexus\"\n",
    "phyto_abund_raw.loc[phyto_abund_raw[\"Remarks\"].str.contains(\"Leptocylindrus cf. convexus\", na = False), \"Remarks\"] = None\n",
    "phyto_abund_raw.loc[phyto_abund_raw[\"Remarks\"].str.contains(\"Gymnodiniales\", na = False), \"Taxon\"] = \"Gymnodiniales indet.\"\n",
    "phyto_abund_raw.loc[phyto_abund_raw[\"Remarks\"].str.contains(\"Gymnodiniales\", na = False), \"Remarks\"] = None\n",
    "phyto_abund_raw.loc[phyto_abund_raw[\"Remarks\"].str.contains(\"Karenia\", na = False), \"Taxon\"] = \"Karenia spp.\"\n",
    "phyto_abund_raw.loc[phyto_abund_raw[\"Remarks\"].str.contains(\"Karenia\", na = False), \"Remarks\"] = None\n",
    "phyto_abund_raw.loc[phyto_abund_raw[\"Remarks\"].str.contains(\"Karlodinium\", na = False), \"Taxon\"] = \"Karlodinium spp.\"\n",
    "phyto_abund_raw.loc[phyto_abund_raw[\"Remarks\"].str.contains(\"Karlodinium\", na = False), \"Remarks\"] = None\n",
    "phyto_abund_raw.loc[phyto_abund_raw[\"Remarks\"].str.contains(\"cf. polyedricum\", na = False), \"Remarks\"] = None\n",
    "phyto_abund_raw.loc[phyto_abund_raw[\"Remarks\"].str.contains(\"inf.\", na = False, regex = False),\"Remarks\"] = None\n",
    "phyto_abund_raw.loc[phyto_abund_raw[\"Remarks\"].str.contains(\"sup.\", na = False, regex = False),\"Remarks\"] = None\n",
    "phyto_abund_raw.loc[phyto_abund_raw[\"Remarks\"].str.contains(\"cf. cariense\", na = False, regex = False),\"Remarks\"] = None\n",
    "phyto_abund_raw.loc[phyto_abund_raw[\"Remarks\"].str.contains(\"Pseudoguinardia recta\", na = False),\"Taxon\"] =  \"Pseudoguinardia spp.\"\n",
    "phyto_abund_raw.loc[phyto_abund_raw[\"Remarks\"].str.contains(\"Pseudoguinardia recta\", na = False),\"Remarks\"] =  None\n",
    "phyto_abund_raw.loc[(phyto_abund_raw[\"Remarks\"].str.contains(\"classe Cyanophyceae\", na = False)) & phyto_abund_raw[\"Taxon\"].isna(), \"Taxon\"] = \"Cyanophyceae indet.\"\n",
    "phyto_abund_raw.loc[phyto_abund_raw[\"Remarks\"].str.contains(\"classe Cyanophyceae\", na = False),\"Remarks\"] = None\n",
    "phyto_abund_raw.loc[phyto_abund_raw[\"Remarks\"].str.contains(\"Incluse nella Classe delle Mediophyceae\", na = False),\"Remarks\"] = None \n",
    "phyto_abund_raw.loc[phyto_abund_raw[\"Remarks\"] == \"n\",\"Remarks\"] = None\n",
    "phyto_abund_raw.loc[phyto_abund_raw[\"Remarks\"].str.contains(\"Naviculaceae indet\", na = False),\"Remarks\"] = None\n",
    "phyto_abund_raw.loc[phyto_abund_raw[\"Remarks\"].str.contains(\"Pennales\", na = False),\"Remarks\"] = None\n",
    "phyto_abund_raw.loc[phyto_abund_raw[\"Remarks\"].str.contains(\"in sostituzione di Leptocylindrus minimus\", na = False),\"Remarks\"] = None \n",
    "phyto_abund_raw.loc[phyto_abund_raw[\"Remarks\"].str.contains(\"Pronoctiluca cf. pelagica\", na = False),\"Remarks\"] = None\n",
    "phyto_abund_raw.loc[phyto_abund_raw[\"Remarks\"].str.contains(\"Protoperidinium cf. cerasus\", na = False),\"Remarks\"] = None\n",
    "phyto_abund_raw.loc[phyto_abund_raw[\"Remarks\"].str.contains(\"certezza della specie\", na = False),\"Taxon\"] = phyto_abund_raw.loc[phyto_abund_raw[\"Remarks\"].str.contains(\"certezza della specie\", na = False),\"Taxon\"].apply(lambda x: x.split(\" \")[0] + \" spp.\")\n",
    "phyto_abund_raw.loc[phyto_abund_raw[\"Remarks\"].str.contains(\"certezza della specie\", na = False),\"Remarks\"] = None\n",
    "phyto_abund_raw.loc[phyto_abund_raw[\"Remarks\"].str.contains(\"si  riferisce\", na = False),\"Remarks\"] = None\n",
    "phyto_abund_raw.loc[phyto_abund_raw[\"Remarks\"].str.contains(\"Protoperidinium cf. steinii\", na = False),\"Remarks\"] = None\n",
    "phyto_abund_raw.loc[phyto_abund_raw[\"Remarks\"].str.contains(\"Proboscia sp\", na = False),\"Taxon\"] = \"Proboscia sp.\" \n",
    "phyto_abund_raw.loc[phyto_abund_raw[\"Remarks\"].str.contains(\"Proboscia sp\", na = False),\"Remarks\"] = None \n",
    "phyto_abund_raw.loc[phyto_abund_raw[\"Remarks\"].str.contains(\"SP\", na = False),\"Remarks\"] = None\n",
    "phyto_abund_raw.loc[phyto_abund_raw[\"Remarks\"].str.contains(\"Protoperidinium\", na = False),\"Remarks\"] = None\n",
    "phyto_abund_raw.loc[phyto_abund_raw[\"Remarks\"].str.contains(\"Probabilmente appartenente \", na = False),\"Remarks\"] = None\n",
    "phyto_abund_raw.loc[phyto_abund_raw[\"Remarks\"].str.contains(\"Pseudo-nitzschia sp\", na = False),\"Remarks\"] = None\n",
    "phyto_abund_raw.loc[phyto_abund_raw[\"Remarks\"].str.contains(\" cf\\.\", na = False),\"Remarks\"] = None\n",
    "phyto_abund_raw.loc[phyto_abund_raw[\"Remarks\"].str.contains(\"Rhabdolithes claviger\", na = False),\"Remarks\"] = None\n",
    "phyto_abund_raw.loc[phyto_abund_raw[\"Remarks\"].str.contains(\"Solenicola setigera\", na = False),\"Remarks\"] = None\n",
    "phyto_abund_raw.loc[phyto_abund_raw[\"Remarks\"].str.contains(\"Phalacroma rotundatum\", na = False),\"Remarks\"] = None"
   ]
  },
  {
   "cell_type": "code",
   "execution_count": 11,
   "metadata": {},
   "outputs": [],
   "source": [
    "phyto_abund_raw.loc[phyto_abund_raw[\"Taxon\"] == \"nan\",\"Taxon\"] = phyto_abund_raw.loc[phyto_abund_raw[\"Taxon\"] == \"nan\",\"Group\"]"
   ]
  },
  {
   "cell_type": "code",
   "execution_count": 12,
   "metadata": {},
   "outputs": [
    {
     "data": {
      "text/html": [
       "<div>\n",
       "<style scoped>\n",
       "    .dataframe tbody tr th:only-of-type {\n",
       "        vertical-align: middle;\n",
       "    }\n",
       "\n",
       "    .dataframe tbody tr th {\n",
       "        vertical-align: top;\n",
       "    }\n",
       "\n",
       "    .dataframe thead th {\n",
       "        text-align: right;\n",
       "    }\n",
       "</style>\n",
       "<table border=\"1\" class=\"dataframe\">\n",
       "  <thead>\n",
       "    <tr style=\"text-align: right;\">\n",
       "      <th></th>\n",
       "      <th>id</th>\n",
       "      <th>Time</th>\n",
       "      <th>SampleDepth</th>\n",
       "      <th>Group</th>\n",
       "      <th>Taxon</th>\n",
       "      <th>NuovoTaxon</th>\n",
       "      <th>Num_cell_l</th>\n",
       "      <th>file_name</th>\n",
       "      <th>Remarks</th>\n",
       "      <th>Date</th>\n",
       "      <th>Region</th>\n",
       "      <th>Longitude</th>\n",
       "      <th>Latitude</th>\n",
       "      <th>Closest_coast</th>\n",
       "    </tr>\n",
       "  </thead>\n",
       "  <tbody>\n",
       "  </tbody>\n",
       "</table>\n",
       "</div>"
      ],
      "text/plain": [
       "Empty DataFrame\n",
       "Columns: [id, Time, SampleDepth, Group, Taxon, NuovoTaxon, Num_cell_l, file_name, Remarks, Date, Region, Longitude, Latitude, Closest_coast]\n",
       "Index: []"
      ]
     },
     "execution_count": 12,
     "metadata": {},
     "output_type": "execute_result"
    }
   ],
   "source": [
    "phyto_abund_raw.loc[phyto_abund_raw[\"Taxon\"].isna(), :]"
   ]
  },
  {
   "cell_type": "code",
   "execution_count": 13,
   "metadata": {},
   "outputs": [
    {
     "data": {
      "text/html": [
       "<div>\n",
       "<style scoped>\n",
       "    .dataframe tbody tr th:only-of-type {\n",
       "        vertical-align: middle;\n",
       "    }\n",
       "\n",
       "    .dataframe tbody tr th {\n",
       "        vertical-align: top;\n",
       "    }\n",
       "\n",
       "    .dataframe thead th {\n",
       "        text-align: right;\n",
       "    }\n",
       "</style>\n",
       "<table border=\"1\" class=\"dataframe\">\n",
       "  <thead>\n",
       "    <tr style=\"text-align: right;\">\n",
       "      <th></th>\n",
       "      <th>id</th>\n",
       "      <th>Time</th>\n",
       "      <th>SampleDepth</th>\n",
       "      <th>Group</th>\n",
       "      <th>Taxon</th>\n",
       "      <th>NuovoTaxon</th>\n",
       "      <th>Num_cell_l</th>\n",
       "      <th>file_name</th>\n",
       "      <th>Remarks</th>\n",
       "      <th>Date</th>\n",
       "      <th>Region</th>\n",
       "      <th>Longitude</th>\n",
       "      <th>Latitude</th>\n",
       "      <th>Closest_coast</th>\n",
       "    </tr>\n",
       "  </thead>\n",
       "  <tbody>\n",
       "  </tbody>\n",
       "</table>\n",
       "</div>"
      ],
      "text/plain": [
       "Empty DataFrame\n",
       "Columns: [id, Time, SampleDepth, Group, Taxon, NuovoTaxon, Num_cell_l, file_name, Remarks, Date, Region, Longitude, Latitude, Closest_coast]\n",
       "Index: []"
      ]
     },
     "execution_count": 13,
     "metadata": {},
     "output_type": "execute_result"
    }
   ],
   "source": [
    "phyto_abund_raw.loc[phyto_abund_raw[\"Taxon\"].str.contains(\"Nan\"), :]"
   ]
  },
  {
   "cell_type": "code",
   "execution_count": 14,
   "metadata": {},
   "outputs": [],
   "source": [
    "phyto_abund_raw[\"Taxon\"] = phyto_abund_raw[\"Taxon\"].apply(str.capitalize)"
   ]
  },
  {
   "cell_type": "code",
   "execution_count": 15,
   "metadata": {},
   "outputs": [
    {
     "data": {
      "text/html": [
       "<div>\n",
       "<style scoped>\n",
       "    .dataframe tbody tr th:only-of-type {\n",
       "        vertical-align: middle;\n",
       "    }\n",
       "\n",
       "    .dataframe tbody tr th {\n",
       "        vertical-align: top;\n",
       "    }\n",
       "\n",
       "    .dataframe thead th {\n",
       "        text-align: right;\n",
       "    }\n",
       "</style>\n",
       "<table border=\"1\" class=\"dataframe\">\n",
       "  <thead>\n",
       "    <tr style=\"text-align: right;\">\n",
       "      <th></th>\n",
       "      <th>id</th>\n",
       "      <th>Time</th>\n",
       "      <th>SampleDepth</th>\n",
       "      <th>Group</th>\n",
       "      <th>Taxon</th>\n",
       "      <th>NuovoTaxon</th>\n",
       "      <th>Num_cell_l</th>\n",
       "      <th>file_name</th>\n",
       "      <th>Remarks</th>\n",
       "      <th>Date</th>\n",
       "      <th>Region</th>\n",
       "      <th>Longitude</th>\n",
       "      <th>Latitude</th>\n",
       "      <th>Closest_coast</th>\n",
       "    </tr>\n",
       "  </thead>\n",
       "  <tbody>\n",
       "  </tbody>\n",
       "</table>\n",
       "</div>"
      ],
      "text/plain": [
       "Empty DataFrame\n",
       "Columns: [id, Time, SampleDepth, Group, Taxon, NuovoTaxon, Num_cell_l, file_name, Remarks, Date, Region, Longitude, Latitude, Closest_coast]\n",
       "Index: []"
      ]
     },
     "execution_count": 15,
     "metadata": {},
     "output_type": "execute_result"
    }
   ],
   "source": [
    "phyto_abund_raw.loc[phyto_abund_raw[\"Taxon\"].isna(), :]"
   ]
  },
  {
   "cell_type": "code",
   "execution_count": 16,
   "metadata": {},
   "outputs": [],
   "source": [
    "phyto_abund_raw.loc[phyto_abund_raw[\"Taxon\"].str.contains(\"Nan\"), \"Taxon\"] = phyto_abund_raw.loc[phyto_abund_raw[\"Taxon\"].str.contains(\"Nan\"), \"NuovoTaxon\"]"
   ]
  },
  {
   "cell_type": "code",
   "execution_count": 17,
   "metadata": {},
   "outputs": [],
   "source": [
    "phyto_abund_raw.loc[phyto_abund_raw[\"Taxon\"] == \"Incertae sedis\", \"Taxon\"] = \"Other phytoplankton\""
   ]
  },
  {
   "cell_type": "code",
   "execution_count": 18,
   "metadata": {},
   "outputs": [],
   "source": [
    "partial_corrections = { \n",
    " \"Phalachroma\" : \"Phalacroma\", \n",
    " \"Protoperidium\": \"Protoperidinium\",\n",
    " \"Nefroselmis\" : \"Nephroselmis\",\n",
    " \"Minuscola\" : \"Minuscula\",\n",
    " \"Tecati\" : \"Tecatia\", \n",
    " \"Heteroleiblenia\" : \"Heteroleibleinia\", \n",
    " \"Haloshpaera\" : \"Halosphaera\", \n",
    " \"Distephanus\" : \"Distephanopsis\", \n",
    " \"Talassionema\" : \"Thalassionema\", \n",
    " \"Hetrocapsa\" : \"Heterocapsa\", \n",
    " \"Pyramonas\" : \"Pyramimonas\", \n",
    " \"Nitzchia\" : \"Nitzschia\", \n",
    " \"Chaetocheros\" : \"Chaetoceros\", \n",
    " \"Rhodomonascf\\.\" : \"Rhodomonas\", \n",
    " \"Syrachosphaera\" : \"Syracosphaera\", \n",
    " \"Indeterminat[^\\s|a-z]\" : \"Indeterminato\", \n",
    " \"Gunardia\" : \"Guinardia\", \n",
    " \"Oxitoxum\" : \"Oxytoxum\", \n",
    " \"Altro_fitoplanctonerminati\" : \"Other phytoplankton\", \n",
    " \"Mesoporus\" : \"Mesoporos\", \n",
    " \"Schuetiella\" : \"Schuettiella\", \n",
    " \"Chatoceros\" : \"Chaetoceros\", \n",
    " \"Dicosphaera\" : \"Discosphaera\", \n",
    " \"Prorocenrum\" : \"Prorocentrum\", \n",
    " \"Chrysocromulina\" : \"Chrysochromulina\", \n",
    " \"Dictyoca\" : \"Dictyocha\", \n",
    " \"Mesoporo\" : \"Mesoporos\", \n",
    " \"Octastis\": \"Octactis\", \n",
    " \"Ceratum\" : \"Ceratium\", \n",
    " \"Schripsiella\" : \"Scrippsiella\", \n",
    " \"Ceratulina\" : \"Cerataulina\", \n",
    " \"Guanardia\" : \"Guinardia\", \n",
    " \"Leptocilindrus\" : \"Leptocylindrus\", \n",
    " \"Cilindrotheca\" : \"Cylindrotheca\", \n",
    " \"Hemialus\" : \"Hemiaulus\", \n",
    " \"Thalassionemasp\\.\" : \"Thalassionema sp.\", \n",
    " \"Asterinellopsis\" : \"Asterionellopsis\", \n",
    " \"Dactysolen\" : \"Dactyliosolen\",\n",
    " \"Dactylosolen\" : \"Dactyliosolen\",\n",
    " \"Psudosolenia\" : \"Pseudosolenia\", \n",
    " \"Amphididium\" : \"Amphidinium\", \n",
    " \"Oxyoxum\" : \"Oxytoxum\", \n",
    " \"Crysophyceae\" : \"Chrysophyceae\", \n",
    " \"Hasleasp\" : \"Haslea sp.\", \n",
    " \"Gyrodinum\" : \"Gyrodinium\", \n",
    " \"Gymnodium\" : \"Gymnodinium\", \n",
    " \"Mesopros\" : \"Mesoporos\", \n",
    " \"Hemialius\" : \"Hemiaulus\", \n",
    " \"Gonylaux\" : \"Gonyaulax\", \n",
    " \"Proprocentrum\" : \"Prorocentrum\", \n",
    " \"Protopteridinium\" : \"Protoperidinium\", \n",
    " \"Kofodinium\" : \"Kofoidinium\",\n",
    " \"Protopterodinium\" : \"Protoperidinium\", \n",
    " \"Chaetocerus\" : \"Chaetoceros\", \n",
    " \"Rhabdosphera\" : \"Rhabdosphaera\", \n",
    " \"Girosigma\" : \"Gyrosigma\", \n",
    " \"Protoperidinuum\" : \"Protoperidinium\", \n",
    " \"Alexandrinum\" : \"Alexandrium\", \n",
    " \"Brachydinium\" : \"Brachidinium\",\n",
    " \"Prococystis\" : \"Protocystis\",\n",
    " \"Cheatoceros\" : \"Chaetoceros\",\n",
    " \"Dinoflagellati\" : \"Dinoflagellata\",\n",
    " \"fraudolenta\" : \"fraudulenta\",\n",
    " \"Pseudo nitzschia\" : \"Pseudo-nitzschia\", \n",
    " \"pseudelicatissima\" : \"pseudodelicatissima\", \n",
    " \"Pseudonitzschia\" : \"Pseudo-nitzschia\",\n",
    " \"Pseudo-nitzscha\" : \"Pseudo-nitzschia\", \n",
    " \"peruvianos\" : \"peruvianus\", \n",
    " \"crvisetus\" : \"curvisetus\", \n",
    " \"Mesopoross\" : \"Mesoporos\", \n",
    " \"Tetraedon\" : \"Tetraedron\"\n",
    "}\n",
    "\n",
    "\n",
    "complete_corrections = {\n",
    " \"Pseudonitzschia\" : \"Pseudo-nitzschia\", \n",
    "\"Gunardia striata\" : \"Guinardia striata\", \n",
    "\"Guanardia striata\" : \"Guinardia striata\", \n",
    "\"Gymnodinium wulfii\" : \"Gymnodinium wulffii\",\n",
    "\"Altro fitoplancton\" : \"Other phytoplankton\", \n",
    "\"Gyrodinium fusiform\" : \"Gyrodinium fusiforme\",\n",
    "\"Gyrodinium fusiformis.\" : \"Gyrodinium fusiforme\",\n",
    "\"Altro fitoplancton indet.\" : \"Other phytoplankton\",\n",
    "\"Hemialius hauckii\" : \"Hemiaulus hauckii\", \n",
    "\"Hemiaulus haukii\" : \"Hemiaulus hauckii\",\n",
    "\"Hemiaulus senensis\" : \"Hemiaulus sinensis\",\n",
    "\"Hemiaulus seniensis\" :  \"Hemiaulus sinensis\",\n",
    "\"Hemiaulus siniensis\" : \"Hemiaulus sinensis\",\n",
    "\"Heterocapsa rotondata\" : \"Heterocapsa rotundata\",\n",
    "\"Karenia papillionacea\" : \"Karenia papilionacea\",\n",
    "\"Karenia papillonacea\" : \"Karenia papilionacea\", \n",
    "\"Kofodinium sp.\" : \"Kofoidinium sp.\",\n",
    "\"Lauderia annullata\" : \"Lauderia annulata\",\n",
    "\"Leptocylindrus cf. . convexus\" : \"Leptocylindrus convexus\", \n",
    "\"Leptocylindrus miimus\" : \"Leptocylindrus minimus\",\n",
    "\"Leptocylindrus minimum\" : \"Leptocylindrus minimus\",\n",
    "\"Mesoporus adriaticus\" : \"Mesoporos adriaticus\",\n",
    "\"Mesoporus spp.\" : \"Mesoporos spp.\",\n",
    "\"Mesopros sp.\" : \"Mesoporos sp.\",\n",
    "\"Mesoporo\" : \"Mesoporo sp.\",\n",
    "\"Minuscola bipes\" : \"Minuscula bipes\",\n",
    "\"Navicula\" : \"Navicula spp.\",\n",
    "\"Nitzchia sp.\" : \"Nitzschia sp.\",\n",
    "\"Prorocentrum compressus\" : \"Prorocentrum compressum\",\n",
    "\"Prorocentrum sp. inf 20 µm\" : \"Prorocentrum sp. (ø inf. 20µm)\",\n",
    "\"Prorocentrum sp. sup 20 µm\" : \"Prorocentrum sp. (ø sup. 20µm)\",\n",
    "\"Prorocentrum spp. sup 20 µm\" : \"Prorocentrum spp. (ø sup. 20µm)\",\n",
    "\"Group\" : \"Other phytoplankton\",\n",
    "\"Protoperidinium inf 20 µm\" : \"Protoperidinium indet. (ø inf. 20µm)\",\n",
    "\"Protoperidinium o pentapharsodinium\" : \"Peridiniales indet.\",\n",
    "\"Protopteridinium steini\" : \"Protoperidinium steinii\",\n",
    "\"Protopterodinium steini\" : \"Protoperidinium steinii\",\n",
    "\"Pseudosolenia calcar avis\" : \"Pseudosolenia calcar-avis\",\n",
    "\"Psudosolenia calcar-avis\" : \"Pseudosolenia calcar-avis\",\n",
    "\"Rhizosolenia calcar avis\" : \"Rhizosolenia calcar-avis\",\n",
    "\"Rhizosolenia clevei var communis\" : \"Rhizosolenia clevei var. communis\",\n",
    "\"Thalassionema fraunfeldii\" : \"Thalassionema frauenfeldii\",\n",
    "\"Thalassionema nitzschiodies\" : \"Thalassionema nitzschioides\",\n",
    "\"Thalassionema nitzschoides\" : \"Thalassionema nitzschioides\",\n",
    "\"Syracosphaera pulcra\" : \"Syracosphaera pulchra\",\n",
    "\"Indeterminat inon flagellati sup 20 µm\" : \"Non flagellates indet. (ø sup. 20µm)\", \n",
    "\"Altro fitoplancton indet. (ø inf. 20µm)\" : \"Other phytoplankton (ø inf. 20µm)\",\n",
    "\"Altro fitoplancton indet. (ø sup. 20µm)\" : \"Other phytoplankton (ø sup. 20µm)\", \n",
    "\"Altro_fitoplanctonerminati inf 20 µm\" : \"Other phytoplankton (ø sup. 20µm)\", \n",
    "\"Altro_fitoplanctonerminati non flagellati sup 20 µm\" : \"Non flagellates indet. (ø sup. 20µm)\", \n",
    "\"Asteromphaluscf. parvulus\" : \"Asteromphalus parvulus\",\n",
    "\"Ceratium fusum\" : \"Ceratium fusus\",\n",
    "\"Asteromphaluscf. sarcophagus\" : \"Asteromphalus sarcophagus\",\n",
    "\"Altro_fitoplancton inf 20 µm\" : \"Other phytoplankton (ø inf. 20µm)\", \n",
    "\"Altro_fitoplancton non flagellati sup 20 µm\" : \"Non flagellates indet. (ø sup. 20µm)\", \n",
    "\"Bacillariophyceae\" : \"Bacillariophyceae indet.\", \n",
    "\"Bacillariophyceae < 20\" : \"Bacillariophyceae indet. (ø inf. 20µm)\", \n",
    "\"Bacillariophyceae indet. < 20\" : \"Bacillariophyceae indet. (ø inf. 20µm)\",\n",
    "\"Bacillariophyceae indet. < 20um\" : \"Bacillariophyceae indet. (ø inf. 20µm)\",\n",
    "\"Bacillariophyceae inf 20 micron\" : \"Bacillariophyceae indet. (ø inf. 20µm)\",\n",
    "\"Bacillariophyceae sup 20 micron\" : \"Bacillariophyceae indet. (ø sup. 20µm)\", \n",
    "\"Bacillariophyta\" : \"Bacillariophyta indet.\",\n",
    "\"Bacillariopyta inf 20 micron\" : \"Bacillariophyta indet. (ø inf. 20µm)\",\n",
    "\"Bacillariophyta inf 20 micron\" : \"Bacillariophyta indet. (ø inf. 20µm)\", \n",
    "\"Bacillariophyta inf 20 µm\" : \"Bacillariophyta indet. (ø inf. 20µm)\", \n",
    "\"Bacillariophyta inf. 20 micron\" : \"Bacillariophyta indet. (ø inf. 20µm)\",\n",
    "\"Bacillariophyta inf. 20 µm\" : \"Bacillariophyta indet. (ø inf. 20µm)\",\n",
    "\"Bacillariophyta sup 20 micon\" : \"Bacillariophyta indet. (ø sup. 20µm)\",\n",
    "\"Bacillariophyta sup 20 micron\" : \"Bacillariophyta indet. (ø sup. 20µm)\",\n",
    "\"Bacillariophyta sup 20 µm\" : \"Bacillariophyta indet. (ø sup. 20µm)\",\n",
    "\"Bacillariophyta sup. 20 micron\" : \"Bacillariophyta indet. (ø sup. 20µm)\",\n",
    "\"Bacillariophyta sup. 20 µm\": \"Bacillariophyta indet. (ø sup. 20µm)\",\n",
    "\"Bacillariophyta indet. (ø sup. 20µm)\" :\"Bacillariophyta indet. (ø sup. 20µm)\", \n",
    "\"Cf. . amphidinium spp.\" : \"Amphidinium spp.\",\n",
    "\"Chaetoceros anastamousus\" : \"Chaetoceros anastomosans\",\n",
    "\"Chaetoceros anastemousus\" : \"Chaetoceros anastomosans\",\n",
    "\"Chaetoceros anastomonas\" : \"Chaetoceros anastomosans\",\n",
    "\"Chaetoceros anastomosous\" : \"Chaetoceros anastomosans\",\n",
    "\"Chaetoceros anastomosus\" : \"Chaetoceros anastomosans\",\n",
    "\"Chaetoceros anastomousus\" : \"Chaetoceros anastomosans\",\n",
    "\"Chaetoceros anastoumosus\" : \"Chaetoceros anastomosans\", \n",
    "\"Chlorodendrophyceae\" : \"Chlorodendrophyceae indet.\", \n",
    "\"Chlorophyceae\" : \"Chlorophyceae indet.\", \n",
    "\"Chlorophyta\" : \"Chlorophyta indet.\", \n",
    "\"Chriptophyceae\" : \"Cryptophyceae indet.\", \n",
    "\"Chroococcales\" : \"Chroococcales indet.\", \n",
    "\"Chrysochromulina\" : \"Chrysochromulina sp.\", \n",
    "\"Chrysocromulina\" : \"Chrysochromulina sp.\", \n",
    "\"Chrysophyceae\" : \"Chrysophyceae indet.\",\n",
    "\"Chrysophyceae indet\" : \"Chrysophyceae indet.\", \n",
    "\"Cianobatteri filamentosi\" : \"Cyanobacteria\",\n",
    "\"Cianobatteri non filamentosi\" : \"Cyanobacteria\", \n",
    "\"Cianophyceae indet\" : \"Cyanophyceae indet.\", \n",
    "\"Cisti di protoperidinium sp.\" : \"Protoperidinium sp.\", \n",
    "\"Coccolithophyceae\" : \"Coccolithophyceae indet.\",\n",
    "\"Coccolithophyceae indet. < 20\" : \"Coccolithophyceae indet. (ø inf. 20µm)\",\n",
    "\"Coccolithopyceae\" : \"Coccolithophyceae indet.\",\n",
    "\"Coccolithphyceae\" : \"Coccolithophyceae indet.\",\n",
    "\"Coccolitophyceae\" : \"Coccolithophyceae indet.\",\n",
    "\"Coccolitophyceae indet.\" : \"Coccolithophyceae indet.\",\n",
    "\"Coccolitophyceae sup 20 µm\" : \"Coccolithophyceae indet. (ø sup. 20µm)\",\n",
    "\"Coscinodiscophyceae\" : \"Coscinodiscophyceae indet.\", \n",
    "\"Cryptophyceae\" : \"Cryptophyceae indet.\",\n",
    "\"Cyanophyceae\" : \"Cyanophyceae indet.\",\n",
    "\"Cyanophyceae indet\" : \"Cyanophyceae indet.\",\n",
    "\"Cyanophyceae indet filamenti\" : \"Cyanophyceae indet.\", \n",
    "\"Diatoma\" : \"Diatoma sp.\",\n",
    "\"Diatoma s. p.\" : \"Diatoma sp.\",\n",
    "\"Diatoma s. p. p.\" : \"Diatoma spp.\",\n",
    "\"Diatomee indet\" : \"Diatoms indet.\",\n",
    "\"Dictyochophyceae\" : \"Dictyochophyceae indet.\", \n",
    "\"Dinoflagellata\" : \"Dinoflagellata indet.\",\n",
    "\"Dinophyceae\" : \"Dinophyceae indet.\",\n",
    "\"Dinophyceae indet (ø sup. 20µm)\" : \"Dinophyceae indet. (ø sup. 20µm)\",\n",
    "\"Dinophyceae inf 20 micron\" : \"Dinophyceae indet. (ø inf. 20µm)\",\n",
    "\"Dinophyceae inferiori 20 micron\" : \"Dinophyceae indet. (ø inf. 20µm)\",\n",
    "\"Dinophyceae sup 20 micron\" : \"Dinophyceae indet. (ø sup. 20µm)\",\n",
    "\"Dinophyceae sup 20 µm\" : \"Dinophyceae indet. (ø sup. 20µm)\",\n",
    "\"Dinophyceae sup. 20 micron\" : \"Dinophyceae indet. (ø sup. 20µm)\",\n",
    "\"Dinophyceae superiori 20 micron\" : \"Dinophyceae indet. (ø sup. 20µm)\", \n",
    "\"Euglenophyceae\" : \"Euglenophyceae indet.\",\n",
    "\"Euglenophyceae indet. < 20 µm\" : \"Euglenophyceae indet. (ø inf. 20µm)\",\n",
    "\"Euglenophyceae indet. > 20 µm\" : \"Euglenophyceae indet. (ø sup. 20µm)\",\n",
    "\"Eutreptiaceae\" : \"Eutreptiaceae indet.\",\n",
    "\"Eutreptiaceae indet\" : \"Eutreptiaceae indet.\",\n",
    "\"Eutreptiella\" : \"Eutreptiella sp.\",\n",
    "\"Fitoplancton indet.\" : \"Other phytoplankton\",\n",
    "\"Flagellati inf 20 micron\" : \"Flagellates indet. (ø inf. 20µm)\",\n",
    "\"Flagellati inf 20 µm\" : \"Flagellates indet. (ø inf. 20µm)\",\n",
    "\"Flagellati inf a 20 micron\" : \"Flagellates indet. (ø inf. 20µm)\",\n",
    "\"Flagellati inf a 20 µm\" : \"Flagellates indet. (ø inf. 20µm)\",\n",
    "\"Flagellato inf 20 µm\" : \"Flagellates indet. (ø inf. 20µm)\",\n",
    "\"Gymnodiniaceae\" : \"Gymnodiniaceae indet.\", \n",
    "\"Gymnodiniaceae inf 20 micron\" : \"Gymnodiniaceae indet. (ø inf. 20µm)\",\n",
    "\"Gymnodiniaceae inf 20 µm\" : \"Gymnodiniaceae indet. (ø inf. 20µm)\",\n",
    "\"Gymnodiniaceae sup 20 micron\" : \"Gymnodiniaceae indet. (ø sup. 20µm)\",\n",
    "\"Gymnodiniaceae sup 20 µm\" : \"Gymnodiniaceae indet. (ø sup. 20µm)\",\n",
    "\"Gymnodiniales\" : \"Gymnodiniales indet.\",\n",
    "\"Gymnodiniales (ø inf. 20µm)\" : \"Gymnodiniales indet. (ø inf. 20µm)\",\n",
    "\"Gymnodiniales inf 20 micron\" : \"Gymnodiniales indet. (ø inf. 20µm)\",\n",
    "\"Gymnodiniales inf 20 µm\" : \"Gymnodiniales indet. (ø inf. 20µm)\",\n",
    "\"Gymnodiniales sup 20 micron\" : \"Gymnodiniales indet. (ø sup. 20µm)\",\n",
    "\"Gymnodiniales sup 20 µm\" : \"Gymnodiniales indet. (ø sup. 20µm)\",\n",
    "\"Haptophyta\" : \"Haptophyta indet.\", \n",
    "\"Ind. sup 20 micron\" : \"Other phytoplankton (ø sup. 20µm)\",\n",
    "\"Indet\" : \"Other phytoplankton\",\n",
    "\"Indeterminati\" : \"Other phytoplankton\",\n",
    "\"Indeterminati forma siluro sup. 20 µm\" : \"Other phytoplankton (Ø sup. 20µm)\",\n",
    "\"Indeterminati inf 20 micron\" : \"Other phytoplankton (Ø inf. 20µm)\",\n",
    "\"Indeterminati inf 20 µm\" : \"Other phytoplankton (Ø inf. 20µm)\",\n",
    "\"Indeterminati inf. 20 micron\" : \"Other phytoplankton (Ø inf. 20µm)\",\n",
    "\"Indeterminati non flag inf. 20 micron\" : \"Other phytoplankton (Ø inf. 20µm)\",\n",
    "\"Indeterminati non flag inf. 20 µm\" : \"Other phytoplankton (Ø inf. 20µm)\",\n",
    "\"Indeterminati non flag sup. 20 micron\" : \"Other phytoplankton (Ø sup. 20µm)\",\n",
    "\"Indeterminati non flag sup. 20 µm\" : \"Other phytoplankton (Ø sup. 20µm)\",\n",
    "\"Indeterminati non flagellati\" : \"Non flagellates indet. \",\n",
    "\"Indeterminati non flagellati inf 20 micron\" : \"Non flagellates indet. (Ø inf. 20µm)\",\n",
    "\"Indeterminati non flagellati inf 20 µm\" : \"Non flagellates indet. (Ø inf. 20µm)\",\n",
    "\"Indeterminati non flagellati sup 20 micron\" : \"Non flagellates indet. (Ø sup. 20µm)\",\n",
    "\"Indeterminati non flagellati sup 20 µm\" : \"Other phytoplankton (Ø sup. 20µm)\",\n",
    "\"Indeterminati sup 20 micron\" : \"Other phytoplankton (Ø sup. 20µm)\",\n",
    "\"Indeterminati sup 20 µm\" : \"Other phytoplankton (Ø sup. 20µm)\",\n",
    "\"Indeterminati sup a 20 micron\" : \"Other phytoplankton (Ø sup. 20µm)\",\n",
    "\"Indeterminati sup. 20 micron\" : \"Other phytoplankton (Ø sup. 20µm)\",\n",
    "\"Indeterminato inon flagellati sup 20 µm\" : \"Non flagellates indet. (Ø sup. 20µm)\",\n",
    "\"Indeterminato non flagellato inf 20 µm\" : \"Non flagellates indet. (Ø inf. 20µm)\",\n",
    "\"Indeterminato non flagellato sup 20 µm\" : \"Non flagellates indet. (Ø sup. 20µm)\",\n",
    "\"Indeterminato sup 20 µm\" : \"Other phytoplankton (Ø sup. 20µm)\",\n",
    "\"Lessardia elongata > 20 um\" : \"Lessardia elongata\",\n",
    "\"Navicula sp. inf 20 µm\" : \"Navicula sp. (Ø inf. 20µm)\",\n",
    "\"Navicula sp. sup 20 µm\" : \"Navicula sp. (Ø sup. 20µm)\",\n",
    "\"Navicula spp. sup 20 micron\" : \"Navicula spp. (Ø sup. 20µm)\",\n",
    "\"Navicula spp. sup. 20 micron\" : \"Navicula spp. (Ø sup. 20µm)\",\n",
    "\"Naviculaceae indet\" : \"Naviculaceae indet.\",\n",
    "\"Octactis octonaria v. pulchra\" : \"Octactis octonaria var. pulchra\", \n",
    "\"Oscillatoriales\" : \"Oscillatoriales indet.\",\n",
    "\"Oscillatoriales ind.\" : \"Oscillatoriales indet.\",\n",
    "\"Oxytoxum variabile < 20\" : \"Oxytoxum variabile\",\n",
    "\"Oxytoxum variabile < 20 µm\" : \"Oxytoxum variabile\",\n",
    "\"Oxytoxum variabile > 20\" : \"Oxytoxum variabile\",\n",
    "\"Oxytoxum variabile > 20 µm\" : \"Oxytoxum variabile\",\n",
    "\"Pedinellaceae\" : \"Pedinellaceae indet.\",\n",
    "\"Pedinellaceae indet\" : \"Pedinellaceae indet.\",\n",
    "\"Pedinellales\" : \"Pedinellales indet.\", \n",
    "\"Peridiniales\" : \"Peridiniales indet.\",\n",
    "\"Peridiniales inf 20 micron\" : \"Peridiniales indet. (Ø inf. 20µm)\",\n",
    "\"Peridiniales spp.\" : \"Peridiniales indet.\",\n",
    "\"Peridiniales sup. 20 micron\" : \"Peridiniales indet. (Ø sup. 20µm)\", \n",
    "\"Plagioselmis\" : \"Plagioselmis sp.\", \n",
    "\"Prasinophyceae\" : \"Prasinophyceae indet.\",\n",
    "\"Prasinophyceae indet\" : \"Prasinophyceae indet.\",\n",
    "\"Prymnesiales\" : \"Prymnesium indet.\",\n",
    "\"Prymnesiophyceae\" : \"Coccolithophyceae indet.\",\n",
    "\"Prymnesiophyceae indet.\" : \"Coccolithophyceae indet.\",\n",
    "\"Pseudonitzschia group spp.\" : \"Pseudo-nitzschia spp.\", \n",
    "\"Pseudonitzschia pseudelicatissima\" : \"Pseudo-nitzschia pseudodelicatissima\",\n",
    "\"Pseudonitzschia pseudodelicatissima group\" : \"Pseudo-nitzschia pseudodelicatissima\",\n",
    "\"Pseudonitzschia s.\" : \"Pseudo-nitzschia sp.\", \n",
    "\"Pseudosolenia calcar- avis\" : \"Pseudosolenia calcar-avis\",\n",
    "\"Pyramimonadophyceae\" : \"Pyramimonadophyceae indet.\",\n",
    "\"Raphidophyceae\" : \"Raphidophyceae indet.\",\n",
    "\"Raphidophyceae indt.\" : \"Raphidophyceae indet.\",\n",
    "\"Syracosphaera pulchra > 20\" : \"Syracosphaera pulchra\",\n",
    "\"Syracosphaera pulchra > 20um\" : \"Syracosphaera pulchra\",\n",
    "\"Torodinium robustum > 20\" : \"Torodinium robustum\", \n",
    "\"Cianophyceae indet.\" : \"Cyanophyceae indet.\", \n",
    "\"Coscinodiscophycea indet.\" : \"Coscinodiscophycidae indet.\", \n",
    "\"Pseudonitzschia fraudolenta\" : \"Pseudo-nitzschia fraudulenta\", \n",
    "\"Pseudonitzschia delicatissima.\" : \"Pseudo-nitzschia delicatissima\", \n",
    "\"A. cf. aculeata\" : \"Acanthocardia sp.\", \n",
    "\"Rhoicosphenia\" : \"Rhoicosphenia spp.\",\n",
    "\"Protoperidinium\" : \"Protoperidinium spp.\",\n",
    "\"Tetraselmis\" : \"Tetraselmis spp.\", \n",
    "\"Kinetoplastidea\" : \"Kinetoplastidea indet.\", \n",
    "\"Gonyaulacaceae\" : \"Gonyaulacaceae indet.\", \n",
    "\"Mediophyceae\" : \"Mediophyceae indet.\", \n",
    "\"Lingulodinium polyedrum\" : \"Lingulodinium polyedra\",\n",
    "\"Ditylum brightwelli\" : \"Ditylum brightwellii\",\n",
    "\"Gyrosigma fusiforme\" : \"Gyrosigma sp.\",\n",
    "\"Chattonella subsalsa tipo\" : \"Chattonella subsalsa\",\n",
    "\"Chaetoceros blavyanus\" : \"Dactyliosolen blavyanus\", \n",
    "\"Thalassiosira weissfl gii\" : \"Thalassiosira weissflogii\",\n",
    "\"Karlodinium glaucum\" : \"Katodinium glaucum\",\n",
    "\"Scyphosphaera elegans\" : \"Other phytoplankton\", \n",
    "'Bacillariophyceae bacillariales' : 'Bacillariales', \n",
    "'Bacillariophyceae biddulphiales' : \"Biddulphiales\",\n",
    "\"Coscinodiscus radiates\" : \"Coscinodiscus radiatus\", \n",
    "'Lessar elongata' : 'Lessardia elongata', \n",
    "'Lessardia elongata > 20 um' : 'Lessardia elongata', \n",
    "\"Melosira nummulloides\" : \"Melosira nummuloides\", \n",
    "\"Chaetoceros deblis\" : \"Chaetoceros debilis\", \n",
    "\"Chaetoceros peruvinus\" : \"Chaetoceros peruvianus\", \n",
    "'Indeterminati inf 20 µm' : \"Other phytoplankton\", \n",
    "'Indeterminati sup 20 µm' : \"Other phytoplankton (Ø sup. 20µm)\", \n",
    "'Indeterminati non flagellati' : \"Non flagellates indet.\",\n",
    "\"Indeterminat inon flagellati sup 20 µm\" : \"Non flagellates indet. (Ø sup. 20µm)\", \n",
    "\"Diatomee indet.\" : \"Bacillariophyceae indet.\",\n",
    "'Altro_fitoplancton' : \"Other phytoplankton\", \n",
    "'Diatomee' : \"Bacillariophyceae indet.\", \n",
    "'Diatomee  ' : \"Bacillariophyceae indet.\", \n",
    "'Dinoflagellate' : \"Dinoflagellata indet.\", \n",
    "\"Prorocentrum gracilis\" : \"Prorocentrum gracile\", \n",
    "\"Pyrocystis obstusa\" : \"Pyrocystis obtusa\", \n",
    "\"Protoperidinium steiini\" : \"Protoperidinium steinii\", \n",
    "\"Bacteriastrum delicatum\" : \"Bacteriastrum delicatulum\",\n",
    "\"Guinardia flaccia\" : \"Guinardia flaccida\", \n",
    "\"Protoperidinium steini\" :  \"Protoperidinium steinii\",\n",
    "\"Protoperidinium trystilum\" : \"Protoperidinium tristylum\", \n",
    "\"Skeletonema mediterraneum\" : \"Skeletonema mediterranea\", \n",
    "\"Ollicola vangoori\" : \"Ollicola vangoorii\", \n",
    "\"Dactyliosolen puketensis\" : \"Dactyliosolen phuketensis\", \n",
    "\"Skeletonema pseudocostatus\" : \"Skeletonema pseudocostatum\", \n",
    "\"Rhodomonas amphiozieria\" : \"Rhodomonas amphioxeia\", \n",
    "\"Syracosphaera apsteinii\" : \"Syracolithus schilleri\", \n",
    "\"Protoperidinium stenii\" : \"Protoperidinium steinii\",\n",
    "\"Chaetoceros diersus\" : \"Chaetoceros diversus\", \n",
    "\"Scyphosphaera pulchra\" : \"Syracosphaera pulchra\", \n",
    "\"Rabdosphaera claviger\" : \"Rhabdosphaera clavigera\", \n",
    "\"Syracosphaera apnestii\" : \"Syracolithus schilleri\", \n",
    "\"Rhabdosphaera claviger\" : \"Rhabdosphaera clavigera\", \n",
    "\"Kinetoplastidea indet.\": \"Kinetoplastea indet.\",\n",
    "\"Chaetoceros peruvianos\" : \"Chaetoceros peruvianus\", \n",
    "\"Chaetoceros crvisetus\" : \"Chaetoceros curvisetus\", \n",
    "\"Dictyocha fbula\" : \"Dictyocha fibula\", \n",
    "\"Bacteriastrum fureatum\" : \"Bacteriastrum furcatum\", \n",
    "\"Ceratocorys gourreti\" : \"Ceratocorys gourretii\", \n",
    "\"Ceratium hirudinella\" : \"Ceratium hirundinella\", \n",
    "\"Syracolithus dentatus\" : \"Syracolithus sp.\", \n",
    "\"Gymnodinium vestificii\" : \"Gymnodinium vestifici\", \n",
    "\"Dactyliosolen antarticus\" : \"Dactyliosolen antarcticus\",\n",
    "\"Gonyaulax monocantha\" : \"Gonyaulax monacantha\",\n",
    "\"Chaetoceros daday\" : \"Chaetoceros dadayi\", \n",
    "\"Rhabdosphaera stylifer\" : \"Rhabdosphaera stylifera\", \n",
    "\"Diploneis cabro\" : \"Diploneis crabro\", \n",
    "\"Pyramimonas grosii\" : \"Pyramimonas grossii\", \n",
    "\"Chaetoceros laevis\" : \"Chaetoceros levis\", \n",
    "\"Oxytoxum constrictus\" : \"Oxytoxum constrictum\",\n",
    "\"Nephrophyceae indet\" : 'Nephroselmidophyceae indet.'\n",
    "}"
   ]
  },
  {
   "cell_type": "code",
   "execution_count": 19,
   "metadata": {},
   "outputs": [],
   "source": [
    "taxa = phyto_abund_raw.loc[:, \"Taxon\"]\n",
    "for before, after in partial_corrections.items(): \n",
    "    taxa = taxa.apply(lambda name: re.sub(before, after, name))\n",
    "\n",
    "for before, after in complete_corrections.items(): \n",
    "    taxa[taxa == before] = after\n",
    "\n",
    "# def correct_names(name):\n",
    "#     new = complete_corrections.get(name) \n",
    "#     if new: \n",
    "#         return new\n",
    "#     return name\n",
    "# taxa = taxa.apply(correct_names)\n"
   ]
  },
  {
   "cell_type": "code",
   "execution_count": 20,
   "metadata": {},
   "outputs": [],
   "source": [
    "regex_commands = {\n",
    "    \"(sp\\.p\\.+|sp\\.p\\.+|spp\\.+|sp\\.p\\.\\.|spp\\.\\.|sp\\.p|spp|sp\\. p\\.)\" : \"spp.\", \n",
    "    \"(sp$|sp.2)\" : \"sp.\",\n",
    "    '(?<=[.,])(?=[^\\s])' : ' ',\n",
    "    #\"indet\\.*\" : \"indet.\",\n",
    "    \"cf\\.*\" : \"cf.\"\n",
    "}\n",
    "for before, after in regex_commands.items(): \n",
    "    taxa = taxa.apply(lambda name: re.sub(before, after, name))"
   ]
  },
  {
   "cell_type": "code",
   "execution_count": 21,
   "metadata": {},
   "outputs": [],
   "source": [
    "taxa[taxa == \"Altro fitoplancton indet. (ø inf. 20µm)\"] = \"Other phytoplankton (ø inf. 20µm)\"\n",
    "taxa[taxa == \"Altro fitoplancton indet. (ø sup. 20µm)\"] = \"Other phytoplankton (ø sup. 20µm)\"\n",
    "taxa[taxa == \"Diatoma s. p.\"] = \"Diatoma sp.\"\n",
    "taxa[taxa == \"Diatoma s. p. p.\"] = \"Diatoma spp.\"\n",
    "taxa[taxa == \"Other Phytoplankton\"] = \"Other phytoplankton\"\n",
    "taxa[taxa == \"Other phytoplankton non flagellati sup 20 µm\"] = \"Other phytoplankton (ø sup. 20µm)\"\n",
    "taxa[taxa == \"Other phytoplankton inf 20 µm\"] = \"Other phytoplankton (ø inf. 20µm)\"\n"
   ]
  },
  {
   "cell_type": "code",
   "execution_count": 22,
   "metadata": {},
   "outputs": [],
   "source": [
    "back_up = phyto_abund_raw.copy(deep=True)"
   ]
  },
  {
   "cell_type": "code",
   "execution_count": 23,
   "metadata": {},
   "outputs": [],
   "source": [
    "taxa = taxa.apply(lambda x: re.sub(\"indet(?!\\.)\", \"indet.\", x))"
   ]
  },
  {
   "cell_type": "code",
   "execution_count": 25,
   "metadata": {},
   "outputs": [],
   "source": [
    "phyto_abund_raw[\"Taxon\"] = taxa"
   ]
  },
  {
   "cell_type": "code",
   "execution_count": 26,
   "metadata": {},
   "outputs": [],
   "source": [
    "phyto_abund_raw[[\"Region\", \"id\", \"Longitude\", \"Latitude\", \"Closest_coast\", \"Date\", \"SampleDepth\", \"Group\", \"Taxon\", \"Num_cell_l\", \"Remarks\", \"file_name\"]].to_csv(_HOME_ + \"/PHD/MSFD/Data/Modulo1/phyto_abund_corrected.csv\")\n",
    "del phyto_abund_raw"
   ]
  },
  {
   "cell_type": "markdown",
   "metadata": {},
   "source": [
    "## modify dataset "
   ]
  },
  {
   "cell_type": "markdown",
   "metadata": {},
   "source": [
    "subsituting in Marche samples with \"<120\" cell/L with uniform random number "
   ]
  },
  {
   "cell_type": "code",
   "execution_count": 4,
   "metadata": {},
   "outputs": [
    {
     "name": "stderr",
     "output_type": "stream",
     "text": [
      "/tmp/ipykernel_804/2115254911.py:1: DtypeWarning: Columns (10) have mixed types. Specify dtype option on import or set low_memory=False.\n",
      "  phyto_abundances = pd.read_csv(_HOME_ + \"/PHD/MSFD/Data/Modulo1/phyto_abund_corrected.csv\",index_col=0)\n"
     ]
    }
   ],
   "source": [
    "phyto_abundances = pd.read_csv(_HOME_ + \"/PHD/MSFD/Data/Modulo1/phyto_abund_corrected.csv\",index_col=0)"
   ]
  },
  {
   "cell_type": "code",
   "execution_count": 5,
   "metadata": {},
   "outputs": [],
   "source": [
    "phyto_abundances.loc[phyto_abundances[\"Num_cell_l\"] == \"<120\", \"Num_cell_l\"] = np.vectorize(str)(np.random.randint(10, 120, phyto_abundances.loc[phyto_abundances[\"Num_cell_l\"] == \"<120\", \"Num_cell_l\"].size))\n",
    "phyto_abundances[\"Num_cell_l\"] = phyto_abundances[\"Num_cell_l\"].astype(float)\n",
    "phyto_abundances.rename(columns={\"SampleDepth\" : \"Sample_depth\"}, inplace=True)\n",
    "phyto_abundances[\"Date\"] = pd.to_datetime(phyto_abundances[\"Date\"], format = '%Y-%m-%d')\n",
    "phyto_abundances.drop_duplicates(inplace=True)\n",
    "phyto_abundances = phyto_abundances[phyto_abundances[\"Num_cell_l\"] != 0]"
   ]
  },
  {
   "cell_type": "markdown",
   "metadata": {},
   "source": [
    "moving double sample to previous or following month when they are temporally close  "
   ]
  },
  {
   "cell_type": "code",
   "execution_count": 6,
   "metadata": {},
   "outputs": [],
   "source": [
    "cond = (phyto_abundances[\"Region\"] == \"Emilia-Romagna\") & ((phyto_abundances[\"Date\"] == \"2015-10-05\") | (phyto_abundances[\"Date\"] == \"2015-10-09\"))\n",
    "phyto_abundances.loc[cond, \"Date\"] = datetime.datetime(2015, 9, 30)\n",
    "cond = (phyto_abundances[\"Region\"] == \"Marche\") & ((phyto_abundances[\"Date\"] == \"2016-03-08\") | (phyto_abundances[\"Date\"] == \"2016-03-02\"))\n",
    "phyto_abundances.loc[cond, \"Date\"] = datetime.datetime(2016, 2, 27)\n",
    "cond = (phyto_abundances[\"Region\"] == \"Marche\") & (phyto_abundances[\"Date\"] == \"2017-04-04\")\n",
    "phyto_abundances.loc[cond, \"Date\"] = datetime.datetime(2017, 3, 30)\n",
    "cond = (phyto_abundances[\"Region\"] == \"Marche\") & (phyto_abundances[\"Date\"] == \"2017-05-02\")\n",
    "phyto_abundances.loc[cond, \"Date\"] = datetime.datetime(2017, 4, 30)\n",
    "cond = (phyto_abundances[\"Region\"] == \"Veneto\") & (phyto_abundances[\"Date\"] == \"2016-05-05\")\n",
    "phyto_abundances.loc[cond, \"Date\"] = datetime.datetime(2016, 4, 30)"
   ]
  },
  {
   "cell_type": "markdown",
   "metadata": {},
   "source": [
    "grouping together higher cat. taxa "
   ]
  },
  {
   "cell_type": "code",
   "execution_count": 7,
   "metadata": {},
   "outputs": [],
   "source": [
    "phyto_abundances.loc[:, \"Taxon\"] = phyto_abundances.loc[:, \"Taxon\"].str.replace(\"sp\\.|cf.\\s.*\", \"spp.\", regex = True)\n",
    "phyto_abundances.loc[:, \"Taxon\"] = phyto_abundances.loc[:, \"Taxon\"].str.replace(\"Bacillariophyceae.*\", \"Bacillariophyceae indet.\", regex = True)\n",
    "phyto_abundances.loc[:, \"Taxon\"] = phyto_abundances.loc[:, \"Taxon\"].str.replace(\"Bacillariophyta.*\", \"Bacillariophyta indet.\", regex = True)\n",
    "phyto_abundances.loc[:, \"Taxon\"] = phyto_abundances.loc[:, \"Taxon\"].str.replace(\"Chlorodendrophyceae.*\", \"Chlorophyta indet.\", regex = True)\n",
    "phyto_abundances.loc[:, \"Taxon\"] = phyto_abundances.loc[:, \"Taxon\"].str.replace(\"Chlorophyceae.*\", \"Chlorophyta indet.\", regex = True)\n",
    "phyto_abundances.loc[:, \"Taxon\"] = phyto_abundances.loc[:, \"Taxon\"].str.replace(\"Coccolithophyceae.*\", \"Coccolithophyceae indet.\", regex = True)\n",
    "phyto_abundances.loc[:, \"Taxon\"] = phyto_abundances.loc[:, \"Taxon\"].str.replace(\"Dinophyceae.*\", \"Dinophyceae indet.\", regex = False)\n",
    "phyto_abundances.loc[:, \"Taxon\"] = phyto_abundances.loc[:, \"Taxon\"].str.replace(\"Euglenophyceae.*\", \"Euglenophyceae indet.\", regex = True)\n",
    "phyto_abundances.loc[:, \"Taxon\"] = phyto_abundances.loc[:, \"Taxon\"].str.replace(\"Gymnodiniales.*\", \"Gymnodiniales indet.\", regex = True) \n",
    "phyto_abundances.loc[:, \"Taxon\"] = phyto_abundances.loc[:, \"Taxon\"].str.replace(\"Gymnodiniaceae.*\",\"Gymnodiniaceae indet.\", regex = True)\n",
    "phyto_abundances.loc[:, \"Taxon\"] = phyto_abundances.loc[:, \"Taxon\"].str.replace(\"Peridiniales.*\", \"Peridiniales indet.\", regex = True)\n",
    "phyto_abundances.loc[:, \"Taxon\"] = phyto_abundances.loc[:, \"Taxon\"].str.replace(\" \\(.*\\)\", \"\", regex = True, case=False)\n",
    "phyto_abundances.loc[:, \"Taxon\"] = phyto_abundances.loc[:, \"Taxon\"].str.replace(\"Cyanophyceae indet. filamenti\", \"Cyanophyceae indet.\", regex = False, case=False)"
   ]
  },
  {
   "cell_type": "markdown",
   "metadata": {},
   "source": [
    "removing species var. cf. f."
   ]
  },
  {
   "cell_type": "code",
   "execution_count": 8,
   "metadata": {},
   "outputs": [],
   "source": [
    "taxons = phyto_abundances.loc[phyto_abundances[\"Taxon\"].str.contains(\"var.\", regex=False), \"Taxon\"].unique()\n",
    "condition = phyto_abundances[\"Taxon\"].isin(taxons)\n",
    "phyto_abundances.loc[condition, \"Taxon\"] = phyto_abundances.loc[condition, \"Taxon\"].str.replace(\" var.*\", \"\",regex=True)\n",
    "condition = phyto_abundances[\"Taxon\"].str.contains(\"cf\\.|f\\.\", case=False, regex=True)\n",
    "phyto_abundances.loc[condition, \"Taxon\"] = phyto_abundances.loc[condition, \"Taxon\"].str.replace(\"Cf\\. | f\\. .*\", \"\", regex=True)"
   ]
  },
  {
   "cell_type": "code",
   "execution_count": 12,
   "metadata": {},
   "outputs": [],
   "source": [
    "condition = phyto_abundances[\"Taxon\"].str.endswith(\" \")\n",
    "phyto_abundances.loc[condition, \"Taxon\"] = phyto_abundances.loc[condition, \"Taxon\"].apply(lambda x: x.strip()) "
   ]
  },
  {
   "cell_type": "code",
   "execution_count": 14,
   "metadata": {},
   "outputs": [],
   "source": [
    "phyto_abundances = phyto_abundances.groupby([\"Region\", \"id\", \"Longitude\", \"Latitude\", \"Closest_coast\", \"Date\", \"Sample_depth\", \"Group\", \"Taxon\"]).agg({\"Num_cell_l\" : \"sum\", \"file_name\" : \"first\", \"Remarks\" : \"first\"}).reset_index()"
   ]
  },
  {
   "cell_type": "code",
   "execution_count": 7,
   "metadata": {},
   "outputs": [],
   "source": [
    "phyto_abundances.loc[phyto_abundances[\"Taxon\"] == \"Prymnesiophyceae indet.\", \"Taxon\"] = \"Coccolithophyceae\""
   ]
  },
  {
   "cell_type": "code",
   "execution_count": 5,
   "metadata": {},
   "outputs": [],
   "source": [
    "phyto_abundances.loc[phyto_abundances[\"Taxon\"].str.contains(\"indet.\", regex = False), \"Taxon\"] = phyto_abundances.loc[phyto_abundances[\"Taxon\"].str.contains(\"indet.\", regex = False), \"Taxon\"].apply(lambda x: x.split( \" indet.\")[0])"
   ]
  },
  {
   "cell_type": "code",
   "execution_count": 9,
   "metadata": {},
   "outputs": [],
   "source": [
    "phyto_abundances.loc[phyto_abundances[\"Taxon\"] == \"Dinoflagellata \", \"Taxon\"] = \"Dinoflagellata incertae sedis\""
   ]
  },
  {
   "cell_type": "code",
   "execution_count": 5,
   "metadata": {},
   "outputs": [],
   "source": [
    "phyto_abundances.loc[:, \"Taxon\"] = phyto_abundances[\"Taxon\"].apply(remove_additional_white_spaces)"
   ]
  },
  {
   "cell_type": "code",
   "execution_count": 6,
   "metadata": {},
   "outputs": [],
   "source": [
    "phyto_abundances.to_csv(_HOME_ + \"/PHD/MSFD/Data/Modulo1/phyto_abund_modified.csv\")"
   ]
  },
  {
   "cell_type": "code",
   "execution_count": 4,
   "metadata": {},
   "outputs": [],
   "source": [
    "phyto_abundances =pd.read_csv(_HOME_ + \"/PHD/MSFD/Data/Modulo1/phyto_abund_modified.csv\", index_col = 0)"
   ]
  }
 ],
 "metadata": {
  "kernelspec": {
   "display_name": "Python 3 (ipykernel)",
   "language": "python",
   "name": "python3"
  },
  "language_info": {
   "codemirror_mode": {
    "name": "ipython",
    "version": 3
   },
   "file_extension": ".py",
   "mimetype": "text/x-python",
   "name": "python",
   "nbconvert_exporter": "python",
   "pygments_lexer": "ipython3",
   "version": "3.11.7"
  }
 },
 "nbformat": 4,
 "nbformat_minor": 2
}
