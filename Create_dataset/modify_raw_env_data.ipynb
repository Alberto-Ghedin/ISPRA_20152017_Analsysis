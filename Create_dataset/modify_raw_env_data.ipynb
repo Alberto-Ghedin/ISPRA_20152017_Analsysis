{
 "cells": [
  {
   "cell_type": "code",
   "execution_count": 1,
   "metadata": {},
   "outputs": [],
   "source": [
    "import os\n",
    "import pandas as pd\n",
    "import string\n",
    "from datetime import datetime\n",
    "from os import path\n",
    "import json\n",
    "import numpy as np"
   ]
  },
  {
   "cell_type": "code",
   "execution_count": 2,
   "metadata": {},
   "outputs": [],
   "source": [
    "with open(path.expanduser(\"~\") + \"/sys_specific.json\") as file: \n",
    "    params = json.load(file)\n",
    "_HOME_ = params[\"home\"] + \"/PHD\"\n",
    "\n",
    "excel_path = _HOME_ + \"/MSFD/Data/Modulo1/\""
   ]
  },
  {
   "cell_type": "code",
   "execution_count": 3,
   "metadata": {},
   "outputs": [],
   "source": [
    "with open(_HOME_ + \"/ISPRA_20152017_Analysis/params.json\") as file: \n",
    "    params = json.load(file)\n",
    "best_path = params[\"best_path\"]\n",
    "best_path_sard = params[\"best_path_sard\"]\n",
    "ordered_regions = params[\"ordered_regions\"]\n",
    "seasons = params[\"seasons\"]\n",
    "sorted_season = params[\"sorted_season\"]\n",
    "sea_index = params[\"sea_index\"]\n",
    "ordered_id = params[\"ordered_id\"]\n",
    "sea_index_array = np.array(list(sea_index.values()))\n",
    "del params"
   ]
  },
  {
   "cell_type": "markdown",
   "metadata": {},
   "source": [
    "# import data"
   ]
  },
  {
   "cell_type": "code",
   "execution_count": 69,
   "metadata": {},
   "outputs": [],
   "source": [
    "raw_data = pd.read_csv(excel_path + \"chemical_fis_raw.csv\", dtype = str)"
   ]
  },
  {
   "cell_type": "code",
   "execution_count": 70,
   "metadata": {},
   "outputs": [],
   "source": [
    "raw_data.rename(columns= {\"NationalStationID\" : \"id\", \"Determinand_Nutrients\" : \"Nutrient\"}, inplace=True)"
   ]
  },
  {
   "cell_type": "markdown",
   "metadata": {},
   "source": [
    "# check id and date"
   ]
  },
  {
   "cell_type": "code",
   "execution_count": 71,
   "metadata": {},
   "outputs": [],
   "source": [
    "raw_data[\"id\"] = raw_data[\"id\"].apply(lambda x: x.split(\".\")[0])\n",
    "raw_data[\"id\"] = raw_data[\"id\"].apply(lambda x: str.strip(x))\n",
    "raw_data[\"id\"] = raw_data[\"id\"].apply(lambda x: x.replace(\"M000200\", \"MS00200\"))"
   ]
  },
  {
   "cell_type": "code",
   "execution_count": 72,
   "metadata": {},
   "outputs": [],
   "source": [
    "raw_data[\"Year\"] = raw_data[\"Year\"].apply(lambda x: x.split(\".\")[0])\n",
    "raw_data[\"Month\"] = raw_data[\"Month\"].apply(lambda x: x.split(\".\")[0])\n",
    "raw_data[\"Day\"] = raw_data[\"Day\"].apply(lambda x: x.split(\".\")[0])"
   ]
  },
  {
   "cell_type": "code",
   "execution_count": 73,
   "metadata": {},
   "outputs": [],
   "source": [
    "raw_data[\"Date\"] = pd.to_datetime([f\"{year}-{month}-{day}\" for year, month, day in zip(raw_data[\"Year\"], raw_data[\"Month\"], raw_data[\"Day\"])], format = \"%Y-%m-%d\").date\n",
    "raw_data.drop(columns = [\"Year\", \"Month\", \"Day\", \"Time\"], inplace=True)"
   ]
  },
  {
   "cell_type": "code",
   "execution_count": 74,
   "metadata": {},
   "outputs": [],
   "source": [
    "raw_data[\"SampleDepth\"] = raw_data[\"SampleDepth\"].astype(float)"
   ]
  },
  {
   "cell_type": "markdown",
   "metadata": {},
   "source": [
    "# check nutrients"
   ]
  },
  {
   "cell_type": "code",
   "execution_count": 75,
   "metadata": {},
   "outputs": [],
   "source": [
    "#ox saturation\n",
    "raw_data.loc[raw_data[\"Nutrient\"].isin(['Temperature (water)', 'Temperature ', \"Temperature\"]), \"Nutrient\"] = \"T\"\n",
    "raw_data.loc[raw_data[\"Nutrient\"].isin(['Electrical Conductivity', ' Electrical Conductivity', 'Electrical conductivity']), \"Nutrient\"] = 'E_cond'\n",
    "raw_data.loc[raw_data[\"Nutrient\"].isin(['Dissolved Oxygen', 'Dissolved oxygen']), \"Nutrient\"] = 'DO'\n",
    "raw_data.loc[raw_data[\"Nutrient\"].isin([' ', 'Oxygen Saturation', 'Oxygen saturation']), \"Nutrient\"] = 'O_sat'"
   ]
  },
  {
   "cell_type": "code",
   "execution_count": 76,
   "metadata": {},
   "outputs": [],
   "source": [
    "raw_data.loc[raw_data[\"Nutrient\"].isin([' pH', 'pH ']), \"Nutrient\"] = 'pH'\n",
    "raw_data.loc[raw_data[\"Nutrient\"].isin(['Chlorophyll a']), \"Nutrient\"] = 'Chla'\n",
    "raw_data.loc[raw_data[\"Nutrient\"].isin(['Secchi depth']), \"Nutrient\"] = 'Secchi_depth'\n",
    "raw_data.loc[raw_data[\"Nutrient\"].isin(['Nitrate']), \"Nutrient\"] = 'NO3'\n",
    "raw_data.loc[raw_data[\"Nutrient\"].isin(['Nitrite']), \"Nutrient\"] = 'NO2'\n",
    "raw_data.loc[raw_data[\"Nutrient\"].isin(['Ammonium']), \"Nutrient\"] = 'NH4'\n",
    "raw_data.loc[raw_data[\"Nutrient\"].isin(['Total phosphorus', 'Total Phosphorus']), \"Nutrient\"] = 'TP'\n",
    "raw_data.loc[raw_data[\"Nutrient\"].isin(['Orthophosphates']), \"Nutrient\"] = 'PO4'\n",
    "raw_data.loc[raw_data[\"Nutrient\"].isin(['Total nitrogen', 'Total Nitrogen']), \"Nutrient\"] = 'TN'\n",
    "raw_data.loc[raw_data[\"Nutrient\"].isin(['Silicate']), \"Nutrient\"] = 'SiO4'"
   ]
  },
  {
   "cell_type": "code",
   "execution_count": 81,
   "metadata": {},
   "outputs": [],
   "source": [
    "condition = (raw_data[\"id\"] == \"M1FV6\")  & (pd.to_datetime(raw_data[\"Date\"]) == datetime(2015,7,17)) & (raw_data[\"SampleDepth\"].isin([42.0, 42.5])) & (raw_data[\"Nutrient\"] == \"E_cond\")\n",
    "raw_data.loc[condition, \"Concentration\"] = [46.6000, 46.5500]"
   ]
  },
  {
   "cell_type": "code",
   "execution_count": 82,
   "metadata": {},
   "outputs": [],
   "source": [
    "raw_data[\"Concentration\"] = raw_data[\"Concentration\"].astype(str).apply(lambda x: x.replace(\",\", \".\")).astype(float)"
   ]
  },
  {
   "cell_type": "markdown",
   "metadata": {},
   "source": [
    "## make wide table"
   ]
  },
  {
   "cell_type": "code",
   "execution_count": 14,
   "metadata": {},
   "outputs": [],
   "source": [
    "raw_data.loc[(~raw_data[\"Remarks\"].isna()) & (raw_data[\"Nutrient\"] != \"Chla\"), :].to_csv(_HOME_ + \"/ISPRA_20152017_Analysis/Create_dataset/remarks_nut.csv\", index=0)"
   ]
  },
  {
   "cell_type": "markdown",
   "metadata": {},
   "source": [
    "## CHECK with ML data"
   ]
  },
  {
   "cell_type": "code",
   "execution_count": 13,
   "metadata": {},
   "outputs": [],
   "source": [
    "ml_2016 = pd.read_excel(excel_path + \"QC_2016_V28.02.2024.xlsx\", dtype = str)\n",
    "ml_2017 = pd.read_excel(excel_path + \"QC_2017_V28.02.2024.xlsx\", dtype = str)"
   ]
  },
  {
   "cell_type": "code",
   "execution_count": 14,
   "metadata": {},
   "outputs": [],
   "source": [
    "ml_df = pd.concat([ml_2016, ml_2017], axis=0)"
   ]
  },
  {
   "cell_type": "code",
   "execution_count": 15,
   "metadata": {},
   "outputs": [],
   "source": [
    "ml_ids = ml_df[\"LOCAL_CDI_ID\"].unique()\n",
    "ispra_ids = raw_data[\"id\"].unique()\n",
    "from_ml_to_ispra = {}\n",
    "for ml_id in ml_ids:\n",
    "    matching_ids = [ispra_id for ispra_id in ispra_ids if ispra_id in ml_id]\n",
    "    from_ml_to_ispra[ml_id] = matching_ids"
   ]
  },
  {
   "cell_type": "code",
   "execution_count": 16,
   "metadata": {},
   "outputs": [],
   "source": [
    "ml_df[\"LOCAL_CDI_ID\"] = ml_df[\"LOCAL_CDI_ID\"].apply(lambda x: from_ml_to_ispra[x][0])\n",
    "ml_df[\"time_ISO8601\"] = pd.to_datetime(ml_df[\"time_ISO8601\"]).dt.date\n",
    "ml_df[\"ADEPZZ01 [Meters]\"] = ml_df[\"ADEPZZ01 [Meters]\"].astype(float)"
   ]
  },
  {
   "cell_type": "code",
   "execution_count": 17,
   "metadata": {},
   "outputs": [],
   "source": [
    "ml_df.rename(columns = {\"time_ISO8601\" : \"Date\", \n",
    "                        \"ADEPZZ01 [Meters]\" : \"SampleDepth\", \n",
    "                        'AMONFID2 [Micromoles per litre]': \"NH4\",\n",
    "                        'QV:SEADATANET.2' : \"QF_NH4\", \n",
    "                        'CPHLFLP1 [Micrograms per litre]' : \"Chla\", \n",
    "                        'QV:SEADATANET.3' : \"QF_Chla\",\n",
    "                        'DOXYSC01 [Micromoles per litre]' : \"DO\", \n",
    "                        'QV:SEADATANET.4' : \"QF_DO\",\n",
    "                        'NTOTZZD2 [Micromoles per litre]' : \"TN\", \n",
    "                        'QV:SEADATANET.5' : \"QF_TN\",\n",
    "                        'NTRAAA04 [Micromoles per litre]' : \"NO3\", \n",
    "                        'QV:SEADATANET.6' : \"QF_NO3\",\n",
    "                        'NTRIAAD2 [Micromoles per litre]' : \"NO2\", \n",
    "                        'QV:SEADATANET.7' : \"QF_NO2\",\n",
    "                        'PHOSAAD2 [Micromoles per litre]' : \"PO4\", \n",
    "                        'QV:SEADATANET.8' : \"QF_PO4\",\n",
    "                        'PSALCC01 [Dimensionless]' : \"Salinity\", \n",
    "                        'QV:SEADATANET.9' : \"QF_Salinity\",\n",
    "                        'SECCSDNX [Metres]' : \"Secchi_depth\",\n",
    "                        'QV:SEADATANET.10' : \"QF_Secchi_depth\",\n",
    "                        'SLCAAAD2 [Micromoles per litre]' : \"SiO4\",\n",
    "                        'QV:SEADATANET.11' : \"QF_SiO4\",\n",
    "                        'TEMPCC01 [Degrees Celsius]' : \"T\", \n",
    "                        'QV:SEADATANET.12' : \"QF_T\",\n",
    "                        'TPHSZZXX [Micromoles per litre]' : \"TP\", \n",
    "                        'QV:SEADATANET.13' : \"QF_TP\",\n",
    "                        \"LOCAL_CDI_ID\" : \"id\"\n",
    "                        }, \n",
    "                        inplace=True)"
   ]
  },
  {
   "cell_type": "code",
   "execution_count": 18,
   "metadata": {},
   "outputs": [],
   "source": [
    "ml_df = ml_df[['id', 'Bot. Depth [m]', 'Date', 'SampleDepth', 'NH4', 'QF_NH4', 'Chla', 'QF_Chla', 'DO', 'QF_DO', 'TN', 'QF_TN', 'NO3', 'QF_NO3', 'NO2', 'QF_NO2', 'PO4', 'QF_PO4', 'Salinity', 'QF_Salinity', 'Secchi_depth', 'QF_Secchi_depth', 'SiO4', 'QF_SiO4', 'T', 'QF_T', 'TP', 'QF_TP']]"
   ]
  },
  {
   "cell_type": "code",
   "execution_count": 95,
   "metadata": {},
   "outputs": [],
   "source": [
    "nutrients = [\"NH4\", \"Chla\", \"DO\", \"TN\", \"NO3\", \"NO2\", \"PO4\", \"Salinity\", \"Secchi_depth\", \"SiO4\", \"T\", \"TP\"]\n",
    "for nutrients in nutrients:\n",
    "    ml_df[nutrients] = ml_df[nutrients].astype(float)"
   ]
  },
  {
   "cell_type": "code",
   "execution_count": 90,
   "metadata": {},
   "outputs": [],
   "source": [
    "raw_data_wide = pd.pivot_table(raw_data, index = [\"id\", \"Date\", \"SampleDepth\"], columns = \"Nutrient\", values = \"Concentration\", aggfunc=\"mean\")#.reset_index()"
   ]
  },
  {
   "cell_type": "code",
   "execution_count": 84,
   "metadata": {},
   "outputs": [],
   "source": [
    "import matplotlib.pyplot as plt"
   ]
  },
  {
   "cell_type": "code",
   "execution_count": 97,
   "metadata": {},
   "outputs": [],
   "source": [
    "def compare_histograms(\n",
    "    dfs,  \n",
    "    variables : list[str], \n",
    "    sup_title : str=None, \n",
    "    titles : list[str]=None,\n",
    "    legend_labels : list[str]=None,\n",
    "    x_labels : list[str]=None,\n",
    "    y_labels : list[str]=\"Relative frequency\",\n",
    "    n_bins : int = 50,\n",
    "    **kwargs\n",
    "): \n",
    "    if \"figsize\" in kwargs: \n",
    "        figsize_dims = kwargs[\"figsize\"]\n",
    "    else: \n",
    "        figsize_dims = (8,8) if len(variables) == 1 else (8,13)\n",
    "        \n",
    "    if len(variables) == 1: \n",
    "        fig, axs = plt.subplots(1,1, figsize=figsize_dims)\n",
    "    else : \n",
    "        n_rows = len(variables) // 2 \n",
    "        fig, axs = plt.subplots(n_rows,2, figsize=figsize_dims)\n",
    "        axs = axs.flat\n",
    "    \n",
    "    if sup_title: \n",
    "        plt.suptitle(sup_title)\n",
    "        \n",
    "    for ax, var, title, x_label, y_label in zip(fig.axes, variables, titles, x_labels, y_labels):\n",
    "        right_edge = -np.inf\n",
    "        left_edge = np.inf\n",
    "        datas = [df[var].dropna().to_numpy() for df in dfs]\n",
    "        for data in datas:\n",
    "            right_edge = data.max() if right_edge < data.max() else right_edge\n",
    "            left_edge = data.min() if left_edge > data.min() else left_edge\n",
    "            \n",
    "        ax.set_title(title)\n",
    "        ax.set_xlabel(x_label)\n",
    "        ax.set_ylabel(y_label)\n",
    "        \n",
    "        for data, label in zip(datas, legend_labels): \n",
    "            ax.hist(data, \n",
    "                    bins=np.linspace(left_edge,right_edge, n_bins, endpoint=True), \n",
    "                    alpha=0.5, \n",
    "                    weights=np.ones_like(data) / len(data),\n",
    "                    label=label)\n",
    "            ax.legend()\n",
    "        \n",
    "        fig.tight_layout()\n"
   ]
  },
  {
   "cell_type": "code",
   "execution_count": 98,
   "metadata": {},
   "outputs": [
    {
     "data": {
      "image/png": "[encoded data removed]",
      "text/plain": [
       "<Figure size 800x800 with 4 Axes>"
      ]
     },
     "metadata": {},
     "output_type": "display_data"
    }
   ],
   "source": [
    "compare_histograms([raw_data_wide, ml_df], variables= [\"TP\", \"Chla\", \"T\", \"Salinity\"], titles = [\"TP\", \"Chla\", \"T\", \"Salinity\"], legend_labels = [\"ISPRA\", \"ML\"], x_labels = [\"TP [µmol/L]\", \"Chla [µg/L]\", \"T [°C]\", \"Salinity\"], sup_title = \"ISPRA vs ML\", figsize=(8,8))"
   ]
  }
 ],
 "metadata": {
  "kernelspec": {
   "display_name": "base",
   "language": "python",
   "name": "python3"
  },
  "language_info": {
   "codemirror_mode": {
    "name": "ipython",
    "version": 3
   },
   "file_extension": ".py",
   "mimetype": "text/x-python",
   "name": "python",
   "nbconvert_exporter": "python",
   "pygments_lexer": "ipython3",
   "version": "3.11.7"
  }
 },
 "nbformat": 4,
 "nbformat_minor": 2
}
