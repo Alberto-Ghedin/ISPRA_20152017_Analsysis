{
 "cells": [
  {
   "cell_type": "code",
   "execution_count": 42,
   "metadata": {},
   "outputs": [],
   "source": [
    "import os\n",
    "import pandas as pd\n",
    "import string\n",
    "from datetime import datetime\n",
    "from os import path\n",
    "import json\n",
    "import numpy as np"
   ]
  },
  {
   "cell_type": "code",
   "execution_count": 43,
   "metadata": {},
   "outputs": [],
   "source": [
    "with open(path.expanduser(\"~\") + \"/sys_specific.json\") as file: \n",
    "    params = json.load(file)\n",
    "_HOME_ = params[\"home\"] + \"/PHD\"\n",
    "\n",
    "excel_path = _HOME_ + \"/MSFD/Data/Modulo1/\""
   ]
  },
  {
   "cell_type": "code",
   "execution_count": 44,
   "metadata": {},
   "outputs": [],
   "source": [
    "with open(_HOME_ + \"/ISPRA_20152017_Analysis/params.json\") as file: \n",
    "    params = json.load(file)\n",
    "best_path = params[\"best_path\"]\n",
    "best_path_sard = params[\"best_path_sard\"]\n",
    "ordered_regions = params[\"ordered_regions\"]\n",
    "seasons = params[\"seasons\"]\n",
    "sorted_season = params[\"sorted_season\"]\n",
    "sea_index = params[\"sea_index\"]\n",
    "ordered_id = params[\"ordered_id\"]\n",
    "sea_index_array = np.array(list(sea_index.values()))\n",
    "del params"
   ]
  },
  {
   "cell_type": "markdown",
   "metadata": {},
   "source": [
    "# import data"
   ]
  },
  {
   "cell_type": "code",
   "execution_count": 45,
   "metadata": {},
   "outputs": [],
   "source": [
    "raw_data = pd.read_csv(excel_path + \"/chemical_fis_raw.csv\", dtype = str)"
   ]
  },
  {
   "cell_type": "code",
   "execution_count": 46,
   "metadata": {},
   "outputs": [],
   "source": [
    "raw_data.rename(columns= {\"NationalStationID\" : \"id\", \"Determinand_Nutrients\" : \"Nutrient\"}, inplace=True)"
   ]
  },
  {
   "cell_type": "markdown",
   "metadata": {},
   "source": [
    "# check id and date"
   ]
  },
  {
   "cell_type": "code",
   "execution_count": 20,
   "metadata": {},
   "outputs": [],
   "source": [
    "raw_data[\"id\"] = raw_data[\"id\"].apply(lambda x: x.split(\".\")[0])\n",
    "raw_data[\"id\"] = raw_data[\"id\"].apply(lambda x: str.strip(x))\n",
    "raw_data[\"id\"] = raw_data[\"id\"].apply(lambda x: x.replace(\"M000200\", \"MS00200\"))"
   ]
  },
  {
   "cell_type": "code",
   "execution_count": 21,
   "metadata": {},
   "outputs": [],
   "source": [
    "raw_data[\"Year\"] = raw_data[\"Year\"].apply(lambda x: x.split(\".\")[0])\n",
    "raw_data[\"Month\"] = raw_data[\"Month\"].apply(lambda x: x.split(\".\")[0])\n",
    "raw_data[\"Day\"] = raw_data[\"Day\"].apply(lambda x: x.split(\".\")[0])"
   ]
  },
  {
   "cell_type": "code",
   "execution_count": 22,
   "metadata": {},
   "outputs": [],
   "source": [
    "raw_data[\"Date\"] = pd.to_datetime([f\"{year}-{month}-{day}\" for year, month, day in zip(raw_data[\"Year\"], raw_data[\"Month\"], raw_data[\"Day\"])], format = \"%Y-%m-%d\")"
   ]
  },
  {
   "cell_type": "markdown",
   "metadata": {},
   "source": [
    "# check nutrients"
   ]
  },
  {
   "cell_type": "code",
   "execution_count": 28,
   "metadata": {},
   "outputs": [],
   "source": [
    "#ox saturation\n",
    "raw_data.loc[raw_data[\"Nutrient\"].isin(['Temperature (water)', 'Temperature ', \"Temperature\"]), \"Nutrient\"] = \"T\"\n",
    "raw_data.loc[raw_data[\"Nutrient\"].isin(['Electrical Conductivity', ' Electrical Conductivity', 'Electrical conductivity']), \"Nutrient\"] = 'E_cond'\n",
    "raw_data.loc[raw_data[\"Nutrient\"].isin(['Dissolved Oxygen', 'Dissolved oxygen']), \"Nutrient\"] = 'DO'\n",
    "raw_data.loc[raw_data[\"Nutrient\"].isin([' ', 'Oxygen Saturation', 'Oxygen saturation']), \"Nutrient\"] = 'O_sat'"
   ]
  },
  {
   "cell_type": "code",
   "execution_count": 29,
   "metadata": {},
   "outputs": [],
   "source": [
    "raw_data.loc[raw_data[\"Nutrient\"].isin([' pH', 'pH ']), \"Nutrient\"] = 'pH'\n",
    "raw_data.loc[raw_data[\"Nutrient\"].isin(['Chlorophyll a']), \"Nutrient\"] = 'Chla'\n",
    "raw_data.loc[raw_data[\"Nutrient\"].isin(['Secchi depth']), \"Nutrient\"] = 'Secchi_depth'\n",
    "raw_data.loc[raw_data[\"Nutrient\"].isin(['Nitrate']), \"Nutrient\"] = 'NO3'\n",
    "raw_data.loc[raw_data[\"Nutrient\"].isin(['Nitrite']), \"Nutrient\"] = 'NO2'\n",
    "raw_data.loc[raw_data[\"Nutrient\"].isin(['Ammonium']), \"Nutrient\"] = 'NH4'\n",
    "raw_data.loc[raw_data[\"Nutrient\"].isin(['Total phosphorus', 'Total Phosphorus']), \"Nutrient\"] = 'TP'\n",
    "raw_data.loc[raw_data[\"Nutrient\"].isin(['Orthophosphates']), \"Nutrient\"] = 'PO4'\n",
    "raw_data.loc[raw_data[\"Nutrient\"].isin(['Total nitrogen', 'Total Nitrogen']), \"Nutrient\"] = 'TN'\n",
    "raw_data.loc[raw_data[\"Nutrient\"].isin(['Silicate']), \"Nutrient\"] = 'SiO4'"
   ]
  },
  {
   "cell_type": "markdown",
   "metadata": {},
   "source": [
    "## make wide table"
   ]
  },
  {
   "cell_type": "code",
   "execution_count": 32,
   "metadata": {},
   "outputs": [],
   "source": [
    "raw_data.drop(columns = [\"Year\", \"Month\", \"Day\", \"Time\"], inplace=True)"
   ]
  },
  {
   "cell_type": "code",
   "execution_count": 41,
   "metadata": {},
   "outputs": [],
   "source": [
    "raw_data.loc[(~raw_data[\"Remarks\"].isna()) & (raw_data[\"Nutrient\"] != \"Chla\"), :].to_csv(_HOME_ + \"/ISPRA_20152017_analysis/Create_dataset/remarks_nut.csv\", index=0)"
   ]
  }
 ],
 "metadata": {
  "kernelspec": {
   "display_name": "base",
   "language": "python",
   "name": "python3"
  },
  "language_info": {
   "codemirror_mode": {
    "name": "ipython",
    "version": 3
   },
   "file_extension": ".py",
   "mimetype": "text/x-python",
   "name": "python",
   "nbconvert_exporter": "python",
   "pygments_lexer": "ipython3",
   "version": "3.11.7"
  }
 },
 "nbformat": 4,
 "nbformat_minor": 2
}
