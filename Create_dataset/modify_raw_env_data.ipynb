{
 "cells": [
  {
   "cell_type": "code",
   "execution_count": 1,
   "metadata": {},
   "outputs": [],
   "source": [
    "import os\n",
    "import pandas as pd\n",
    "import string\n",
    "from datetime import datetime\n",
    "from os import path\n",
    "import json\n",
    "import numpy as np\n",
    "from pandas.tseries.offsets import MonthEnd"
   ]
  },
  {
   "cell_type": "code",
   "execution_count": 2,
   "metadata": {},
   "outputs": [],
   "source": [
    "_HOME_ = path.expanduser(\"~\") + \"/PHD\"\n",
    "\n",
    "excel_path = _HOME_ + \"/MSFD/Data/Modulo1/\""
   ]
  },
  {
   "cell_type": "code",
   "execution_count": 4,
   "metadata": {},
   "outputs": [],
   "source": [
    "with open(_HOME_ + \"/ISPRA_20152017_Analysis/params.json\") as file: \n",
    "    params = json.load(file)\n",
    "best_path = params[\"best_path\"]\n",
    "best_path_sard = params[\"best_path_sard\"]\n",
    "ordered_regions = params[\"ordered_regions\"]\n",
    "seasons = params[\"seasons\"]\n",
    "sorted_season = params[\"sorted_season\"]\n",
    "sea_index = params[\"sea_index\"]\n",
    "ordered_id = params[\"ordered_id\"]\n",
    "sea_index_array = np.array(list(sea_index.values()))\n",
    "del params"
   ]
  },
  {
   "cell_type": "markdown",
   "metadata": {},
   "source": [
    "# import data"
   ]
  },
  {
   "cell_type": "code",
   "execution_count": 47,
   "metadata": {},
   "outputs": [],
   "source": [
    "raw_data = pd.read_csv(excel_path + \"chemical_fis_raw.csv\", dtype = str)"
   ]
  },
  {
   "cell_type": "code",
   "execution_count": 48,
   "metadata": {},
   "outputs": [],
   "source": [
    "phyto_abundances = pd.read_csv(_HOME_ + \"/MSFD/Data/Modulo1/phyto_abund_modified.csv\", index_col=0)\n",
    "phyto_abundances.loc[:, \"Date\"] = pd.to_datetime(phyto_abundances[\"Date\"])"
   ]
  },
  {
   "cell_type": "code",
   "execution_count": 49,
   "metadata": {},
   "outputs": [],
   "source": [
    "raw_data.rename(columns= {\"NationalStationID\" : \"id\", \"Determinand_Nutrients\" : \"Nutrient\"}, inplace=True)"
   ]
  },
  {
   "cell_type": "markdown",
   "metadata": {},
   "source": [
    "# check id and date"
   ]
  },
  {
   "cell_type": "code",
   "execution_count": 50,
   "metadata": {},
   "outputs": [],
   "source": [
    "raw_data[\"id\"] = raw_data[\"id\"].apply(lambda x: x.split(\".\")[0])\n",
    "raw_data[\"id\"] = raw_data[\"id\"].apply(lambda x: str.strip(x))\n",
    "raw_data[\"id\"] = raw_data[\"id\"].apply(lambda x: x.replace(\"M000200\", \"MS00200\"))"
   ]
  },
  {
   "cell_type": "code",
   "execution_count": 51,
   "metadata": {},
   "outputs": [],
   "source": [
    "raw_data[\"Year\"] = raw_data[\"Year\"].apply(lambda x: x.split(\".\")[0])\n",
    "raw_data[\"Month\"] = raw_data[\"Month\"].apply(lambda x: x.split(\".\")[0])\n",
    "raw_data[\"Day\"] = raw_data[\"Day\"].apply(lambda x: x.split(\".\")[0])"
   ]
  },
  {
   "cell_type": "code",
   "execution_count": 52,
   "metadata": {},
   "outputs": [],
   "source": [
    "raw_data[\"Date\"] = pd.to_datetime([f\"{year}-{month}-{day}\" for year, month, day in zip(raw_data[\"Year\"], raw_data[\"Month\"], raw_data[\"Day\"])], format = \"%Y-%m-%d\")\n",
    "raw_data.drop(columns = [\"Year\", \"Month\", \"Day\", \"Time\"], inplace=True)"
   ]
  },
  {
   "cell_type": "code",
   "execution_count": 53,
   "metadata": {},
   "outputs": [],
   "source": [
    "raw_data[\"SampleDepth\"] = raw_data[\"SampleDepth\"].astype(float)"
   ]
  },
  {
   "cell_type": "markdown",
   "metadata": {},
   "source": [
    "# check nutrients"
   ]
  },
  {
   "cell_type": "code",
   "execution_count": 54,
   "metadata": {},
   "outputs": [],
   "source": [
    "#ox saturation\n",
    "raw_data.loc[raw_data[\"Nutrient\"].isin(['Temperature (water)', 'Temperature ', \"Temperature\"]), \"Nutrient\"] = \"T\"\n",
    "raw_data.loc[raw_data[\"Nutrient\"].isin(['Electrical Conductivity', ' Electrical Conductivity', 'Electrical conductivity']), \"Nutrient\"] = 'E_cond'\n",
    "raw_data.loc[raw_data[\"Nutrient\"].isin(['Dissolved Oxygen', 'Dissolved oxygen']), \"Nutrient\"] = 'DO'\n",
    "raw_data.loc[raw_data[\"Nutrient\"].isin([' ', 'Oxygen Saturation', 'Oxygen saturation']), \"Nutrient\"] = 'O_sat'"
   ]
  },
  {
   "cell_type": "code",
   "execution_count": 55,
   "metadata": {},
   "outputs": [],
   "source": [
    "raw_data.loc[raw_data[\"Nutrient\"].isin([' pH', 'pH ']), \"Nutrient\"] = 'pH'\n",
    "raw_data.loc[raw_data[\"Nutrient\"].isin(['Chlorophyll a']), \"Nutrient\"] = 'Chla'\n",
    "raw_data.loc[raw_data[\"Nutrient\"].isin(['Secchi depth']), \"Nutrient\"] = 'Secchi_depth'\n",
    "raw_data.loc[raw_data[\"Nutrient\"].isin(['Nitrate']), \"Nutrient\"] = 'NO3'\n",
    "raw_data.loc[raw_data[\"Nutrient\"].isin(['Nitrite']), \"Nutrient\"] = 'NO2'\n",
    "raw_data.loc[raw_data[\"Nutrient\"].isin(['Ammonium']), \"Nutrient\"] = 'NH4'\n",
    "raw_data.loc[raw_data[\"Nutrient\"].isin(['Total phosphorus', 'Total Phosphorus']), \"Nutrient\"] = 'TP'\n",
    "raw_data.loc[raw_data[\"Nutrient\"].isin(['Orthophosphates']), \"Nutrient\"] = 'PO4'\n",
    "raw_data.loc[raw_data[\"Nutrient\"].isin(['Total nitrogen', 'Total Nitrogen']), \"Nutrient\"] = 'TN'\n",
    "raw_data.loc[raw_data[\"Nutrient\"].isin(['Silicate']), \"Nutrient\"] = 'SiO4'"
   ]
  },
  {
   "cell_type": "code",
   "execution_count": 56,
   "metadata": {},
   "outputs": [],
   "source": [
    "condition = (raw_data[\"id\"] == \"M1FV6\")  & (raw_data[\"Date\"] == datetime(2015,7,17)) & (raw_data[\"SampleDepth\"].isin([42.0, 42.5])) & (raw_data[\"Nutrient\"] == \"E_cond\")\n",
    "raw_data.loc[condition, \"Concentration\"] = [46.6000, 46.5500]"
   ]
  },
  {
   "cell_type": "code",
   "execution_count": 57,
   "metadata": {},
   "outputs": [],
   "source": [
    "raw_data[\"Concentration\"] = raw_data[\"Concentration\"].astype(str).apply(lambda x: x.replace(\",\", \".\")).astype(float)"
   ]
  },
  {
   "cell_type": "code",
   "execution_count": 58,
   "metadata": {},
   "outputs": [],
   "source": [
    "cond = (raw_data[\"Concentration\"] >= 1000) & (raw_data[\"Nutrient\"] == \"T\") & (raw_data[\"id\"] == \"M1T5C\")\n",
    "raw_data.loc[cond, \"Concentration\"] /= 10000"
   ]
  },
  {
   "cell_type": "code",
   "execution_count": 59,
   "metadata": {},
   "outputs": [],
   "source": [
    "raw_data.dropna(subset = [\"Concentration\"], inplace=True)"
   ]
  },
  {
   "cell_type": "code",
   "execution_count": 90,
   "metadata": {},
   "outputs": [],
   "source": [
    "already_done = True\n",
    "if not already_done: \n",
    "    raw_data.loc[(~raw_data[\"Remarks\"].isna()) & (raw_data[\"Nutrient\"] != \"Chla\"), :].to_csv(_HOME_ + \"/ISPRA_20152017_Analysis/Create_dataset/remarks_nut.csv\", index=0)"
   ]
  },
  {
   "cell_type": "code",
   "execution_count": 60,
   "metadata": {},
   "outputs": [],
   "source": [
    "cond = (raw_data[\"id\"] == \"SMR_CCE_WA1\") & (raw_data[\"Date\"] == \"2017-12-04\") & (raw_data[\"Nutrient\"] == \"T\") & (raw_data[\"SampleDepth\"].isna())\n",
    "raw_data.loc[cond, \"SampleDepth\"] = 40.5"
   ]
  },
  {
   "cell_type": "code",
   "execution_count": 61,
   "metadata": {},
   "outputs": [],
   "source": [
    "secchi_depths = raw_data.loc[raw_data[\"Nutrient\"] == \"Secchi_depth\", :].copy()\n",
    "raw_data.drop(secchi_depths.index).dropna(subset = [\"SampleDepth\"], inplace=True)\n",
    "raw_data.dropna(subset = [\"SampleDepth\"], inplace=True)"
   ]
  },
  {
   "cell_type": "code",
   "execution_count": 62,
   "metadata": {},
   "outputs": [],
   "source": [
    "#add regions\n",
    "raw_data = raw_data.merge(phyto_abundances.loc[:, [\"id\", \"Region\"]].drop_duplicates(), on = \"id\", how = \"left\")"
   ]
  },
  {
   "cell_type": "code",
   "execution_count": 22,
   "metadata": {},
   "outputs": [],
   "source": [
    "#keep least deep measurements\n",
    "#raw_data.sort_values([\"Region\", \"id\", \"Date\", \"Nutrient\", \"SampleDepth\"]).drop_duplicates([\"Region\", \"id\", \"Date\", \"Nutrient\"], keep = \"first\", inplace=True)"
   ]
  },
  {
   "cell_type": "code",
   "execution_count": 71,
   "metadata": {},
   "outputs": [],
   "source": [
    "raw_data[\"LOD_LOQ_Flag\"] = raw_data[\"LOD_LOQ_Flag\"].apply(lambda x: 0 if pd.isna(x) else 1)"
   ]
  },
  {
   "cell_type": "code",
   "execution_count": 75,
   "metadata": {},
   "outputs": [
    {
     "data": {
      "text/html": [
       "<div>\n",
       "<style scoped>\n",
       "    .dataframe tbody tr th:only-of-type {\n",
       "        vertical-align: middle;\n",
       "    }\n",
       "\n",
       "    .dataframe tbody tr th {\n",
       "        vertical-align: top;\n",
       "    }\n",
       "\n",
       "    .dataframe thead th {\n",
       "        text-align: right;\n",
       "    }\n",
       "</style>\n",
       "<table border=\"1\" class=\"dataframe\">\n",
       "  <thead>\n",
       "    <tr style=\"text-align: right;\">\n",
       "      <th></th>\n",
       "      <th>id</th>\n",
       "      <th>SampleDepth</th>\n",
       "      <th>Nutrient</th>\n",
       "      <th>Concentration</th>\n",
       "      <th>LOD_LOQ_Flag</th>\n",
       "      <th>Remarks</th>\n",
       "      <th>file_name</th>\n",
       "      <th>Date</th>\n",
       "      <th>Region</th>\n",
       "    </tr>\n",
       "  </thead>\n",
       "  <tbody>\n",
       "    <tr>\n",
       "      <th>0</th>\n",
       "      <td>1004</td>\n",
       "      <td>0.5</td>\n",
       "      <td>Salinity</td>\n",
       "      <td>34.3091</td>\n",
       "      <td>0</td>\n",
       "      <td>NaN</td>\n",
       "      <td>Modulo_1E_20160608105053_ARPA_Emilia-Romagna_E...</td>\n",
       "      <td>2015-07-20</td>\n",
       "      <td>Emilia-Romagna</td>\n",
       "    </tr>\n",
       "    <tr>\n",
       "      <th>1</th>\n",
       "      <td>1004</td>\n",
       "      <td>0.5</td>\n",
       "      <td>T</td>\n",
       "      <td>27.6788</td>\n",
       "      <td>0</td>\n",
       "      <td>NaN</td>\n",
       "      <td>Modulo_1E_20160608105053_ARPA_Emilia-Romagna_E...</td>\n",
       "      <td>2015-07-20</td>\n",
       "      <td>Emilia-Romagna</td>\n",
       "    </tr>\n",
       "    <tr>\n",
       "      <th>2</th>\n",
       "      <td>1004</td>\n",
       "      <td>0.5</td>\n",
       "      <td>E_cond</td>\n",
       "      <td>54.9002</td>\n",
       "      <td>0</td>\n",
       "      <td>NaN</td>\n",
       "      <td>Modulo_1E_20160608105053_ARPA_Emilia-Romagna_E...</td>\n",
       "      <td>2015-07-20</td>\n",
       "      <td>Emilia-Romagna</td>\n",
       "    </tr>\n",
       "    <tr>\n",
       "      <th>3</th>\n",
       "      <td>1004</td>\n",
       "      <td>0.5</td>\n",
       "      <td>DO</td>\n",
       "      <td>5.8800</td>\n",
       "      <td>0</td>\n",
       "      <td>NaN</td>\n",
       "      <td>Modulo_1E_20160608105053_ARPA_Emilia-Romagna_E...</td>\n",
       "      <td>2015-07-20</td>\n",
       "      <td>Emilia-Romagna</td>\n",
       "    </tr>\n",
       "    <tr>\n",
       "      <th>4</th>\n",
       "      <td>1004</td>\n",
       "      <td>0.5</td>\n",
       "      <td>O_sat</td>\n",
       "      <td>90.7000</td>\n",
       "      <td>0</td>\n",
       "      <td>NaN</td>\n",
       "      <td>Modulo_1E_20160608105053_ARPA_Emilia-Romagna_E...</td>\n",
       "      <td>2015-07-20</td>\n",
       "      <td>Emilia-Romagna</td>\n",
       "    </tr>\n",
       "    <tr>\n",
       "      <th>...</th>\n",
       "      <td>...</td>\n",
       "      <td>...</td>\n",
       "      <td>...</td>\n",
       "      <td>...</td>\n",
       "      <td>...</td>\n",
       "      <td>...</td>\n",
       "      <td>...</td>\n",
       "      <td>...</td>\n",
       "      <td>...</td>\n",
       "    </tr>\n",
       "    <tr>\n",
       "      <th>1164183</th>\n",
       "      <td>1_ABR_VA15</td>\n",
       "      <td>88.0</td>\n",
       "      <td>E_cond</td>\n",
       "      <td>46.5813</td>\n",
       "      <td>0</td>\n",
       "      <td>NaN</td>\n",
       "      <td>Modulo_1_20200324122955_ARPA_Emilia-Romagna_Ab...</td>\n",
       "      <td>2017-10-03</td>\n",
       "      <td>Abruzzo</td>\n",
       "    </tr>\n",
       "    <tr>\n",
       "      <th>1164184</th>\n",
       "      <td>1_ABR_VA15</td>\n",
       "      <td>88.0</td>\n",
       "      <td>DO</td>\n",
       "      <td>6.5500</td>\n",
       "      <td>0</td>\n",
       "      <td>NaN</td>\n",
       "      <td>Modulo_1_20200324122955_ARPA_Emilia-Romagna_Ab...</td>\n",
       "      <td>2017-10-03</td>\n",
       "      <td>Abruzzo</td>\n",
       "    </tr>\n",
       "    <tr>\n",
       "      <th>1164185</th>\n",
       "      <td>1_ABR_VA15</td>\n",
       "      <td>88.0</td>\n",
       "      <td>O_sat</td>\n",
       "      <td>81.7000</td>\n",
       "      <td>0</td>\n",
       "      <td>NaN</td>\n",
       "      <td>Modulo_1_20200324122955_ARPA_Emilia-Romagna_Ab...</td>\n",
       "      <td>2017-10-03</td>\n",
       "      <td>Abruzzo</td>\n",
       "    </tr>\n",
       "    <tr>\n",
       "      <th>1164186</th>\n",
       "      <td>1_ABR_VA15</td>\n",
       "      <td>88.0</td>\n",
       "      <td>pH</td>\n",
       "      <td>8.2180</td>\n",
       "      <td>0</td>\n",
       "      <td>NaN</td>\n",
       "      <td>Modulo_1_20200324122955_ARPA_Emilia-Romagna_Ab...</td>\n",
       "      <td>2017-10-03</td>\n",
       "      <td>Abruzzo</td>\n",
       "    </tr>\n",
       "    <tr>\n",
       "      <th>1164187</th>\n",
       "      <td>1_ABR_VA15</td>\n",
       "      <td>88.0</td>\n",
       "      <td>Chla</td>\n",
       "      <td>0.1900</td>\n",
       "      <td>0</td>\n",
       "      <td>NaN</td>\n",
       "      <td>Modulo_1_20200324122955_ARPA_Emilia-Romagna_Ab...</td>\n",
       "      <td>2017-10-03</td>\n",
       "      <td>Abruzzo</td>\n",
       "    </tr>\n",
       "  </tbody>\n",
       "</table>\n",
       "<p>1164188 rows × 9 columns</p>\n",
       "</div>"
      ],
      "text/plain": [
       "                 id  SampleDepth  Nutrient  Concentration  LOD_LOQ_Flag  \\\n",
       "0              1004          0.5  Salinity        34.3091             0   \n",
       "1              1004          0.5         T        27.6788             0   \n",
       "2              1004          0.5    E_cond        54.9002             0   \n",
       "3              1004          0.5        DO         5.8800             0   \n",
       "4              1004          0.5     O_sat        90.7000             0   \n",
       "...             ...          ...       ...            ...           ...   \n",
       "1164183  1_ABR_VA15         88.0    E_cond        46.5813             0   \n",
       "1164184  1_ABR_VA15         88.0        DO         6.5500             0   \n",
       "1164185  1_ABR_VA15         88.0     O_sat        81.7000             0   \n",
       "1164186  1_ABR_VA15         88.0        pH         8.2180             0   \n",
       "1164187  1_ABR_VA15         88.0      Chla         0.1900             0   \n",
       "\n",
       "        Remarks                                          file_name       Date  \\\n",
       "0           NaN  Modulo_1E_20160608105053_ARPA_Emilia-Romagna_E... 2015-07-20   \n",
       "1           NaN  Modulo_1E_20160608105053_ARPA_Emilia-Romagna_E... 2015-07-20   \n",
       "2           NaN  Modulo_1E_20160608105053_ARPA_Emilia-Romagna_E... 2015-07-20   \n",
       "3           NaN  Modulo_1E_20160608105053_ARPA_Emilia-Romagna_E... 2015-07-20   \n",
       "4           NaN  Modulo_1E_20160608105053_ARPA_Emilia-Romagna_E... 2015-07-20   \n",
       "...         ...                                                ...        ...   \n",
       "1164183     NaN  Modulo_1_20200324122955_ARPA_Emilia-Romagna_Ab... 2017-10-03   \n",
       "1164184     NaN  Modulo_1_20200324122955_ARPA_Emilia-Romagna_Ab... 2017-10-03   \n",
       "1164185     NaN  Modulo_1_20200324122955_ARPA_Emilia-Romagna_Ab... 2017-10-03   \n",
       "1164186     NaN  Modulo_1_20200324122955_ARPA_Emilia-Romagna_Ab... 2017-10-03   \n",
       "1164187     NaN  Modulo_1_20200324122955_ARPA_Emilia-Romagna_Ab... 2017-10-03   \n",
       "\n",
       "                 Region  \n",
       "0        Emilia-Romagna  \n",
       "1        Emilia-Romagna  \n",
       "2        Emilia-Romagna  \n",
       "3        Emilia-Romagna  \n",
       "4        Emilia-Romagna  \n",
       "...                 ...  \n",
       "1164183         Abruzzo  \n",
       "1164184         Abruzzo  \n",
       "1164185         Abruzzo  \n",
       "1164186         Abruzzo  \n",
       "1164187         Abruzzo  \n",
       "\n",
       "[1164188 rows x 9 columns]"
      ]
     },
     "execution_count": 75,
     "metadata": {},
     "output_type": "execute_result"
    }
   ],
   "source": [
    "raw_data"
   ]
  },
  {
   "cell_type": "code",
   "execution_count": 82,
   "metadata": {},
   "outputs": [],
   "source": [
    "test = raw_data.pivot_table(index = [\"id\", \"Date\", \"SampleDepth\"], columns = [\"Nutrient\"], values = [\"Concentration\", \"LOD_LOQ_Flag\"], aggfunc=\"mean\").reset_index()#.reset_index()#.to_csv(_HOME_ + \"/ISPRA_20152017_Analysis/Create_dataset/chemical_fis.csv\", index=0)"
   ]
  },
  {
   "cell_type": "code",
   "execution_count": null,
   "metadata": {},
   "outputs": [],
   "source": [
    "new_col_name = [\"NationalStationID\", \"Year\",\"Month\",\"Day\",\"SampleDepth\"]"
   ]
  },
  {
   "cell_type": "code",
   "execution_count": 96,
   "metadata": {},
   "outputs": [],
   "source": [
    "first = test.columns.get_level_values(0)\n",
    "second = test.columns.get_level_values(1)\n",
    "new_cols = np.empty(len(first), dtype = \"<U20\")\n",
    "for i, _ in enumerate(first): \n",
    "    if second[i] == \"\":\n",
    "        new_cols[i] = first[i]\n",
    "    elif first[i] == \"Concentration\":\n",
    "        new_cols[i] = second[i]\n",
    "    elif first[i] == \"LOD_LOQ_Flag\":\n",
    "        new_cols[i] = second[i] + \"_Flag\"\n",
    "test.columns = new_cols"
   ]
  },
  {
   "cell_type": "code",
   "execution_count": 115,
   "metadata": {},
   "outputs": [],
   "source": []
  },
  {
   "cell_type": "code",
   "execution_count": 116,
   "metadata": {},
   "outputs": [
    {
     "data": {
      "text/plain": [
       "array(['id', 'Date', 'SampleDepth', 'Chla', 'DO', 'E_cond', 'NH4', 'NO2',\n",
       "       'NO3', 'O_sat', 'PO4', 'Salinity', 'Secchi_depth', 'SiO4', 'T',\n",
       "       'TN', 'TP', 'pH', 'Chla_Flag', 'DO_Flag', 'E_cond_Flag',\n",
       "       'NH4_Flag', 'NO2_Flag', 'NO3_Flag', 'O_sat_Flag', 'PO4_Flag',\n",
       "       'Salinity_Flag', 'Secchi_depth_Flag', 'SiO4_Flag', 'T_Flag',\n",
       "       'TN_Flag', 'TP_Flag', 'pH_Flag'], dtype='<U20')"
      ]
     },
     "execution_count": 116,
     "metadata": {},
     "output_type": "execute_result"
    }
   ],
   "source": [
    "new_cols"
   ]
  },
  {
   "cell_type": "code",
   "execution_count": null,
   "metadata": {},
   "outputs": [],
   "source": []
  },
  {
   "cell_type": "code",
   "execution_count": 105,
   "metadata": {},
   "outputs": [
    {
     "data": {
      "text/plain": [
       "['id.',\n",
       " 'Date.',\n",
       " 'SampleDepth.',\n",
       " 'Concentration.Chla',\n",
       " 'Concentration.DO',\n",
       " 'Concentration.E_cond',\n",
       " 'Concentration.NH4',\n",
       " 'Concentration.NO2',\n",
       " 'Concentration.NO3',\n",
       " 'Concentration.O_sat',\n",
       " 'Concentration.PO4',\n",
       " 'Concentration.Salinity',\n",
       " 'Concentration.Secchi_depth',\n",
       " 'Concentration.SiO4',\n",
       " 'Concentration.T',\n",
       " 'Concentration.TN',\n",
       " 'Concentration.TP',\n",
       " 'Concentration.pH',\n",
       " 'LOD_LOQ_Flag.Chla',\n",
       " 'LOD_LOQ_Flag.DO',\n",
       " 'LOD_LOQ_Flag.E_cond',\n",
       " 'LOD_LOQ_Flag.NH4',\n",
       " 'LOD_LOQ_Flag.NO2',\n",
       " 'LOD_LOQ_Flag.NO3',\n",
       " 'LOD_LOQ_Flag.O_sat',\n",
       " 'LOD_LOQ_Flag.PO4',\n",
       " 'LOD_LOQ_Flag.Salinity',\n",
       " 'LOD_LOQ_Flag.Secchi_depth',\n",
       " 'LOD_LOQ_Flag.SiO4',\n",
       " 'LOD_LOQ_Flag.T',\n",
       " 'LOD_LOQ_Flag.TN',\n",
       " 'LOD_LOQ_Flag.TP',\n",
       " 'LOD_LOQ_Flag.pH']"
      ]
     },
     "execution_count": 105,
     "metadata": {},
     "output_type": "execute_result"
    }
   ],
   "source": [
    "[f\"{first}.{second}\" for first, second in zip(first, second)]"
   ]
  },
  {
   "cell_type": "code",
   "execution_count": null,
   "metadata": {},
   "outputs": [],
   "source": []
  },
  {
   "cell_type": "code",
   "execution_count": 103,
   "metadata": {},
   "outputs": [
    {
     "data": {
      "text/plain": [
       "array(['id', 'Date', 'SampleDepth', 'Chla', 'DO', 'E_cond', 'NH4', 'NO2',\n",
       "       'NO3', 'O_sat', 'PO4', 'Salinity', 'Secchi_depth', 'SiO4', 'T',\n",
       "       'TN', 'TP', 'pH', 'LOD_LOQ_Flag', 'LOD_LOQ_Flag', 'LOD_LOQ_Flag',\n",
       "       'LOD_LOQ_Flag', 'LOD_LOQ_Flag', 'LOD_LOQ_Flag', 'LOD_LOQ_Flag',\n",
       "       'LOD_LOQ_Flag', 'LOD_LOQ_Flag', 'LOD_LOQ_Flag', 'LOD_LOQ_Flag',\n",
       "       'LOD_LOQ_Flag', 'LOD_LOQ_Flag', 'LOD_LOQ_Flag', 'LOD_LOQ_Flag'],\n",
       "      dtype=object)"
      ]
     },
     "execution_count": 103,
     "metadata": {},
     "output_type": "execute_result"
    }
   ],
   "source": [
    "np.where(\"Concentration\" == first, second, first)"
   ]
  },
  {
   "cell_type": "code",
   "execution_count": 100,
   "metadata": {},
   "outputs": [
    {
     "data": {
      "text/plain": [
       "Index(['id', 'Date', 'SampleDepth', 'Concentration', 'Concentration',\n",
       "       'Concentration', 'Concentration', 'Concentration', 'Concentration',\n",
       "       'Concentration', 'Concentration', 'Concentration', 'Concentration',\n",
       "       'Concentration', 'Concentration', 'Concentration', 'Concentration',\n",
       "       'Concentration', 'LOD_LOQ_Flag', 'LOD_LOQ_Flag', 'LOD_LOQ_Flag',\n",
       "       'LOD_LOQ_Flag', 'LOD_LOQ_Flag', 'LOD_LOQ_Flag', 'LOD_LOQ_Flag',\n",
       "       'LOD_LOQ_Flag', 'LOD_LOQ_Flag', 'LOD_LOQ_Flag', 'LOD_LOQ_Flag',\n",
       "       'LOD_LOQ_Flag', 'LOD_LOQ_Flag', 'LOD_LOQ_Flag', 'LOD_LOQ_Flag'],\n",
       "      dtype='object')"
      ]
     },
     "execution_count": 100,
     "metadata": {},
     "output_type": "execute_result"
    }
   ],
   "source": [
    "first"
   ]
  },
  {
   "cell_type": "code",
   "execution_count": 95,
   "metadata": {},
   "outputs": [
    {
     "data": {
      "text/plain": [
       "['id.',\n",
       " 'Date.',\n",
       " 'SampleDepth.',\n",
       " 'Concentration.Chla',\n",
       " 'Concentration.DO',\n",
       " 'Concentration.E_cond',\n",
       " 'Concentration.NH4',\n",
       " 'Concentration.NO2',\n",
       " 'Concentration.NO3',\n",
       " 'Concentration.O_sat',\n",
       " 'Concentration.PO4',\n",
       " 'Concentration.Salinity',\n",
       " 'Concentration.Secchi_depth',\n",
       " 'Concentration.SiO4',\n",
       " 'Concentration.T',\n",
       " 'Concentration.TN',\n",
       " 'Concentration.TP',\n",
       " 'Concentration.pH',\n",
       " 'LOD_LOQ_Flag.Chla',\n",
       " 'LOD_LOQ_Flag.DO',\n",
       " 'LOD_LOQ_Flag.E_cond',\n",
       " 'LOD_LOQ_Flag.NH4',\n",
       " 'LOD_LOQ_Flag.NO2',\n",
       " 'LOD_LOQ_Flag.NO3',\n",
       " 'LOD_LOQ_Flag.O_sat',\n",
       " 'LOD_LOQ_Flag.PO4',\n",
       " 'LOD_LOQ_Flag.Salinity',\n",
       " 'LOD_LOQ_Flag.Secchi_depth',\n",
       " 'LOD_LOQ_Flag.SiO4',\n",
       " 'LOD_LOQ_Flag.T',\n",
       " 'LOD_LOQ_Flag.TN',\n",
       " 'LOD_LOQ_Flag.TP',\n",
       " 'LOD_LOQ_Flag.pH']"
      ]
     },
     "execution_count": 95,
     "metadata": {},
     "output_type": "execute_result"
    }
   ],
   "source": [
    "[f\"{first}.{second}\" for (first, second) in test.columns]"
   ]
  },
  {
   "cell_type": "code",
   "execution_count": 92,
   "metadata": {},
   "outputs": [
    {
     "data": {
      "text/plain": [
       "Index(['', '', '', 'Chla', 'DO', 'E_cond', 'NH4', 'NO2', 'NO3', 'O_sat', 'PO4',\n",
       "       'Salinity', 'Secchi_depth', 'SiO4', 'T', 'TN', 'TP', 'pH', 'Chla', 'DO',\n",
       "       'E_cond', 'NH4', 'NO2', 'NO3', 'O_sat', 'PO4', 'Salinity',\n",
       "       'Secchi_depth', 'SiO4', 'T', 'TN', 'TP', 'pH'],\n",
       "      dtype='object', name='Nutrient')"
      ]
     },
     "execution_count": 92,
     "metadata": {},
     "output_type": "execute_result"
    }
   ],
   "source": [
    "test.columns.get_level_values(1)"
   ]
  },
  {
   "cell_type": "markdown",
   "metadata": {},
   "source": [
    "## make wide table"
   ]
  },
  {
   "cell_type": "code",
   "execution_count": 18,
   "metadata": {},
   "outputs": [],
   "source": [
    "#raw_data_wide = pd.pivot_table(raw_data, index = [\"id\", \"Date\", \"SampleDepth\"], columns = \"Nutrient\", values = \"Concentration\", aggfunc=\"mean\")#.reset_index()"
   ]
  },
  {
   "cell_type": "markdown",
   "metadata": {},
   "source": [
    "## ML data"
   ]
  },
  {
   "cell_type": "code",
   "execution_count": 4,
   "metadata": {},
   "outputs": [],
   "source": [
    "ml_2016 = pd.read_excel(excel_path + \"QC_2016_V28.02.2024.xlsx\", dtype = str)\n",
    "ml_2017 = pd.read_excel(excel_path + \"QC_2017_V28.02.2024.xlsx\", dtype = str)"
   ]
  },
  {
   "cell_type": "code",
   "execution_count": 5,
   "metadata": {},
   "outputs": [],
   "source": [
    "ml_df = pd.concat([ml_2016, ml_2017], axis=0)"
   ]
  },
  {
   "cell_type": "code",
   "execution_count": null,
   "metadata": {},
   "outputs": [],
   "source": [
    "ml_ids = ml_df[\"LOCAL_CDI_ID\"].unique()\n",
    "ispra_ids = raw_data[\"id\"].unique()\n",
    "from_ml_to_ispra = {}\n",
    "for ml_id in ml_ids:\n",
    "    matching_ids = [ispra_id for ispra_id in ispra_ids if ispra_id in ml_id]\n",
    "    from_ml_to_ispra[ml_id] = matching_ids"
   ]
  },
  {
   "cell_type": "code",
   "execution_count": 10,
   "metadata": {},
   "outputs": [],
   "source": [
    "#ml_df[\"LOCAL_CDI_ID\"] = ml_df[\"LOCAL_CDI_ID\"].apply(lambda x: from_ml_to_ispra[x][0])\n",
    "ml_df[\"time_ISO8601\"] = [date.replace(hour=0, minute=0, second=0, microsecond=0) for date in pd.to_datetime(ml_df[\"time_ISO8601\"])]\n",
    "ml_df[\"ADEPZZ01 [Meters]\"] = ml_df[\"ADEPZZ01 [Meters]\"].astype(float)"
   ]
  },
  {
   "cell_type": "code",
   "execution_count": 11,
   "metadata": {},
   "outputs": [],
   "source": [
    "ml_df.rename(columns = {\"time_ISO8601\" : \"Date\", \n",
    "                        \"ADEPZZ01 [Meters]\" : \"SampleDepth\", \n",
    "                        'AMONFID2 [Micromoles per litre]': \"NH4\",\n",
    "                        'QV:SEADATANET.2' : \"QF_NH4\", \n",
    "                        'CPHLFLP1 [Micrograms per litre]' : \"Chla\", \n",
    "                        'QV:SEADATANET.3' : \"QF_Chla\",\n",
    "                        'DOXYSC01 [Micromoles per litre]' : \"DO\", \n",
    "                        'QV:SEADATANET.4' : \"QF_DO\",\n",
    "                        'NTOTZZD2 [Micromoles per litre]' : \"TN\", \n",
    "                        'QV:SEADATANET.5' : \"QF_TN\",\n",
    "                        'NTRAAA04 [Micromoles per litre]' : \"NO3\", \n",
    "                        'QV:SEADATANET.6' : \"QF_NO3\",\n",
    "                        'NTRIAAD2 [Micromoles per litre]' : \"NO2\", \n",
    "                        'QV:SEADATANET.7' : \"QF_NO2\",\n",
    "                        'PHOSAAD2 [Micromoles per litre]' : \"PO4\", \n",
    "                        'QV:SEADATANET.8' : \"QF_PO4\",\n",
    "                        'PSALCC01 [Dimensionless]' : \"Salinity\", \n",
    "                        'QV:SEADATANET.9' : \"QF_Salinity\",\n",
    "                        'SECCSDNX [Metres]' : \"Secchi_depth\",\n",
    "                        'QV:SEADATANET.10' : \"QF_Secchi_depth\",\n",
    "                        'SLCAAAD2 [Micromoles per litre]' : \"SiO4\",\n",
    "                        'QV:SEADATANET.11' : \"QF_SiO4\",\n",
    "                        'TEMPCC01 [Degrees Celsius]' : \"T\", \n",
    "                        'QV:SEADATANET.12' : \"QF_T\",\n",
    "                        'TPHSZZXX [Micromoles per litre]' : \"TP\", \n",
    "                        'QV:SEADATANET.13' : \"QF_TP\",\n",
    "                        \"LOCAL_CDI_ID\" : \"id\"\n",
    "                        }, \n",
    "                        inplace=True)"
   ]
  },
  {
   "cell_type": "code",
   "execution_count": 12,
   "metadata": {},
   "outputs": [
    {
     "data": {
      "text/plain": [
       "Index(['Cruise', 'Station', 'Type', 'yyyy-mm-ddThh:mm:ss.sss',\n",
       "       'Longitude [degrees_east]', 'Latitude [degrees_north]', 'id',\n",
       "       'EDMO_CODE', 'Bot. Depth [m]', 'Date', 'QV:SEADATANET', 'SampleDepth',\n",
       "       'QV:SEADATANET.1', 'NH4', 'QF_NH4', 'Chla', 'QF_Chla', 'DO', 'QF_DO',\n",
       "       'TN', 'QF_TN', 'NO3', 'QF_NO3', 'NO2', 'QF_NO2', 'PO4', 'QF_PO4',\n",
       "       'Salinity', 'QF_Salinity', 'Secchi_depth', 'QF_Secchi_depth', 'SiO4',\n",
       "       'QF_SiO4', 'T', 'QF_T', 'TP', 'QF_TP', 'QV:ODV:SAMPLE'],\n",
       "      dtype='object')"
      ]
     },
     "execution_count": 12,
     "metadata": {},
     "output_type": "execute_result"
    }
   ],
   "source": [
    "ml_df.columns"
   ]
  },
  {
   "cell_type": "code",
   "execution_count": 13,
   "metadata": {},
   "outputs": [],
   "source": [
    "ml_df = ml_df[['id', 'Bot. Depth [m]', 'Date', 'SampleDepth', 'NH4', 'QF_NH4', 'Chla', 'QF_Chla', 'DO', 'QF_DO', 'TN', 'QF_TN', 'NO3', 'QF_NO3', 'NO2', 'QF_NO2', 'PO4', 'QF_PO4', 'Salinity', 'QF_Salinity', 'Secchi_depth', 'QF_Secchi_depth', 'SiO4', 'QF_SiO4', 'T', 'QF_T', 'TP', 'QF_TP']]"
   ]
  },
  {
   "cell_type": "code",
   "execution_count": 14,
   "metadata": {},
   "outputs": [],
   "source": [
    "nutrients = [\"NH4\", \"Chla\", \"DO\", \"TN\", \"NO3\", \"NO2\", \"PO4\", \"Salinity\", \"Secchi_depth\", \"SiO4\", \"T\", \"TP\"]\n",
    "for nutrients in nutrients:\n",
    "    ml_df[nutrients] = ml_df[nutrients].astype(float)"
   ]
  },
  {
   "cell_type": "code",
   "execution_count": 29,
   "metadata": {},
   "outputs": [],
   "source": [
    "ml_df = ml_df.merge(phyto_abundances.loc[:, [\"id\", \"Region\"]].drop_duplicates(), on = \"id\", how = \"left\")"
   ]
  },
  {
   "cell_type": "code",
   "execution_count": 15,
   "metadata": {},
   "outputs": [
    {
     "data": {
      "text/html": [
       "<div>\n",
       "<style scoped>\n",
       "    .dataframe tbody tr th:only-of-type {\n",
       "        vertical-align: middle;\n",
       "    }\n",
       "\n",
       "    .dataframe tbody tr th {\n",
       "        vertical-align: top;\n",
       "    }\n",
       "\n",
       "    .dataframe thead th {\n",
       "        text-align: right;\n",
       "    }\n",
       "</style>\n",
       "<table border=\"1\" class=\"dataframe\">\n",
       "  <thead>\n",
       "    <tr style=\"text-align: right;\">\n",
       "      <th></th>\n",
       "      <th>id</th>\n",
       "      <th>Bot. Depth [m]</th>\n",
       "      <th>Date</th>\n",
       "      <th>SampleDepth</th>\n",
       "      <th>NH4</th>\n",
       "      <th>QF_NH4</th>\n",
       "      <th>Chla</th>\n",
       "      <th>QF_Chla</th>\n",
       "      <th>DO</th>\n",
       "      <th>QF_DO</th>\n",
       "      <th>...</th>\n",
       "      <th>Salinity</th>\n",
       "      <th>QF_Salinity</th>\n",
       "      <th>Secchi_depth</th>\n",
       "      <th>QF_Secchi_depth</th>\n",
       "      <th>SiO4</th>\n",
       "      <th>QF_SiO4</th>\n",
       "      <th>T</th>\n",
       "      <th>QF_T</th>\n",
       "      <th>TP</th>\n",
       "      <th>QF_TP</th>\n",
       "    </tr>\n",
       "  </thead>\n",
       "  <tbody>\n",
       "    <tr>\n",
       "      <th>0</th>\n",
       "      <td>Nutrients_MSFD_16-ITNUT16-MSFD-0000000000000CG...</td>\n",
       "      <td>142</td>\n",
       "      <td>2016-03-16</td>\n",
       "      <td>0.5</td>\n",
       "      <td>0.45</td>\n",
       "      <td>1</td>\n",
       "      <td>0.150</td>\n",
       "      <td>1</td>\n",
       "      <td>246.8750</td>\n",
       "      <td>1</td>\n",
       "      <td>...</td>\n",
       "      <td>37.5548</td>\n",
       "      <td>1</td>\n",
       "      <td>23.5</td>\n",
       "      <td>1</td>\n",
       "      <td>0.81</td>\n",
       "      <td>1</td>\n",
       "      <td>15.1395</td>\n",
       "      <td>1</td>\n",
       "      <td>0.19</td>\n",
       "      <td>1</td>\n",
       "    </tr>\n",
       "    <tr>\n",
       "      <th>1</th>\n",
       "      <td>Nutrients_MSFD_16-ITNUT16-MSFD-0000000000000CG...</td>\n",
       "      <td>142</td>\n",
       "      <td>2016-03-16</td>\n",
       "      <td>1.0</td>\n",
       "      <td>NaN</td>\n",
       "      <td>9</td>\n",
       "      <td>0.070</td>\n",
       "      <td>1</td>\n",
       "      <td>247.1875</td>\n",
       "      <td>1</td>\n",
       "      <td>...</td>\n",
       "      <td>37.5560</td>\n",
       "      <td>1</td>\n",
       "      <td>NaN</td>\n",
       "      <td>9</td>\n",
       "      <td>NaN</td>\n",
       "      <td>9</td>\n",
       "      <td>15.0585</td>\n",
       "      <td>1</td>\n",
       "      <td>NaN</td>\n",
       "      <td>9</td>\n",
       "    </tr>\n",
       "    <tr>\n",
       "      <th>2</th>\n",
       "      <td>Nutrients_MSFD_16-ITNUT16-MSFD-0000000000000CG...</td>\n",
       "      <td>142</td>\n",
       "      <td>2016-03-16</td>\n",
       "      <td>2.0</td>\n",
       "      <td>NaN</td>\n",
       "      <td>9</td>\n",
       "      <td>0.100</td>\n",
       "      <td>1</td>\n",
       "      <td>247.1875</td>\n",
       "      <td>1</td>\n",
       "      <td>...</td>\n",
       "      <td>37.5559</td>\n",
       "      <td>1</td>\n",
       "      <td>NaN</td>\n",
       "      <td>9</td>\n",
       "      <td>NaN</td>\n",
       "      <td>9</td>\n",
       "      <td>15.0469</td>\n",
       "      <td>1</td>\n",
       "      <td>NaN</td>\n",
       "      <td>9</td>\n",
       "    </tr>\n",
       "    <tr>\n",
       "      <th>3</th>\n",
       "      <td>Nutrients_MSFD_16-ITNUT16-MSFD-0000000000000CG...</td>\n",
       "      <td>142</td>\n",
       "      <td>2016-03-16</td>\n",
       "      <td>3.0</td>\n",
       "      <td>NaN</td>\n",
       "      <td>9</td>\n",
       "      <td>0.100</td>\n",
       "      <td>1</td>\n",
       "      <td>247.5000</td>\n",
       "      <td>1</td>\n",
       "      <td>...</td>\n",
       "      <td>37.5536</td>\n",
       "      <td>1</td>\n",
       "      <td>NaN</td>\n",
       "      <td>9</td>\n",
       "      <td>NaN</td>\n",
       "      <td>9</td>\n",
       "      <td>15.0418</td>\n",
       "      <td>1</td>\n",
       "      <td>NaN</td>\n",
       "      <td>9</td>\n",
       "    </tr>\n",
       "    <tr>\n",
       "      <th>4</th>\n",
       "      <td>Nutrients_MSFD_16-ITNUT16-MSFD-0000000000000CG...</td>\n",
       "      <td>142</td>\n",
       "      <td>2016-03-16</td>\n",
       "      <td>4.0</td>\n",
       "      <td>NaN</td>\n",
       "      <td>9</td>\n",
       "      <td>0.140</td>\n",
       "      <td>1</td>\n",
       "      <td>249.3750</td>\n",
       "      <td>1</td>\n",
       "      <td>...</td>\n",
       "      <td>37.5619</td>\n",
       "      <td>1</td>\n",
       "      <td>NaN</td>\n",
       "      <td>9</td>\n",
       "      <td>NaN</td>\n",
       "      <td>9</td>\n",
       "      <td>15.0411</td>\n",
       "      <td>1</td>\n",
       "      <td>NaN</td>\n",
       "      <td>9</td>\n",
       "    </tr>\n",
       "    <tr>\n",
       "      <th>...</th>\n",
       "      <td>...</td>\n",
       "      <td>...</td>\n",
       "      <td>...</td>\n",
       "      <td>...</td>\n",
       "      <td>...</td>\n",
       "      <td>...</td>\n",
       "      <td>...</td>\n",
       "      <td>...</td>\n",
       "      <td>...</td>\n",
       "      <td>...</td>\n",
       "      <td>...</td>\n",
       "      <td>...</td>\n",
       "      <td>...</td>\n",
       "      <td>...</td>\n",
       "      <td>...</td>\n",
       "      <td>...</td>\n",
       "      <td>...</td>\n",
       "      <td>...</td>\n",
       "      <td>...</td>\n",
       "      <td>...</td>\n",
       "      <td>...</td>\n",
       "    </tr>\n",
       "    <tr>\n",
       "      <th>66636</th>\n",
       "      <td>Nutrients_MSFD_17-ITNUT17-MSFD-000000000000070...</td>\n",
       "      <td>26</td>\n",
       "      <td>2017-11-28</td>\n",
       "      <td>23.0</td>\n",
       "      <td>NaN</td>\n",
       "      <td>9</td>\n",
       "      <td>1.386</td>\n",
       "      <td>1</td>\n",
       "      <td>220.8438</td>\n",
       "      <td>1</td>\n",
       "      <td>...</td>\n",
       "      <td>38.2480</td>\n",
       "      <td>1</td>\n",
       "      <td>NaN</td>\n",
       "      <td>9</td>\n",
       "      <td>NaN</td>\n",
       "      <td>9</td>\n",
       "      <td>14.8810</td>\n",
       "      <td>1</td>\n",
       "      <td>NaN</td>\n",
       "      <td>9</td>\n",
       "    </tr>\n",
       "    <tr>\n",
       "      <th>66637</th>\n",
       "      <td>Nutrients_MSFD_17-ITNUT17-MSFD-000000000000070...</td>\n",
       "      <td>26</td>\n",
       "      <td>2017-11-28</td>\n",
       "      <td>24.0</td>\n",
       "      <td>NaN</td>\n",
       "      <td>9</td>\n",
       "      <td>1.447</td>\n",
       "      <td>1</td>\n",
       "      <td>220.6875</td>\n",
       "      <td>1</td>\n",
       "      <td>...</td>\n",
       "      <td>38.2480</td>\n",
       "      <td>1</td>\n",
       "      <td>NaN</td>\n",
       "      <td>9</td>\n",
       "      <td>NaN</td>\n",
       "      <td>9</td>\n",
       "      <td>14.8820</td>\n",
       "      <td>1</td>\n",
       "      <td>NaN</td>\n",
       "      <td>9</td>\n",
       "    </tr>\n",
       "    <tr>\n",
       "      <th>66638</th>\n",
       "      <td>Nutrients_MSFD_17-ITNUT17-MSFD-000000000000070...</td>\n",
       "      <td>26</td>\n",
       "      <td>2017-11-28</td>\n",
       "      <td>25.0</td>\n",
       "      <td>NaN</td>\n",
       "      <td>9</td>\n",
       "      <td>1.498</td>\n",
       "      <td>1</td>\n",
       "      <td>220.6250</td>\n",
       "      <td>1</td>\n",
       "      <td>...</td>\n",
       "      <td>38.2470</td>\n",
       "      <td>1</td>\n",
       "      <td>NaN</td>\n",
       "      <td>9</td>\n",
       "      <td>NaN</td>\n",
       "      <td>9</td>\n",
       "      <td>14.8810</td>\n",
       "      <td>1</td>\n",
       "      <td>NaN</td>\n",
       "      <td>9</td>\n",
       "    </tr>\n",
       "    <tr>\n",
       "      <th>66639</th>\n",
       "      <td>Nutrients_MSFD_17-ITNUT17-MSFD-000000000000070...</td>\n",
       "      <td>26</td>\n",
       "      <td>2017-11-28</td>\n",
       "      <td>26.0</td>\n",
       "      <td>NaN</td>\n",
       "      <td>9</td>\n",
       "      <td>1.652</td>\n",
       "      <td>1</td>\n",
       "      <td>220.2500</td>\n",
       "      <td>1</td>\n",
       "      <td>...</td>\n",
       "      <td>38.2470</td>\n",
       "      <td>1</td>\n",
       "      <td>NaN</td>\n",
       "      <td>9</td>\n",
       "      <td>NaN</td>\n",
       "      <td>9</td>\n",
       "      <td>14.8800</td>\n",
       "      <td>1</td>\n",
       "      <td>NaN</td>\n",
       "      <td>9</td>\n",
       "    </tr>\n",
       "    <tr>\n",
       "      <th>66640</th>\n",
       "      <td>Nutrients_MSFD_17-ITNUT17-MSFD-000000000000070...</td>\n",
       "      <td>26</td>\n",
       "      <td>2017-11-28</td>\n",
       "      <td>0.5</td>\n",
       "      <td>0.55</td>\n",
       "      <td>6</td>\n",
       "      <td>NaN</td>\n",
       "      <td>9</td>\n",
       "      <td>NaN</td>\n",
       "      <td>9</td>\n",
       "      <td>...</td>\n",
       "      <td>NaN</td>\n",
       "      <td>9</td>\n",
       "      <td>NaN</td>\n",
       "      <td>9</td>\n",
       "      <td>5.27</td>\n",
       "      <td>1</td>\n",
       "      <td>NaN</td>\n",
       "      <td>9</td>\n",
       "      <td>0.39</td>\n",
       "      <td>1</td>\n",
       "    </tr>\n",
       "  </tbody>\n",
       "</table>\n",
       "<p>127940 rows × 28 columns</p>\n",
       "</div>"
      ],
      "text/plain": [
       "                                                      id Bot. Depth [m]  \\\n",
       "0      Nutrients_MSFD_16-ITNUT16-MSFD-0000000000000CG...            142   \n",
       "1      Nutrients_MSFD_16-ITNUT16-MSFD-0000000000000CG...            142   \n",
       "2      Nutrients_MSFD_16-ITNUT16-MSFD-0000000000000CG...            142   \n",
       "3      Nutrients_MSFD_16-ITNUT16-MSFD-0000000000000CG...            142   \n",
       "4      Nutrients_MSFD_16-ITNUT16-MSFD-0000000000000CG...            142   \n",
       "...                                                  ...            ...   \n",
       "66636  Nutrients_MSFD_17-ITNUT17-MSFD-000000000000070...             26   \n",
       "66637  Nutrients_MSFD_17-ITNUT17-MSFD-000000000000070...             26   \n",
       "66638  Nutrients_MSFD_17-ITNUT17-MSFD-000000000000070...             26   \n",
       "66639  Nutrients_MSFD_17-ITNUT17-MSFD-000000000000070...             26   \n",
       "66640  Nutrients_MSFD_17-ITNUT17-MSFD-000000000000070...             26   \n",
       "\n",
       "            Date  SampleDepth   NH4 QF_NH4   Chla QF_Chla        DO QF_DO  \\\n",
       "0     2016-03-16          0.5  0.45      1  0.150       1  246.8750     1   \n",
       "1     2016-03-16          1.0   NaN      9  0.070       1  247.1875     1   \n",
       "2     2016-03-16          2.0   NaN      9  0.100       1  247.1875     1   \n",
       "3     2016-03-16          3.0   NaN      9  0.100       1  247.5000     1   \n",
       "4     2016-03-16          4.0   NaN      9  0.140       1  249.3750     1   \n",
       "...          ...          ...   ...    ...    ...     ...       ...   ...   \n",
       "66636 2017-11-28         23.0   NaN      9  1.386       1  220.8438     1   \n",
       "66637 2017-11-28         24.0   NaN      9  1.447       1  220.6875     1   \n",
       "66638 2017-11-28         25.0   NaN      9  1.498       1  220.6250     1   \n",
       "66639 2017-11-28         26.0   NaN      9  1.652       1  220.2500     1   \n",
       "66640 2017-11-28          0.5  0.55      6    NaN       9       NaN     9   \n",
       "\n",
       "       ...  Salinity QF_Salinity  Secchi_depth QF_Secchi_depth  SiO4 QF_SiO4  \\\n",
       "0      ...   37.5548           1          23.5               1  0.81       1   \n",
       "1      ...   37.5560           1           NaN               9   NaN       9   \n",
       "2      ...   37.5559           1           NaN               9   NaN       9   \n",
       "3      ...   37.5536           1           NaN               9   NaN       9   \n",
       "4      ...   37.5619           1           NaN               9   NaN       9   \n",
       "...    ...       ...         ...           ...             ...   ...     ...   \n",
       "66636  ...   38.2480           1           NaN               9   NaN       9   \n",
       "66637  ...   38.2480           1           NaN               9   NaN       9   \n",
       "66638  ...   38.2470           1           NaN               9   NaN       9   \n",
       "66639  ...   38.2470           1           NaN               9   NaN       9   \n",
       "66640  ...       NaN           9           NaN               9  5.27       1   \n",
       "\n",
       "             T QF_T    TP QF_TP  \n",
       "0      15.1395    1  0.19     1  \n",
       "1      15.0585    1   NaN     9  \n",
       "2      15.0469    1   NaN     9  \n",
       "3      15.0418    1   NaN     9  \n",
       "4      15.0411    1   NaN     9  \n",
       "...        ...  ...   ...   ...  \n",
       "66636  14.8810    1   NaN     9  \n",
       "66637  14.8820    1   NaN     9  \n",
       "66638  14.8810    1   NaN     9  \n",
       "66639  14.8800    1   NaN     9  \n",
       "66640      NaN    9  0.39     1  \n",
       "\n",
       "[127940 rows x 28 columns]"
      ]
     },
     "execution_count": 15,
     "metadata": {},
     "output_type": "execute_result"
    }
   ],
   "source": [
    "ml_df"
   ]
  },
  {
   "cell_type": "code",
   "execution_count": 30,
   "metadata": {},
   "outputs": [],
   "source": [
    "nutrients = [\"NH4\", \"Chla\", \"DO\", \"TN\", \"NO3\", \"NO2\", \"PO4\", \"Salinity\", \"Secchi_depth\", \"SiO4\", \"T\", \"TP\"]\n",
    "QF_nutrients = [\"QF_NH4\", \"QF_Chla\", \"QF_DO\", \"QF_TN\", \"QF_NO3\", \"QF_NO2\", \"QF_PO4\", \"QF_Salinity\", \"QF_Secchi_depth\", \"QF_SiO4\", \"QF_T\", \"QF_TP\"]"
   ]
  },
  {
   "cell_type": "code",
   "execution_count": 31,
   "metadata": {},
   "outputs": [],
   "source": [
    "ml_long = pd.DataFrame()\n",
    "for nutrient, QF_nutrient in zip(nutrients, QF_nutrients):\n",
    "    ml_long = pd.concat([ml_long, ml_df.loc[:, [\"id\", \"Region\", \"Date\", \"SampleDepth\", nutrient, QF_nutrient]].rename(columns = {nutrient : \"Concentration\", QF_nutrient : \"QF\"}).dropna(subset = [\"Concentration\"]).assign(Nutrient = nutrient)], axis=0)"
   ]
  },
  {
   "cell_type": "code",
   "execution_count": 33,
   "metadata": {},
   "outputs": [],
   "source": [
    "# keep least deep measurements\n",
    "#ml_long.sort_values([\"Region\", \"id\", \"Date\", \"Nutrient\", \"SampleDepth\"]).drop_duplicates([\"Region\", \"id\", \"Date\", \"Nutrient\"], keep = \"first\", inplace=True)"
   ]
  },
  {
   "cell_type": "markdown",
   "metadata": {},
   "source": [
    "# merge two datasets"
   ]
  },
  {
   "cell_type": "markdown",
   "metadata": {},
   "source": [
    "## analysis"
   ]
  },
  {
   "cell_type": "code",
   "execution_count": 66,
   "metadata": {},
   "outputs": [],
   "source": [
    "max_depth = 10"
   ]
  },
  {
   "cell_type": "code",
   "execution_count": null,
   "metadata": {},
   "outputs": [],
   "source": [
    "ml_long.query(\"SampleDepth < @max_depth\").dropna(subset = [\"Concentration\"])"
   ]
  },
  {
   "cell_type": "code",
   "execution_count": 64,
   "metadata": {},
   "outputs": [],
   "source": [
    "samples_not_in_ml = list(set(raw_data.loc[raw_data[\"Date\"] >= datetime(2016,1,1), ].groupby([\"id\", \"Date\"]).count().index) - (set(ml_df.groupby([\"id\", \"Date\"]).count().index)))\n",
    "samples_not_in_ml = raw_data.set_index([\"id\", \"Date\"]).loc[(samples_not_in_ml), [\"Region\", \"Nutrient\", \"Concentration\", \"SampleDepth\", \"LOD_LOQ_Flag\"]].query(\"SampleDepth < @max_depth\").rename(columns = {\"LOD_LOQ_Flag\" : \"QF\"}).reset_index()"
   ]
  },
  {
   "cell_type": "code",
   "execution_count": 84,
   "metadata": {},
   "outputs": [],
   "source": [
    "samples_2015 = raw_data.loc[raw_data[\"Date\"] <= datetime(2016,1,1), [\"id\", \"Date\", \"Region\", \"Nutrient\", \"Concentration\", \"SampleDepth\", \"LOD_LOQ_Flag\"]].query(\"SampleDepth < @max_depth\").rename(columns = {\"LOD_LOQ_Flag\" : \"QF\"})"
   ]
  },
  {
   "cell_type": "code",
   "execution_count": 85,
   "metadata": {},
   "outputs": [],
   "source": [
    "nut_nor_in_ml = raw_data.loc[(raw_data[\"Date\"] >= datetime(2016,1,1)) & (raw_data[\"Nutrient\"].isin([\"O_sat\", \"E_cond\", \"pH\"])) &(raw_data[\"SampleDepth\"] < max_depth), [\"id\", \"Date\", \"Region\", \"Nutrient\", \"Concentration\", \"SampleDepth\", \"LOD_LOQ_Flag\"]].rename(columns = {\"LOD_LOQ_Flag\" : \"QF\"})"
   ]
  },
  {
   "cell_type": "code",
   "execution_count": 90,
   "metadata": {},
   "outputs": [],
   "source": [
    "df_chem_phys = pd.concat([ml_long, samples_not_in_ml, samples_2015, nut_nor_in_ml], axis=0).drop_duplicates() "
   ]
  },
  {
   "cell_type": "code",
   "execution_count": 212,
   "metadata": {},
   "outputs": [],
   "source": [
    "df_chem_phys.to_csv(_HOME_ + \"/ISPRA_20152017_Analysis/Create_dataset/df_chem_phys.csv\", index=False)"
   ]
  },
  {
   "cell_type": "markdown",
   "metadata": {},
   "source": [
    "## matching phyto samples"
   ]
  },
  {
   "cell_type": "code",
   "execution_count": 180,
   "metadata": {},
   "outputs": [],
   "source": [
    "phyto_samples = phyto_abundances.loc[:, [\"Region\", \"id\", \"Date\"]].drop_duplicates()\n",
    "phyto_samples = phyto_samples.loc[phyto_samples[\"Date\"] <= datetime(2018,1,1), :]\n",
    "ispra_samples = df_chem_phys.loc[:, [\"Region\", \"id\", \"Date\"]].drop_duplicates()"
   ]
  },
  {
   "cell_type": "code",
   "execution_count": 182,
   "metadata": {},
   "outputs": [],
   "source": [
    "cond = (ispra_samples[\"Region\"] == \"Emilia-Romagna\") & ((ispra_samples[\"Date\"] == \"2015-10-05\") | (ispra_samples[\"Date\"] == \"2015-10-09\"))\n",
    "ispra_samples.loc[cond, \"Date\"] = datetime(2015, 9, 30)\n",
    "cond = (ispra_samples[\"Region\"] == \"Marche\") & ((ispra_samples[\"Date\"] == \"2016-03-08\") | (ispra_samples[\"Date\"] == \"2016-03-02\"))\n",
    "ispra_samples.loc[cond, \"Date\"] = datetime(2016, 2, 27)\n",
    "cond = (ispra_samples[\"Region\"] == \"Marche\") & (ispra_samples[\"Date\"].isin([\"2017-04-04\", \"2017-04-05\"]))\n",
    "ispra_samples.loc[cond, \"Date\"] = datetime(2017, 3, 30)\n",
    "cond = (ispra_samples[\"Region\"] == \"Marche\") & (ispra_samples[\"Date\"] == \"2017-05-02\")\n",
    "ispra_samples.loc[cond, \"Date\"] = datetime(2017, 4, 30)\n",
    "cond = (ispra_samples[\"Region\"] == \"Veneto\") & (ispra_samples[\"Date\"] == \"2016-05-05\")\n",
    "ispra_samples.loc[cond, \"Date\"] = datetime(2016, 4, 30)"
   ]
  },
  {
   "cell_type": "code",
   "execution_count": 183,
   "metadata": {},
   "outputs": [],
   "source": [
    "def nearest(items, pivot, key = lambda x, pivot: abs(x - pivot)):\n",
    "    return min(items, key=lambda x: abs(x - pivot))"
   ]
  },
  {
   "cell_type": "code",
   "execution_count": 184,
   "metadata": {},
   "outputs": [],
   "source": [
    "matched_dates = pd.DataFrame()\n",
    "regions = []\n",
    "ids = []\n",
    "pivot_dates = []\n",
    "nearest_dates = []\n",
    "for (group, dates) in phyto_samples.groupby([\"Region\", \"id\"]): \n",
    "    id = group[1]\n",
    "    ispra_dates = ispra_samples.query(\"id == @id\")[\"Date\"].to_numpy()    \n",
    "    for pivot_date in dates[\"Date\"]:\n",
    "        pivot_dates += [pivot_date]\n",
    "        nearest_dates += [nearest(ispra_dates, pivot_date)]\n",
    "        regions += [group[0]]\n",
    "        ids += [id]\n",
    "matched_dates[\"Region\"] = regions\n",
    "matched_dates[\"id\"] = ids\n",
    "matched_dates[\"phyto_dates\"] = pivot_dates\n",
    "matched_dates[\"nearest_dates\"] = nearest_dates\n",
    "        "
   ]
  },
  {
   "cell_type": "code",
   "execution_count": 185,
   "metadata": {},
   "outputs": [
    {
     "data": {
      "text/html": [
       "<div>\n",
       "<style scoped>\n",
       "    .dataframe tbody tr th:only-of-type {\n",
       "        vertical-align: middle;\n",
       "    }\n",
       "\n",
       "    .dataframe tbody tr th {\n",
       "        vertical-align: top;\n",
       "    }\n",
       "\n",
       "    .dataframe thead th {\n",
       "        text-align: right;\n",
       "    }\n",
       "</style>\n",
       "<table border=\"1\" class=\"dataframe\">\n",
       "  <thead>\n",
       "    <tr style=\"text-align: right;\">\n",
       "      <th></th>\n",
       "      <th>Region</th>\n",
       "      <th>id</th>\n",
       "      <th>phyto_dates</th>\n",
       "      <th>nearest_dates</th>\n",
       "    </tr>\n",
       "  </thead>\n",
       "  <tbody>\n",
       "    <tr>\n",
       "      <th>115</th>\n",
       "      <td>Basilicata</td>\n",
       "      <td>M1_SINNI_3</td>\n",
       "      <td>2016-07-18</td>\n",
       "      <td>2016-07-12</td>\n",
       "    </tr>\n",
       "    <tr>\n",
       "      <th>160</th>\n",
       "      <td>Calabria</td>\n",
       "      <td>M1T3A</td>\n",
       "      <td>2017-11-22</td>\n",
       "      <td>2017-08-09</td>\n",
       "    </tr>\n",
       "    <tr>\n",
       "      <th>166</th>\n",
       "      <td>Calabria</td>\n",
       "      <td>M1T3B</td>\n",
       "      <td>2017-11-22</td>\n",
       "      <td>2017-08-09</td>\n",
       "    </tr>\n",
       "    <tr>\n",
       "      <th>172</th>\n",
       "      <td>Calabria</td>\n",
       "      <td>M1T3C</td>\n",
       "      <td>2017-11-22</td>\n",
       "      <td>2017-08-09</td>\n",
       "    </tr>\n",
       "    <tr>\n",
       "      <th>176</th>\n",
       "      <td>Calabria</td>\n",
       "      <td>M1T4A</td>\n",
       "      <td>2017-10-11</td>\n",
       "      <td>2017-10-03</td>\n",
       "    </tr>\n",
       "    <tr>\n",
       "      <th>183</th>\n",
       "      <td>Calabria</td>\n",
       "      <td>M1T4B</td>\n",
       "      <td>2017-10-11</td>\n",
       "      <td>2017-10-03</td>\n",
       "    </tr>\n",
       "    <tr>\n",
       "      <th>190</th>\n",
       "      <td>Calabria</td>\n",
       "      <td>M1T4C</td>\n",
       "      <td>2017-10-11</td>\n",
       "      <td>2017-10-03</td>\n",
       "    </tr>\n",
       "    <tr>\n",
       "      <th>193</th>\n",
       "      <td>Calabria</td>\n",
       "      <td>M1T5A</td>\n",
       "      <td>2017-09-28</td>\n",
       "      <td>2017-07-07</td>\n",
       "    </tr>\n",
       "    <tr>\n",
       "      <th>200</th>\n",
       "      <td>Calabria</td>\n",
       "      <td>M1T5B</td>\n",
       "      <td>2017-09-28</td>\n",
       "      <td>2017-07-07</td>\n",
       "    </tr>\n",
       "    <tr>\n",
       "      <th>207</th>\n",
       "      <td>Calabria</td>\n",
       "      <td>M1T5C</td>\n",
       "      <td>2017-09-28</td>\n",
       "      <td>2017-07-07</td>\n",
       "    </tr>\n",
       "    <tr>\n",
       "      <th>210</th>\n",
       "      <td>Calabria</td>\n",
       "      <td>M1T6A</td>\n",
       "      <td>2017-12-06</td>\n",
       "      <td>2017-08-08</td>\n",
       "    </tr>\n",
       "    <tr>\n",
       "      <th>214</th>\n",
       "      <td>Calabria</td>\n",
       "      <td>M1T6B</td>\n",
       "      <td>2017-12-06</td>\n",
       "      <td>2017-08-08</td>\n",
       "    </tr>\n",
       "    <tr>\n",
       "      <th>218</th>\n",
       "      <td>Calabria</td>\n",
       "      <td>M1T6C</td>\n",
       "      <td>2017-12-06</td>\n",
       "      <td>2017-08-08</td>\n",
       "    </tr>\n",
       "    <tr>\n",
       "      <th>274</th>\n",
       "      <td>Campania</td>\n",
       "      <td>M1FV12</td>\n",
       "      <td>2017-03-03</td>\n",
       "      <td>2017-03-13</td>\n",
       "    </tr>\n",
       "    <tr>\n",
       "      <th>304</th>\n",
       "      <td>Campania</td>\n",
       "      <td>M1FV6</td>\n",
       "      <td>2017-03-03</td>\n",
       "      <td>2017-03-13</td>\n",
       "    </tr>\n",
       "    <tr>\n",
       "      <th>762</th>\n",
       "      <td>Lazio</td>\n",
       "      <td>IT_m1lt01_12</td>\n",
       "      <td>2016-05-27</td>\n",
       "      <td>2016-05-31</td>\n",
       "    </tr>\n",
       "    <tr>\n",
       "      <th>1147</th>\n",
       "      <td>Marche</td>\n",
       "      <td>1E_MS_ES_12</td>\n",
       "      <td>2015-07-30</td>\n",
       "      <td>2015-07-29</td>\n",
       "    </tr>\n",
       "    <tr>\n",
       "      <th>1169</th>\n",
       "      <td>Marche</td>\n",
       "      <td>1E_MS_ES_3</td>\n",
       "      <td>2015-07-30</td>\n",
       "      <td>2015-07-29</td>\n",
       "    </tr>\n",
       "    <tr>\n",
       "      <th>1191</th>\n",
       "      <td>Marche</td>\n",
       "      <td>1E_MS_ES_6</td>\n",
       "      <td>2015-07-30</td>\n",
       "      <td>2015-07-29</td>\n",
       "    </tr>\n",
       "    <tr>\n",
       "      <th>1311</th>\n",
       "      <td>Puglia</td>\n",
       "      <td>3FO02bis</td>\n",
       "      <td>2016-11-22</td>\n",
       "      <td>2016-11-16</td>\n",
       "    </tr>\n",
       "    <tr>\n",
       "      <th>1524</th>\n",
       "      <td>Puglia</td>\n",
       "      <td>9PN04</td>\n",
       "      <td>2017-05-29</td>\n",
       "      <td>2017-07-12</td>\n",
       "    </tr>\n",
       "    <tr>\n",
       "      <th>1653</th>\n",
       "      <td>Sardegna</td>\n",
       "      <td>0129-MS00730_TR06</td>\n",
       "      <td>2016-05-26</td>\n",
       "      <td>2016-05-25</td>\n",
       "    </tr>\n",
       "    <tr>\n",
       "      <th>1809</th>\n",
       "      <td>Sicilia</td>\n",
       "      <td>CGM1A</td>\n",
       "      <td>2017-09-17</td>\n",
       "      <td>2017-09-06</td>\n",
       "    </tr>\n",
       "    <tr>\n",
       "      <th>1820</th>\n",
       "      <td>Sicilia</td>\n",
       "      <td>CGM1B</td>\n",
       "      <td>2017-09-17</td>\n",
       "      <td>2017-09-06</td>\n",
       "    </tr>\n",
       "    <tr>\n",
       "      <th>1831</th>\n",
       "      <td>Sicilia</td>\n",
       "      <td>CGM1C</td>\n",
       "      <td>2017-09-17</td>\n",
       "      <td>2017-09-06</td>\n",
       "    </tr>\n",
       "  </tbody>\n",
       "</table>\n",
       "</div>"
      ],
      "text/plain": [
       "          Region                 id phyto_dates nearest_dates\n",
       "115   Basilicata         M1_SINNI_3  2016-07-18    2016-07-12\n",
       "160     Calabria              M1T3A  2017-11-22    2017-08-09\n",
       "166     Calabria              M1T3B  2017-11-22    2017-08-09\n",
       "172     Calabria              M1T3C  2017-11-22    2017-08-09\n",
       "176     Calabria              M1T4A  2017-10-11    2017-10-03\n",
       "183     Calabria              M1T4B  2017-10-11    2017-10-03\n",
       "190     Calabria              M1T4C  2017-10-11    2017-10-03\n",
       "193     Calabria              M1T5A  2017-09-28    2017-07-07\n",
       "200     Calabria              M1T5B  2017-09-28    2017-07-07\n",
       "207     Calabria              M1T5C  2017-09-28    2017-07-07\n",
       "210     Calabria              M1T6A  2017-12-06    2017-08-08\n",
       "214     Calabria              M1T6B  2017-12-06    2017-08-08\n",
       "218     Calabria              M1T6C  2017-12-06    2017-08-08\n",
       "274     Campania             M1FV12  2017-03-03    2017-03-13\n",
       "304     Campania              M1FV6  2017-03-03    2017-03-13\n",
       "762        Lazio       IT_m1lt01_12  2016-05-27    2016-05-31\n",
       "1147      Marche        1E_MS_ES_12  2015-07-30    2015-07-29\n",
       "1169      Marche         1E_MS_ES_3  2015-07-30    2015-07-29\n",
       "1191      Marche         1E_MS_ES_6  2015-07-30    2015-07-29\n",
       "1311      Puglia           3FO02bis  2016-11-22    2016-11-16\n",
       "1524      Puglia              9PN04  2017-05-29    2017-07-12\n",
       "1653    Sardegna  0129-MS00730_TR06  2016-05-26    2016-05-25\n",
       "1809     Sicilia              CGM1A  2017-09-17    2017-09-06\n",
       "1820     Sicilia              CGM1B  2017-09-17    2017-09-06\n",
       "1831     Sicilia              CGM1C  2017-09-17    2017-09-06"
      ]
     },
     "execution_count": 185,
     "metadata": {},
     "output_type": "execute_result"
    }
   ],
   "source": [
    "matched_dates.query(\"phyto_dates != nearest_dates\")"
   ]
  },
  {
   "cell_type": "code",
   "execution_count": 205,
   "metadata": {},
   "outputs": [],
   "source": [
    "matched_dates = matched_dates.loc[~((matched_dates[\"phyto_dates\"] - matched_dates[\"nearest_dates\"]).dt.days >= 30), :]"
   ]
  },
  {
   "cell_type": "code",
   "execution_count": 208,
   "metadata": {},
   "outputs": [],
   "source": [
    "matched_dates[\"phyto_dates\"] = matched_dates[\"nearest_dates\"] + MonthEnd(0)"
   ]
  },
  {
   "cell_type": "code",
   "execution_count": 210,
   "metadata": {},
   "outputs": [],
   "source": [
    "matched_dates.to_csv(_HOME_ + \"/ISPRA_20152017_Analysis/Create_dataset/matched_dates_phyto_chemphys.csv\", index=False)"
   ]
  },
  {
   "cell_type": "code",
   "execution_count": 217,
   "metadata": {},
   "outputs": [],
   "source": [
    "df_chem_phys = pd.read_csv(_HOME_ + \"/ISPRA_20152017_Analysis/Create_dataset/df_chem_phys.csv\")"
   ]
  },
  {
   "cell_type": "code",
   "execution_count": 220,
   "metadata": {},
   "outputs": [],
   "source": [
    "df_chem_phys[\"Date\"] = pd.to_datetime(df_chem_phys[\"Date\"])"
   ]
  },
  {
   "cell_type": "code",
   "execution_count": 221,
   "metadata": {},
   "outputs": [],
   "source": [
    "cond = (df_chem_phys[\"Region\"] == \"Emilia-Romagna\") & ((df_chem_phys[\"Date\"] == \"2015-10-05\") | (df_chem_phys[\"Date\"] == \"2015-10-09\"))\n",
    "df_chem_phys.loc[cond, \"Date\"] = datetime(2015, 9, 30)\n",
    "cond = (df_chem_phys[\"Region\"] == \"Marche\") & ((df_chem_phys[\"Date\"] == \"2016-03-08\") | (df_chem_phys[\"Date\"] == \"2016-03-02\"))\n",
    "df_chem_phys.loc[cond, \"Date\"] = datetime(2016, 2, 27)\n",
    "cond = (df_chem_phys[\"Region\"] == \"Marche\") & (df_chem_phys[\"Date\"].isin([\"2017-04-04\", \"2017-04-05\"]))\n",
    "df_chem_phys.loc[cond, \"Date\"] = datetime(2017, 3, 30)\n",
    "cond = (df_chem_phys[\"Region\"] == \"Marche\") & (df_chem_phys[\"Date\"] == \"2017-05-02\")\n",
    "df_chem_phys.loc[cond, \"Date\"] = datetime(2017, 4, 30)\n",
    "cond = (df_chem_phys[\"Region\"] == \"Veneto\") & (df_chem_phys[\"Date\"] == \"2016-05-05\")\n",
    "df_chem_phys.loc[cond, \"Date\"] = datetime(2016, 4, 30)"
   ]
  },
  {
   "cell_type": "code",
   "execution_count": 228,
   "metadata": {},
   "outputs": [],
   "source": [
    "df_chem_phys.reset_index(inplace=True)"
   ]
  },
  {
   "cell_type": "code",
   "execution_count": 230,
   "metadata": {},
   "outputs": [],
   "source": [
    "df_chem_phys.to_csv(_HOME_ + \"/ISPRA_20152017_Analysis/Create_dataset/df_chem_phys_mod_data.csv\", index=False)"
   ]
  },
  {
   "cell_type": "markdown",
   "metadata": {},
   "source": [
    "## Clean data"
   ]
  },
  {
   "cell_type": "code",
   "execution_count": 5,
   "metadata": {},
   "outputs": [],
   "source": [
    "df_chem_phys = pd.read_csv(_HOME_ + \"/ISPRA_20152017_Analysis/Create_dataset/df_chem_phys_mod_data.csv\")\n",
    "df_chem_phys[\"id\"] = pd.Categorical(df_chem_phys[\"id\"], categories=ordered_id, ordered=True)\n",
    "df_chem_phys[\"Region\"] = pd.Categorical(df_chem_phys[\"Region\"], categories=ordered_regions, ordered=True)\n",
    "df_chem_phys[\"Date\"] = pd.to_datetime(df_chem_phys[\"Date\"])\n",
    "df_chem_phys[\"SampleDepth\"] = df_chem_phys[\"SampleDepth\"].astype(\"float\")"
   ]
  },
  {
   "cell_type": "markdown",
   "metadata": {},
   "source": [
    "set depth threshold"
   ]
  },
  {
   "cell_type": "code",
   "execution_count": 6,
   "metadata": {},
   "outputs": [],
   "source": [
    "depth_threshold = 2\n",
    "simplified_chem_phys = df_chem_phys.query(\"SampleDepth <= @depth_threshold\")"
   ]
  },
  {
   "cell_type": "code",
   "execution_count": 7,
   "metadata": {},
   "outputs": [],
   "source": [
    "simplified_chem_phys = df_chem_phys.query(\"SampleDepth <= @depth_threshold\")\n",
    "simplified_chem_phys = simplified_chem_phys.loc[~simplified_chem_phys[\"QF\"].isin([\"3\", \"4\"]), :]\n",
    "simplified_chem_phys.loc[:, \"SampleDepth\"] = simplified_chem_phys.loc[:, \"SampleDepth\"].apply(lambda x: round(x * 2) / 2)\n",
    "nutrients = df_chem_phys[\"Nutrient\"].unique()\n",
    "simplified_chem_phys = dict([(nut, simplified_chem_phys.query(\"Nutrient == @nut\")) for nut in nutrients])"
   ]
  },
  {
   "cell_type": "code",
   "execution_count": 8,
   "metadata": {},
   "outputs": [],
   "source": [
    "expression = \"Concentration > 2.5\"\n",
    "nut = \"T\"\n",
    "simplified_chem_phys[nut] = simplified_chem_phys[nut].query(expression)"
   ]
  },
  {
   "cell_type": "code",
   "execution_count": 9,
   "metadata": {},
   "outputs": [],
   "source": [
    "expression = \"Concentration > 25 and Concentration < 200\"\n",
    "nut = \"O_sat\"\n",
    "simplified_chem_phys[nut] = simplified_chem_phys[nut].query(expression)"
   ]
  },
  {
   "cell_type": "code",
   "execution_count": 10,
   "metadata": {},
   "outputs": [],
   "source": [
    "expression = \"Concentration <= 10 and Concentration >= 4\"\n",
    "nut = \"pH\"\n",
    "simplified_chem_phys[nut] = simplified_chem_phys[nut].query(expression)\n",
    "simplified_chem_phys[nut] = simplified_chem_phys[nut].query(\"Region == 'Basilicata' or Concentration > 7\")"
   ]
  },
  {
   "cell_type": "code",
   "execution_count": 11,
   "metadata": {},
   "outputs": [],
   "source": [
    "expression = \"Concentration <= 20 and Concentration >0\"\n",
    "nut = \"Chla\"\n",
    "simplified_chem_phys[nut] = simplified_chem_phys[nut].query(expression)"
   ]
  },
  {
   "cell_type": "code",
   "execution_count": 12,
   "metadata": {},
   "outputs": [],
   "source": [
    "expression = \"Concentration <= 100\"\n",
    "nut = \"NO3\"\n",
    "simplified_chem_phys[nut] = simplified_chem_phys[nut].query(expression)"
   ]
  },
  {
   "cell_type": "code",
   "execution_count": 13,
   "metadata": {},
   "outputs": [],
   "source": [
    "expression = \"Concentration <= 3\"\n",
    "nut = \"PO4\"\n",
    "simplified_chem_phys[nut] = simplified_chem_phys[nut].query(expression)"
   ]
  },
  {
   "cell_type": "code",
   "execution_count": 14,
   "metadata": {},
   "outputs": [],
   "source": [
    "expression = \"Concentration <= 20\"\n",
    "nut = \"NH4\"\n",
    "simplified_chem_phys[nut] = simplified_chem_phys[nut].query(expression)"
   ]
  },
  {
   "cell_type": "code",
   "execution_count": 15,
   "metadata": {},
   "outputs": [],
   "source": [
    "expression = \"Concentration <= 5\"\n",
    "nut = \"TP\"\n",
    "simplified_chem_phys[nut] = simplified_chem_phys[nut].query(expression)"
   ]
  },
  {
   "cell_type": "code",
   "execution_count": 16,
   "metadata": {},
   "outputs": [],
   "source": [
    "expression = \"Concentration <= 150\"\n",
    "nut = \"TN\"\n",
    "simplified_chem_phys[nut] = simplified_chem_phys[nut].query(expression)"
   ]
  },
  {
   "cell_type": "code",
   "execution_count": 17,
   "metadata": {},
   "outputs": [],
   "source": [
    "expression = \"Concentration <= 60\"\n",
    "nut = \"SiO4\"\n",
    "simplified_chem_phys[nut] = simplified_chem_phys[nut].query(expression)"
   ]
  },
  {
   "cell_type": "code",
   "execution_count": 18,
   "metadata": {},
   "outputs": [],
   "source": [
    "expression = \"Concentration <= 6\"\n",
    "nut = \"NO2\"\n",
    "simplified_chem_phys[nut] = simplified_chem_phys[nut].query(expression)"
   ]
  },
  {
   "cell_type": "code",
   "execution_count": 19,
   "metadata": {},
   "outputs": [],
   "source": [
    "expression = \"Concentration >= 100\"\n",
    "nut = \"DO\"\n",
    "simplified_chem_phys[nut].loc[:, \"Concentration\"] = simplified_chem_phys[nut].loc[:, \"Concentration\"].apply(lambda x: x * 0.0821 * 298.15 if x < 100 else x)\n",
    "simplified_chem_phys[nut] = simplified_chem_phys[nut].query(expression)"
   ]
  },
  {
   "cell_type": "code",
   "execution_count": 20,
   "metadata": {},
   "outputs": [],
   "source": [
    "expression = \"Concentration >= 15\"\n",
    "nut = \"Salinity\"\n",
    "simplified_chem_phys[nut] = simplified_chem_phys[nut].query(expression)"
   ]
  },
  {
   "cell_type": "code",
   "execution_count": 21,
   "metadata": {},
   "outputs": [],
   "source": [
    "for nut in nutrients: \n",
    "    good = ((simplified_chem_phys[nut][\"QF\"] == \"1\")| (simplified_chem_phys[nut][\"QF\"].isna()))\n",
    "    simplified_chem_phys[nut].loc[good, \"QF\"] = 1\n",
    "    simplified_chem_phys[nut].loc[~good, \"QF\"] = 0"
   ]
  },
  {
   "cell_type": "code",
   "execution_count": 22,
   "metadata": {},
   "outputs": [],
   "source": [
    "for nut in [\"Chla\", \"NO3\", \"NO2\", \"NH4\", \"TP\", \"PO4\", \"TN\", \"SiO4\"]: \n",
    "    # set to zero concentrations below level of detectability    # set to randon number values below level of quantification\n",
    "    selection = simplified_chem_phys[nut][\"QF\"].isin([\"<\", \"Q\", \"6\", \"[\"])\n",
    "    simplified_chem_phys[nut].loc[selection, \"Concentration\"] = simplified_chem_phys[nut].loc[selection, \"Concentration\"].apply(lambda x: np.random.uniform(0, x))"
   ]
  },
  {
   "cell_type": "code",
   "execution_count": 23,
   "metadata": {},
   "outputs": [
    {
     "name": "stderr",
     "output_type": "stream",
     "text": [
      "/tmp/ipykernel_40750/3557895676.py:7: FutureWarning: The default value of observed=False is deprecated and will change to observed=True in a future version of pandas. Specify observed=False to silence this warning and retain the current behavior\n",
      "  env_long = pd.concat(modified_dfs, axis=0).pivot_table(index=[\"Region\", \"id\", \"Date\"], columns=\"Nutrient\", values=\"Concentration\", aggfunc=\"mean\")\n"
     ]
    }
   ],
   "source": [
    "modified_dfs = []\n",
    "for key, df in simplified_chem_phys.items():\n",
    "        # Rename the 'nutrient' column to the key name\n",
    "        df_renamed = df.rename(columns={'nutrient': key})\n",
    "        # Append the modified DataFrame to the list\n",
    "        modified_dfs.append(df_renamed)\n",
    "env_long = pd.concat(modified_dfs, axis=0).pivot_table(index=[\"Region\", \"id\", \"Date\"], columns=\"Nutrient\", values=\"Concentration\", aggfunc=\"mean\")"
   ]
  },
  {
   "cell_type": "code",
   "execution_count": 24,
   "metadata": {},
   "outputs": [],
   "source": [
    "env_long[\"N_ratio\"] = (env_long[\"NO3\"] + env_long[\"NH4\"] + env_long[\"NO2\"]) / env_long[\"TN\"]\n",
    "env_long[\"P_ratio\"] = env_long[\"PO4\"] / env_long[\"TP\"]"
   ]
  },
  {
   "cell_type": "code",
   "execution_count": 25,
   "metadata": {},
   "outputs": [],
   "source": [
    "env_long = env_long.loc[(env_long[\"N_ratio\"] < 1.15) & (env_long[\"P_ratio\"] < 1.15), :]"
   ]
  },
  {
   "cell_type": "code",
   "execution_count": 26,
   "metadata": {},
   "outputs": [],
   "source": [
    "env_long.to_csv(\n",
    "    _HOME_ + \"/ISPRA_20152017_Analysis/Create_dataset/df_chem_phys_mod_data_cleaned.csv\"\n",
    ")"
   ]
  }
 ],
 "metadata": {
  "kernelspec": {
   "display_name": "base",
   "language": "python",
   "name": "python3"
  },
  "language_info": {
   "codemirror_mode": {
    "name": "ipython",
    "version": 3
   },
   "file_extension": ".py",
   "mimetype": "text/x-python",
   "name": "python",
   "nbconvert_exporter": "python",
   "pygments_lexer": "ipython3",
   "version": "3.11.9"
  }
 },
 "nbformat": 4,
 "nbformat_minor": 2
}
