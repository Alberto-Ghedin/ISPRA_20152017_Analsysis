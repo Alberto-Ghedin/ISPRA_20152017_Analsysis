{
 "cells": [
  {
   "cell_type": "code",
   "execution_count": null,
   "metadata": {},
   "outputs": [],
   "source": []
  },
  {
   "cell_type": "code",
   "execution_count": null,
   "metadata": {},
   "outputs": [],
   "source": [
    "def print_tree(Tree : ClusterNode):\n",
    "    if Tree is None: \n",
    "        return\n",
    "    print(Tree.__dict__)\n",
    "    print_tree(Tree.left)\n",
    "    print_tree(Tree.right) "
   ]
  },
  {
   "cell_type": "code",
   "execution_count": null,
   "metadata": {},
   "outputs": [],
   "source": [
    "def insert_id(Tree : ClusterNode, id_members : list): \n",
    "    if Tree.left is None and Tree.right is None:\n",
    "        id_members.append(Tree.id) \n",
    "        return None\n",
    "    insert_id(Tree.left, id_members)\n",
    "    insert_id(Tree.right, id_members)\n",
    "\n",
    "def find_id_members(Node : ClusterNode) -> np.ndarray: \n",
    "    id_members = []\n",
    "    insert_id(Node, id_members)\n",
    "    return id_members\n",
    "\n",
    "def insert_node(Tree : ClusterNode, list_of_nodes : list[ClusterNode],  to_depth : int, current_depth : int): \n",
    "    break_condition = (current_depth == to_depth) or (Tree.left is None and Tree.right is None)\n",
    "    if break_condition: \n",
    "        list_of_nodes.append(Tree)\n",
    "        return None\n",
    "    insert_node(Tree.left, list_of_nodes, to_depth, current_depth + 1)\n",
    "    insert_node(Tree.right, list_of_nodes, to_depth, current_depth + 1)\n",
    "    \n",
    "def find_nodes(Tree : ClusterNode, to_depth : int) -> list[ClusterNode]: \n",
    "    nodes = []\n",
    "    insert_node(Tree, nodes, to_depth, 0)\n",
    "    return nodes"
   ]
  },
  {
   "cell_type": "code",
   "execution_count": null,
   "metadata": {},
   "outputs": [],
   "source": [
    "def plot_dendrogram(model, **kwargs):\n",
    "    # Create linkage matrix and then plot the dendrogram\n",
    "\n",
    "    linkage_matrix = build_linkage_matrix(model)\n",
    "\n",
    "    # Plot the corresponding dendrogram\n",
    "    return dendrogram(linkage_matrix, **kwargs)"
   ]
  },
  {
   "cell_type": "code",
   "execution_count": null,
   "metadata": {},
   "outputs": [],
   "source": [
    "def labels_from_tree(points : np.ndarray, tree : ClusterNode, n_clusters : int = 2): \n",
    "    #maximum tree depth that has to be reached (root is at level zero)\n",
    "    depth = int(np.log2(n_clusters))  \n",
    "\n",
    "    list_of_cluster_members = []\n",
    "    for node in find_nodes(tree, depth): \n",
    "        list_of_cluster_members.append(find_id_members(node))\n",
    "\n",
    "    dict_points_labels ={}\n",
    "    for i, members in enumerate(list_of_cluster_members): \n",
    "        for member in members: \n",
    "            dict_points_labels[member] = i\n",
    "\n",
    "    labels = list(map(lambda i : dict_points_labels[i], range(points.shape[0])))\n",
    "\n",
    "    return labels"
   ]
  },
  {
   "cell_type": "code",
   "execution_count": null,
   "metadata": {},
   "outputs": [],
   "source": [
    "def make_cluster_label(ids : np.ndarray, labels : list, complete_column : np.ndarray) -> list[object]: \n",
    "    id_label = {}\n",
    "    for id, label in zip(ids, labels): \n",
    "        id_label[id] = label\n",
    "    return [id_label[id] for id in complete_column]"
   ]
  },
  {
   "cell_type": "code",
   "execution_count": null,
   "metadata": {},
   "outputs": [],
   "source": [
    "clustering = AgglomerativeClustering(linkage=\"ward\", distance_threshold = 0.5, n_clusters=None).fit(points)\n",
    "link_matrix = build_linkage_matrix(clustering)\n",
    "Tree = to_tree(link_matrix)\n",
    "stations_grouped = df_lat_long_stations.dropna().loc[:,[\"Longitude\", \"Latitude\"]].groupby(by = clustering.labels_).mean().to_numpy()"
   ]
  },
  {
   "cell_type": "code",
   "execution_count": null,
   "metadata": {},
   "outputs": [],
   "source": [
    "fig, ax = plt.subplots(1,1, figsize=(9,6))\n",
    "colors = make_colors_from_labels(clustering.labels_)\n",
    "plot_italian_coast(ax, (x_pen, x_sic, x_sard), (y_pen, y_sic, y_sard), alpha = 0.5)\n",
    "ax.scatter(*points.T, color=colors, alpha = 1.0)\n",
    "ax.set_xlabel(\"Longitude\")\n",
    "ax.set_ylabel(\"Latitude\")\n",
    "ax.set_title(\"ARPA Stations\")"
   ]
  },
  {
   "cell_type": "code",
   "execution_count": null,
   "metadata": {},
   "outputs": [],
   "source": [
    "fig, ax = plt.subplots(1,1, figsize=(9,6))\n",
    "colors = make_colors_from_labels(range(stations_grouped.shape[0]))\n",
    "plot_italian_coast(ax, (x_pen, x_sic, x_sard), (y_pen, y_sic, y_sard), alpha = 0.5)\n",
    "ax.scatter(*stations_grouped.T, color=colors, alpha = 1.0)\n",
    "ax.set_xlabel(\"Longitude\")\n",
    "ax.set_ylabel(\"Latitude\")\n",
    "ax.set_title(\"ARPA Stations (grouped)\")"
   ]
  },
  {
   "cell_type": "code",
   "execution_count": null,
   "metadata": {},
   "outputs": [],
   "source": [
    "#cluster_label = make_cluster_label(\n",
    "#    df_lat_long_stations.dropna().loc[:,\"id\"].to_numpy(), \n",
    "#    clustering.labels_, \n",
    "#    phyto_abundances_simplified.loc[:,\"id\"].to_numpy()\n",
    "#    )\n",
    "#taxon_num_grouped = phyto_abundances_simplified.loc[: , [\"Taxon\", \"Num_cell_l\"]].groupby(by = cluster_label)"
   ]
  }
 ],
 "metadata": {
  "language_info": {
   "name": "python"
  },
  "orig_nbformat": 4
 },
 "nbformat": 4,
 "nbformat_minor": 2
}
